{
 "cells": [
  {
   "cell_type": "markdown",
   "id": "952c5f69-f5f9-4c3b-bdce-c91ef7f8d50f",
   "metadata": {},
   "source": [
    "# Get climate mode data for desired months"
   ]
  },
  {
   "cell_type": "code",
   "execution_count": null,
   "id": "1734d91c-42da-4589-a32e-222a1fa4f5b9",
   "metadata": {},
   "outputs": [],
   "source": [
    "from dask_jobqueue import PBSCluster\n",
    "from dask.distributed import Client"
   ]
  },
  {
   "cell_type": "code",
   "execution_count": null,
   "id": "a18ad589-da87-4f9b-8478-3228846c5f4b",
   "metadata": {},
   "outputs": [],
   "source": [
    "# One node on Gadi has 48 cores - try and use up a full core before going to multiple nodes (jobs)\n",
    "\n",
    "walltime = '00:20:00'\n",
    "cores = 2\n",
    "memory = '8GB'\n",
    "\n",
    "cluster = PBSCluster(walltime=str(walltime), cores=cores, memory=str(memory),\n",
    "                     job_extra=['-l ncpus='+str(cores),\n",
    "                                '-l mem='+str(memory),\n",
    "                                '-P xv83',\n",
    "                                '-l storage=gdata/xv83+gdata/rt52+scratch/xv83'],\n",
    "                     header_skip=[\"select\"])"
   ]
  },
  {
   "cell_type": "code",
   "execution_count": null,
   "id": "aed0d856-b7e6-4cfa-8f00-d29e8f7a54b8",
   "metadata": {},
   "outputs": [],
   "source": [
    "cluster.scale(jobs=1)\n",
    "client = Client(cluster)"
   ]
  },
  {
   "cell_type": "code",
   "execution_count": null,
   "id": "58d3a2a8-34ff-4833-8661-b7716e9adc6f",
   "metadata": {},
   "outputs": [],
   "source": [
    "client"
   ]
  },
  {
   "cell_type": "code",
   "execution_count": null,
   "id": "07a1c82e-a505-4a5d-b7a8-2b01b0e98417",
   "metadata": {},
   "outputs": [],
   "source": [
    "import xarray as xr\n",
    "import numpy as np\n",
    "import pandas as pd"
   ]
  },
  {
   "cell_type": "code",
   "execution_count": null,
   "id": "b5e000f3-0782-49c9-8047-214277d1f0c5",
   "metadata": {},
   "outputs": [],
   "source": [
    "import functions as fn"
   ]
  },
  {
   "cell_type": "code",
   "execution_count": null,
   "id": "5b7da3c6-8439-43c5-8ed1-95a074ada322",
   "metadata": {},
   "outputs": [],
   "source": [
    "%load_ext autoreload\n",
    "%autoreload 2"
   ]
  },
  {
   "cell_type": "markdown",
   "id": "a11a699b-eb4e-4d1a-aef2-d25e3d97bcf3",
   "metadata": {},
   "source": [
    "# Load coffee data"
   ]
  },
  {
   "cell_type": "code",
   "execution_count": null,
   "id": "0b3ef497-a44c-412d-8f59-0af99b6581b7",
   "metadata": {},
   "outputs": [],
   "source": [
    "growing_calendar = pd.read_csv('/g/data/xv83/dr6273/work/projects/coffee/data/coffee_country_growing_calendar_extended.csv',\n",
    "                               index_col=0)\n",
    "growing_calendar.head()"
   ]
  },
  {
   "cell_type": "markdown",
   "id": "350fe7b3-bd5c-434d-a59f-ec7a7352974c",
   "metadata": {},
   "source": [
    "# Process climate modes"
   ]
  },
  {
   "cell_type": "code",
   "execution_count": null,
   "id": "d6c0cb78-49a2-4b05-bd33-ff0fcd03ba5f",
   "metadata": {},
   "outputs": [],
   "source": [
    "sst_dataset = 'hadisst'"
   ]
  },
  {
   "cell_type": "markdown",
   "id": "d397e4f2-1ed5-403d-99a5-93186f85e56a",
   "metadata": {},
   "source": [
    "### Nino3.4"
   ]
  },
  {
   "cell_type": "code",
   "execution_count": null,
   "id": "aa77ce8a-24a3-43c1-8436-d025cd0f62b3",
   "metadata": {},
   "outputs": [],
   "source": [
    "nino34 = xr.open_zarr('/g/data/xv83/dr6273/work/data/'+sst_dataset+'/climate_modes/'+sst_dataset+'_nino34_1979-2020.zarr',\n",
    "                      consolidated=True)"
   ]
  },
  {
   "cell_type": "code",
   "execution_count": null,
   "id": "fa3c75be-52a5-4877-a283-051024447324",
   "metadata": {},
   "outputs": [],
   "source": [
    "fn.process_and_write(ds=nino34,\n",
    "                     dataset=sst_dataset,\n",
    "                     var='nino34',\n",
    "                     event_list=[['Flowering', 'both_tails', '1_std'],\n",
    "                                 ['Growing', 'both_tails', '1_std']],\n",
    "                     detrend=False,\n",
    "                     coffee_df=growing_calendar,\n",
    "                     spatial_field=False)"
   ]
  },
  {
   "cell_type": "code",
   "execution_count": null,
   "id": "df4dbb7b-781a-4fdf-96c6-cdd3d20a4d7a",
   "metadata": {},
   "outputs": [],
   "source": [
    "fn.process_and_write(ds=nino34,\n",
    "                     dataset=sst_dataset,\n",
    "                     var='nino34_detrended',\n",
    "                     event_list=[['Flowering', 'both_tails', '1_std'],\n",
    "                                 ['Growing', 'both_tails', '1_std']],\n",
    "                     detrend=False,\n",
    "                     coffee_df=growing_calendar,\n",
    "                     spatial_field=False)"
   ]
  },
  {
   "cell_type": "markdown",
   "id": "066f484d-bc85-4d47-9866-e1b72e98db4f",
   "metadata": {},
   "source": [
    "### DMI"
   ]
  },
  {
   "cell_type": "code",
   "execution_count": null,
   "id": "8bae56cf-7943-4a46-b207-2b76ad42d4d0",
   "metadata": {},
   "outputs": [],
   "source": [
    "dmi = xr.open_zarr('/g/data/xv83/dr6273/work/data/'+sst_dataset+'/climate_modes/'+sst_dataset+'_dmi_1979-2020.zarr',\n",
    "                   consolidated=True)"
   ]
  },
  {
   "cell_type": "code",
   "execution_count": null,
   "id": "f7c77ab6-9764-46f5-b40e-571a805406bc",
   "metadata": {},
   "outputs": [],
   "source": [
    "fn.process_and_write(ds=dmi,\n",
    "                     dataset=sst_dataset,\n",
    "                     var='dmi',\n",
    "                     event_list=[['Flowering', 'both_tails', '1_std'],\n",
    "                                 ['Growing', 'both_tails', '1_std']],\n",
    "                     detrend=False,\n",
    "                     coffee_df=growing_calendar,\n",
    "                     spatial_field=False)"
   ]
  },
  {
   "cell_type": "code",
   "execution_count": null,
   "id": "41b8b3c9-82a5-487f-91af-7dd59d86efd2",
   "metadata": {},
   "outputs": [],
   "source": [
    "fn.process_and_write(ds=dmi,\n",
    "                     dataset=sst_dataset,\n",
    "                     var='dmi_detrended',\n",
    "                     event_list=[['Flowering', 'both_tails', '1_std'],\n",
    "                                 ['Growing', 'both_tails', '1_std']],\n",
    "                     detrend=False,\n",
    "                     coffee_df=growing_calendar,\n",
    "                     spatial_field=False)"
   ]
  },
  {
   "cell_type": "markdown",
   "id": "753c08b8-cb08-45c6-87ff-c55898bf6ff1",
   "metadata": {},
   "source": [
    "### Atlantic Nino"
   ]
  },
  {
   "cell_type": "code",
   "execution_count": null,
   "id": "bc0a8f0a-9074-4678-86ff-63dc35c9d4c4",
   "metadata": {},
   "outputs": [],
   "source": [
    "atl_nino = xr.open_zarr('/g/data/xv83/dr6273/work/data/'+sst_dataset+'/climate_modes/'+sst_dataset+'_atl_nino_1979-2020.zarr',\n",
    "                        consolidated=True)"
   ]
  },
  {
   "cell_type": "code",
   "execution_count": null,
   "id": "7d8d362c-c0d5-438f-881e-c6c936fdbbe1",
   "metadata": {},
   "outputs": [],
   "source": [
    "fn.process_and_write(ds=atl_nino,\n",
    "                     dataset=sst_dataset,\n",
    "                     var='atl_nino',\n",
    "                     event_list=[['Flowering', 'both_tails', '1_std'],\n",
    "                                 ['Growing', 'both_tails', '1_std']],\n",
    "                     detrend=False,\n",
    "                     coffee_df=growing_calendar,\n",
    "                     spatial_field=False)"
   ]
  },
  {
   "cell_type": "code",
   "execution_count": null,
   "id": "59a62c2a-bc93-4215-a835-11eb43a62611",
   "metadata": {},
   "outputs": [],
   "source": [
    "fn.process_and_write(ds=atl_nino,\n",
    "                     dataset=sst_dataset,\n",
    "                     var='atl_nino_detrended',\n",
    "                     event_list=[['Flowering', 'both_tails', '1_std'],\n",
    "                                 ['Growing', 'both_tails', '1_std']],\n",
    "                     detrend=False,\n",
    "                     coffee_df=growing_calendar,\n",
    "                     spatial_field=False)"
   ]
  },
  {
   "cell_type": "markdown",
   "id": "cc138f5c-fac9-4d56-9fed-6ee6db6f7539",
   "metadata": {
    "tags": []
   },
   "source": [
    "### TNA"
   ]
  },
  {
   "cell_type": "code",
   "execution_count": null,
   "id": "c439e3aa-3bf6-4eff-89f0-73d2eb605214",
   "metadata": {},
   "outputs": [],
   "source": [
    "tna = xr.open_zarr('/g/data/xv83/dr6273/work/data/'+sst_dataset+'/climate_modes/'+sst_dataset+'_tna_1979-2020.zarr',\n",
    "                   consolidated=True)"
   ]
  },
  {
   "cell_type": "code",
   "execution_count": null,
   "id": "ddb7a443-8b8c-4419-849d-801e600c79e4",
   "metadata": {},
   "outputs": [],
   "source": [
    "fn.process_and_write(ds=tna,\n",
    "                     dataset=sst_dataset,\n",
    "                     var='tna',\n",
    "                     event_list=[['Flowering', 'both_tails', '1_std'],\n",
    "                                 ['Growing', 'both_tails', '1_std']],\n",
    "                     detrend=False,\n",
    "                     coffee_df=growing_calendar,\n",
    "                     spatial_field=False)"
   ]
  },
  {
   "cell_type": "code",
   "execution_count": null,
   "id": "a9fb68ac-3df8-47e6-80f4-aef9117b2328",
   "metadata": {},
   "outputs": [],
   "source": [
    "fn.process_and_write(ds=tna,\n",
    "                     dataset=sst_dataset,\n",
    "                     var='tna_detrended',\n",
    "                     event_list=[['Flowering', 'both_tails', '1_std'],\n",
    "                                 ['Growing', 'both_tails', '1_std']],\n",
    "                     detrend=False,\n",
    "                     coffee_df=growing_calendar,\n",
    "                     spatial_field=False)"
   ]
  },
  {
   "cell_type": "markdown",
   "id": "cbbb3660-5794-484d-8eef-58d2568eb6a8",
   "metadata": {
    "tags": []
   },
   "source": [
    "### TSA"
   ]
  },
  {
   "cell_type": "code",
   "execution_count": null,
   "id": "aeb8813c-c08f-456d-8971-3a6de210ae53",
   "metadata": {},
   "outputs": [],
   "source": [
    "tsa = xr.open_zarr('/g/data/xv83/dr6273/work/data/'+sst_dataset+'/climate_modes/'+sst_dataset+'_tsa_1979-2020.zarr',\n",
    "                   consolidated=True)"
   ]
  },
  {
   "cell_type": "code",
   "execution_count": null,
   "id": "89321a8b-0b17-4f74-990f-a06ebdcbe458",
   "metadata": {},
   "outputs": [],
   "source": [
    "fn.process_and_write(ds=tsa,\n",
    "                     dataset=sst_dataset,\n",
    "                     var='tsa',\n",
    "                     event_list=[['Flowering', 'both_tails', '1_std'],\n",
    "                                 ['Growing', 'both_tails', '1_std']],\n",
    "                     detrend=False,\n",
    "                     coffee_df=growing_calendar,\n",
    "                     spatial_field=False)"
   ]
  },
  {
   "cell_type": "code",
   "execution_count": null,
   "id": "bd8616d1-48a9-4a96-85f6-fa5bd243a19a",
   "metadata": {},
   "outputs": [],
   "source": [
    "fn.process_and_write(ds=tsa,\n",
    "                     dataset=sst_dataset,\n",
    "                     var='tsa_detrended',\n",
    "                     event_list=[['Flowering', 'both_tails', '1_std'],\n",
    "                                 ['Growing', 'both_tails', '1_std']],\n",
    "                     detrend=False,\n",
    "                     coffee_df=growing_calendar,\n",
    "                     spatial_field=False)"
   ]
  },
  {
   "cell_type": "markdown",
   "id": "63687151-f757-4d25-9ab8-6139c2896825",
   "metadata": {
    "tags": []
   },
   "source": [
    "### MJO"
   ]
  },
  {
   "cell_type": "markdown",
   "id": "48b22401-5d17-4c0d-81bd-0cf6239edd31",
   "metadata": {},
   "source": [
    "Compute these statistics:\n",
    "- Number of days in each phase per coffee season (i.e. growing/flowering)\n",
    "- Average magnitude during each phase over season"
   ]
  },
  {
   "cell_type": "code",
   "execution_count": null,
   "id": "9954a5f5-3011-4378-957e-670177872285",
   "metadata": {},
   "outputs": [],
   "source": [
    "mjo_anoms = xr.open_zarr('/g/data/xv83/dr6273/work/data/era5/climate_modes/mjo_monthly_anoms_1979-2020.zarr',\n",
    "                       consolidated=True)"
   ]
  },
  {
   "cell_type": "code",
   "execution_count": null,
   "id": "7dbc0e91-558f-40a2-9ff8-60f95fdbd54d",
   "metadata": {},
   "outputs": [],
   "source": [
    "mjo_anoms_dt = xr.open_zarr('/g/data/xv83/dr6273/work/data/era5/climate_modes/mjo_monthly_anoms_1979-2020_detrended.zarr',\n",
    "                          consolidated=True)"
   ]
  },
  {
   "cell_type": "code",
   "execution_count": null,
   "id": "08cb041e-00b4-4c0c-92ad-de4b16991d99",
   "metadata": {},
   "outputs": [],
   "source": [
    "fn.process_and_write(ds=mjo_anoms,\n",
    "                     dataset='era5',\n",
    "                     var='mjo_days_per_month',\n",
    "                     event_list=[['Flowering', 'both_tails', '1_std'],\n",
    "                                 ['Growing', 'both_tails', '1_std']],\n",
    "                     detrend=False,\n",
    "                     coffee_df=growing_calendar,\n",
    "                     spatial_field=False)"
   ]
  },
  {
   "cell_type": "code",
   "execution_count": null,
   "id": "6402db99-454a-4ad2-be8f-e3b82816bba0",
   "metadata": {},
   "outputs": [],
   "source": [
    "fn.process_and_write(ds=mjo_anoms,\n",
    "                     dataset='era5',\n",
    "                     var='mjo_mean_amplitude',\n",
    "                     event_list=[['Flowering', 'both_tails', '1_std'],\n",
    "                                 ['Growing', 'both_tails', '1_std']],\n",
    "                     detrend=False,\n",
    "                     coffee_df=growing_calendar,\n",
    "                     spatial_field=False)"
   ]
  },
  {
   "cell_type": "code",
   "execution_count": null,
   "id": "fd181485-a299-4586-8625-0b7804dfc9d3",
   "metadata": {},
   "outputs": [],
   "source": [
    "fn.process_and_write(ds=mjo_anoms_dt,\n",
    "                     dataset='era5',\n",
    "                     var='mjo_days_per_month_detrended',\n",
    "                     event_list=[['Flowering', 'both_tails', '1_std'],\n",
    "                                 ['Growing', 'both_tails', '1_std']],\n",
    "                     detrend=False,\n",
    "                     coffee_df=growing_calendar,\n",
    "                     spatial_field=False)"
   ]
  },
  {
   "cell_type": "code",
   "execution_count": null,
   "id": "b135c8cc-a2e8-4c19-9487-29af1e2b78ce",
   "metadata": {},
   "outputs": [],
   "source": [
    "fn.process_and_write(ds=mjo_anoms_dt,\n",
    "                     dataset='era5',\n",
    "                     var='mjo_mean_amplitude_detrended',\n",
    "                     event_list=[['Flowering', 'both_tails', '1_std'],\n",
    "                                 ['Growing', 'both_tails', '1_std']],\n",
    "                     detrend=False,\n",
    "                     coffee_df=growing_calendar,\n",
    "                     spatial_field=False)"
   ]
  },
  {
   "cell_type": "markdown",
   "id": "11e3ed95-75ca-405b-80be-7294b707a3b4",
   "metadata": {},
   "source": [
    "# Close cluster"
   ]
  },
  {
   "cell_type": "code",
   "execution_count": null,
   "id": "1e454cbf-8774-4e83-98fe-cb0972ebeef6",
   "metadata": {},
   "outputs": [],
   "source": [
    "client.close()\n",
    "cluster.close()"
   ]
  },
  {
   "cell_type": "code",
   "execution_count": null,
   "id": "5233fe5b-1bab-4202-8a44-566dfb2ef7c0",
   "metadata": {},
   "outputs": [],
   "source": []
  }
 ],
 "metadata": {
  "kernelspec": {
   "display_name": "Python 3",
   "language": "python",
   "name": "python3"
  },
  "language_info": {
   "codemirror_mode": {
    "name": "ipython",
    "version": 3
   },
   "file_extension": ".py",
   "mimetype": "text/x-python",
   "name": "python",
   "nbconvert_exporter": "python",
   "pygments_lexer": "ipython3",
   "version": "3.9.4"
  }
 },
 "nbformat": 4,
 "nbformat_minor": 5
}
