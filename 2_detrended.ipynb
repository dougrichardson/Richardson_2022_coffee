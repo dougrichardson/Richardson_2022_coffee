{
 "cells": [
  {
   "cell_type": "markdown",
   "id": "4facf40f-9c97-4f3c-b0b8-082249fe9757",
   "metadata": {},
   "source": [
    "# Detrended analysis"
   ]
  },
  {
   "cell_type": "code",
   "execution_count": null,
   "id": "f7aebb7b-7652-43b5-90cd-083eece89ec6",
   "metadata": {},
   "outputs": [],
   "source": [
    "from dask_jobqueue import PBSCluster\n",
    "from dask.distributed import Client"
   ]
  },
  {
   "cell_type": "code",
   "execution_count": null,
   "id": "7249303e-369c-4878-9603-64891cf4ac9c",
   "metadata": {},
   "outputs": [],
   "source": [
    "# One node on Gadi has 48 cores - try and use up a full core before going to multiple nodes (jobs)\n",
    "\n",
    "walltime = '00:30:00'\n",
    "cores = 2\n",
    "memory = '8GB'\n",
    "\n",
    "cluster = PBSCluster(walltime=str(walltime), cores=cores, memory=str(memory),\n",
    "                     job_extra=['-l ncpus='+str(cores),\n",
    "                                '-l mem='+str(memory),\n",
    "                                '-P xv83',\n",
    "                                '-l storage=gdata/xv83+gdata/rt52+scratch/xv83'],\n",
    "                     header_skip=[\"select\"])"
   ]
  },
  {
   "cell_type": "code",
   "execution_count": null,
   "id": "d788bdd1-cc3f-48f2-9d1d-0429bb068a91",
   "metadata": {},
   "outputs": [],
   "source": [
    "cluster.scale(jobs=1)\n",
    "client = Client(cluster)"
   ]
  },
  {
   "cell_type": "code",
   "execution_count": null,
   "id": "74c018ff-c6c2-486a-8cc8-e63db0c34226",
   "metadata": {},
   "outputs": [],
   "source": [
    "client"
   ]
  },
  {
   "cell_type": "code",
   "execution_count": null,
   "id": "b85df005-fa88-4615-b15f-aa9a4d667904",
   "metadata": {},
   "outputs": [],
   "source": [
    "%load_ext autoreload\n",
    "%autoreload 2"
   ]
  },
  {
   "cell_type": "code",
   "execution_count": null,
   "id": "b5fd02c5-7d25-442f-b746-5ec891ea56e6",
   "metadata": {},
   "outputs": [],
   "source": [
    "import xarray as xr\n",
    "import numpy as np\n",
    "import pandas as pd\n",
    "import regionmask\n",
    "import copy\n",
    "\n",
    "import matplotlib\n",
    "import matplotlib.pyplot as plt\n",
    "\n",
    "import cartopy.crs as ccrs\n",
    "import cartopy\n",
    "cartopy.config['pre_existing_data_dir'] = '/g/data/xv83/dr6273/work/data/cartopy-data'\n",
    "cartopy.config['data_dir'] = '/g/data/xv83/dr6273/work/data/cartopy-data'\n",
    "\n",
    "import functions as fn"
   ]
  },
  {
   "cell_type": "code",
   "execution_count": null,
   "id": "2a384bd6-ea2e-44e0-a2a4-0d0cdaf87508",
   "metadata": {},
   "outputs": [],
   "source": [
    "plt_params = fn.get_plot_params()"
   ]
  },
  {
   "cell_type": "code",
   "execution_count": null,
   "id": "c14fe5fd-3852-4b4c-a581-76a0c68c04c1",
   "metadata": {},
   "outputs": [],
   "source": [
    "# default colours\n",
    "prop_cycle = plt.rcParams['axes.prop_cycle']\n",
    "colors = prop_cycle.by_key()['color']"
   ]
  },
  {
   "cell_type": "markdown",
   "id": "caa817f4-17c9-42e6-9dc1-25bb69ee47e5",
   "metadata": {},
   "source": [
    "# Load coffee data"
   ]
  },
  {
   "cell_type": "code",
   "execution_count": null,
   "id": "e632d2a3-d7c0-43d4-a8f6-bcbadc2b19d2",
   "metadata": {},
   "outputs": [],
   "source": [
    "# Order abbrevs and names by species and production\n",
    "country_order = fn.get_country_order()"
   ]
  },
  {
   "cell_type": "code",
   "execution_count": null,
   "id": "0fed21df-cb87-4672-9d90-a85b2bb7847a",
   "metadata": {},
   "outputs": [],
   "source": [
    "growing_calendar = pd.read_csv('/g/data/xv83/dr6273/work/projects/coffee/data/coffee_country_growing_calendar_extended.csv',\n",
    "                               index_col=0)\n",
    "growing_calendar.head()"
   ]
  },
  {
   "cell_type": "code",
   "execution_count": null,
   "id": "4c724faa-0b6e-4e4c-99ae-01c8773d9142",
   "metadata": {},
   "outputs": [],
   "source": [
    "arabica_abbrevs = np.unique(growing_calendar.loc[(growing_calendar.species == 'Arabica'), 'abbrevs'])\n",
    "robusta_abbrevs = np.unique(growing_calendar.loc[(growing_calendar.species == 'Robusta'), 'abbrevs'])"
   ]
  },
  {
   "cell_type": "markdown",
   "id": "be8fd30a-df7a-45d4-94e6-beded1bbdd1c",
   "metadata": {},
   "source": [
    "# Gridded climate data relevant for each phase of coffee (growing and flowering)"
   ]
  },
  {
   "cell_type": "markdown",
   "id": "6e658220-3e6b-43f4-9f08-9059e32db6fe",
   "metadata": {},
   "source": [
    "### VPD\n",
    "- Relative threshold of $\\mathrm{VPD} > \\mu + \\sigma$"
   ]
  },
  {
   "cell_type": "code",
   "execution_count": null,
   "id": "3de2d426-3a77-48b5-b9a3-fe6d44473fb3",
   "metadata": {},
   "outputs": [],
   "source": [
    "vpd_flowering = xr.open_zarr('/g/data/xv83/dr6273/work/projects/coffee/data/era5_vpd_detrended_Flowering_upper_tail_1_std.zarr',\n",
    "                             consolidated=True)\n",
    "vpd_growing = xr.open_zarr('/g/data/xv83/dr6273/work/projects/coffee/data/era5_vpd_detrended_Growing_upper_tail_1_std.zarr',\n",
    "                              consolidated=True)"
   ]
  },
  {
   "cell_type": "markdown",
   "id": "90c3b640-6b6f-47da-bddd-b8677533694b",
   "metadata": {
    "tags": []
   },
   "source": [
    "### Tmin averages\n",
    "- For Robusta:\n",
    "    - Relative threshold of $T_\\mathrm{min} > \\mu + \\sigma$ in the growing season, and  $T_\\mathrm{min} < \\mu - \\sigma$ in the flowering season."
   ]
  },
  {
   "cell_type": "code",
   "execution_count": null,
   "id": "a7d7fe1c-1bf1-4695-9077-12548db8b1fe",
   "metadata": {},
   "outputs": [],
   "source": [
    "mn2t_flowering = xr.open_zarr('/g/data/xv83/dr6273/work/projects/coffee/data/berkeley_tmin_detrended_Flowering_lower_tail_1_std.zarr',\n",
    "                             consolidated=True)\n",
    "mn2t_growing = xr.open_zarr('/g/data/xv83/dr6273/work/projects/coffee/data/berkeley_tmin_detrended_Growing_upper_tail_1_std.zarr',\n",
    "                              consolidated=True)"
   ]
  },
  {
   "cell_type": "markdown",
   "id": "a133c015-a8d0-4855-a53b-0f44b170a4b9",
   "metadata": {},
   "source": [
    "### Tmax averages\n",
    "- For Arabica:\n",
    "    - Absolute threshold of $T_\\mathrm{max} > \\mu + \\sigma$ in the growing season"
   ]
  },
  {
   "cell_type": "code",
   "execution_count": null,
   "id": "db714f87-6409-4e5c-bb62-8181eefc2c08",
   "metadata": {},
   "outputs": [],
   "source": [
    "mx2t_growing = xr.open_zarr('/g/data/xv83/dr6273/work/projects/coffee/data/berkeley_tmax_detrended_Growing_upper_tail_1_std.zarr',\n",
    "                                  consolidated=True)"
   ]
  },
  {
   "cell_type": "markdown",
   "id": "32b5f259-dba1-4786-b981-e84c8318af4e",
   "metadata": {},
   "source": [
    "### T averages"
   ]
  },
  {
   "cell_type": "code",
   "execution_count": null,
   "id": "37bc3ce7-f1b6-48dc-9c1c-dbc0bc83f848",
   "metadata": {},
   "outputs": [],
   "source": [
    "t2m_lt_growing_optimal = xr.open_zarr('/g/data/xv83/dr6273/work/projects/coffee/data/berkeley_temperature_detrended_Growing_lower_tail_1_std.zarr',\n",
    "                                             consolidated=True)"
   ]
  },
  {
   "cell_type": "code",
   "execution_count": null,
   "id": "ab37dc4b-e16b-468b-8c2b-ba33bdcf42af",
   "metadata": {},
   "outputs": [],
   "source": [
    "t2m_ut_growing_optimal = xr.open_zarr('/g/data/xv83/dr6273/work/projects/coffee/data/berkeley_temperature_detrended_Growing_upper_tail_1_std.zarr',\n",
    "                                             consolidated=True)"
   ]
  },
  {
   "cell_type": "markdown",
   "id": "6ff344c6-463f-4fa5-b6b0-6dabd0dc78b5",
   "metadata": {
    "tags": []
   },
   "source": [
    "### Precip"
   ]
  },
  {
   "cell_type": "code",
   "execution_count": null,
   "id": "15d32c04-3fd8-472c-a783-fbcc03eee559",
   "metadata": {},
   "outputs": [],
   "source": [
    "tp_lt_growing_optimal = xr.open_zarr('/g/data/xv83/dr6273/work/projects/coffee/data/gpcc_precip_detrended_Annual_lower_tail_1_std.zarr',\n",
    "                                             consolidated=True)"
   ]
  },
  {
   "cell_type": "code",
   "execution_count": null,
   "id": "b22d48ce-a0d0-4c16-b2d4-3354b7d73c26",
   "metadata": {},
   "outputs": [],
   "source": [
    "tp_ut_growing_optimal = xr.open_zarr('/g/data/xv83/dr6273/work/projects/coffee/data/gpcc_precip_detrended_Annual_upper_tail_1_std.zarr',\n",
    "                                             consolidated=True)"
   ]
  },
  {
   "cell_type": "markdown",
   "id": "a7a2c393-7d65-45fb-83e6-a5306bbb3320",
   "metadata": {},
   "source": [
    "### Proportion of each country, and global coffee area, in drought each year"
   ]
  },
  {
   "cell_type": "code",
   "execution_count": null,
   "id": "0e65df0d-147f-45d2-aecc-829ddaadd3d8",
   "metadata": {},
   "outputs": [],
   "source": [
    "vpd_grid_template = 'era5'\n",
    "temperature_grid_template = 'berkeley'\n",
    "precip_grid_template = 'gpcc'"
   ]
  },
  {
   "cell_type": "markdown",
   "id": "a2437a16-40e9-48a1-a709-27b70d0cb12d",
   "metadata": {},
   "source": [
    "### VPD events"
   ]
  },
  {
   "cell_type": "code",
   "execution_count": null,
   "id": "8c063c9b-ea6a-4f36-bf7e-6062d04598bd",
   "metadata": {},
   "outputs": [],
   "source": [
    "vpd_flowering_events = fn.calculate_event_statistics(vpd_flowering, vpd_grid_template).compute()"
   ]
  },
  {
   "cell_type": "code",
   "execution_count": null,
   "id": "4988a8f0-c4b6-4c8a-a7bc-8594403a2d4b",
   "metadata": {},
   "outputs": [],
   "source": [
    "vpd_growing_events = fn.calculate_event_statistics(vpd_growing, vpd_grid_template).compute()"
   ]
  },
  {
   "cell_type": "markdown",
   "id": "d1166f60-b200-4ffd-887a-2de31984ca5e",
   "metadata": {},
   "source": [
    "### Tmin averages events"
   ]
  },
  {
   "cell_type": "code",
   "execution_count": null,
   "id": "8ae89df3-11f2-4743-9fad-1f13f4ac919f",
   "metadata": {},
   "outputs": [],
   "source": [
    "mn2t_flowering_events = fn.calculate_event_statistics(mn2t_flowering, temperature_grid_template).compute()"
   ]
  },
  {
   "cell_type": "code",
   "execution_count": null,
   "id": "97b9ee08-a2d1-4dc2-86f6-520074c56ad2",
   "metadata": {},
   "outputs": [],
   "source": [
    "mn2t_growing_events = fn.calculate_event_statistics(mn2t_growing, temperature_grid_template).compute()"
   ]
  },
  {
   "cell_type": "markdown",
   "id": "4feaecba-38b1-42ea-8d42-692a43b6fb87",
   "metadata": {},
   "source": [
    "### Tmax averages events"
   ]
  },
  {
   "cell_type": "code",
   "execution_count": null,
   "id": "2ca78907-acdf-4f58-a748-38ce70921bc6",
   "metadata": {},
   "outputs": [],
   "source": [
    "mx2t_growing_events = fn.calculate_event_statistics(mx2t_growing, temperature_grid_template).compute()"
   ]
  },
  {
   "cell_type": "markdown",
   "id": "cedc6a34-6faa-4c95-9e42-71c8c00d3344",
   "metadata": {
    "tags": []
   },
   "source": [
    "### T ranges events"
   ]
  },
  {
   "cell_type": "code",
   "execution_count": null,
   "id": "3fb00082-ab4c-4493-8b06-b56265bbd4a1",
   "metadata": {},
   "outputs": [],
   "source": [
    "t2m_lt_growing_optimal_events = fn.calculate_event_statistics(t2m_lt_growing_optimal, temperature_grid_template).compute()"
   ]
  },
  {
   "cell_type": "code",
   "execution_count": null,
   "id": "51eb3643-5686-496c-a705-df1758c18500",
   "metadata": {},
   "outputs": [],
   "source": [
    "t2m_ut_growing_optimal_events = fn.calculate_event_statistics(t2m_ut_growing_optimal, temperature_grid_template).compute()"
   ]
  },
  {
   "cell_type": "markdown",
   "id": "2df65e20-358c-4f4b-9ca3-2bd2ab0567cf",
   "metadata": {
    "tags": []
   },
   "source": [
    "### Precip ranges events"
   ]
  },
  {
   "cell_type": "code",
   "execution_count": null,
   "id": "40986b49-9d4a-4432-a11c-3566e55eff19",
   "metadata": {},
   "outputs": [],
   "source": [
    "tp_lt_growing_optimal_events = fn.calculate_event_statistics(tp_lt_growing_optimal, precip_grid_template).compute()"
   ]
  },
  {
   "cell_type": "code",
   "execution_count": null,
   "id": "c7c50486-c641-4cd5-a245-45eb81b461de",
   "metadata": {},
   "outputs": [],
   "source": [
    "tp_ut_growing_optimal_events = fn.calculate_event_statistics(tp_ut_growing_optimal, precip_grid_template).compute()"
   ]
  },
  {
   "cell_type": "markdown",
   "id": "9b6f8f52-a9ce-4d3d-a871-7d204771a4ef",
   "metadata": {},
   "source": [
    "# Sanity check some figures from previous notebook"
   ]
  },
  {
   "cell_type": "code",
   "execution_count": null,
   "id": "65fe44d9-e458-41bc-9f7e-c225624b3453",
   "metadata": {},
   "outputs": [],
   "source": [
    "# Select relevant countries for each species and concat\n",
    "arabica_season_ids = [s for s in mn2t_growing_events.season_id.values if s.split('_')[0] in arabica_abbrevs]\n",
    "robusta_season_ids = [s for s in mn2t_growing_events.season_id.values if s.split('_')[0] in robusta_abbrevs]"
   ]
  },
  {
   "cell_type": "code",
   "execution_count": null,
   "id": "f1ce5d01-2cfe-4f5e-b7d5-1245ab175ab5",
   "metadata": {},
   "outputs": [],
   "source": [
    "gpcc_mask = fn.get_combined_mask('gpcc')"
   ]
  },
  {
   "cell_type": "code",
   "execution_count": null,
   "id": "12d496f9-73b7-4b9c-a551-327ddb91bd6b",
   "metadata": {},
   "outputs": [],
   "source": [
    "# Remove duplicate Colombia and Uganda\n",
    "country_subset = copy.deepcopy(country_order)\n",
    "country_subset.pop('CO_2')\n",
    "country_subset.pop('UG_13')\n",
    "country_subset = list(country_subset.keys())\n",
    "\n",
    "arabica_subset = [i for i in country_subset if i in arabica_season_ids]\n",
    "robusta_subset = [i for i in country_subset if i in robusta_season_ids]"
   ]
  },
  {
   "cell_type": "code",
   "execution_count": null,
   "id": "dc41e592-d5d5-412c-a200-5f9e0ebfd783",
   "metadata": {},
   "outputs": [],
   "source": [
    "vpd_tmin_fl = xr.concat([vpd_growing.sel(season_id=arabica_subset).event_1_std,\n",
    "                         mn2t_flowering.sel(season_id=robusta_subset).event_1_std],\n",
    "                        dim='season_id').to_dataset(name='event_1_std')\n",
    "\n",
    "tmax_tmin_gr = xr.concat([mx2t_growing.sel(season_id=arabica_subset).event_1_std,\n",
    "                          mn2t_growing.sel(season_id=robusta_subset).event_1_std],\n",
    "                        dim='season_id').to_dataset(name='event_1_std')"
   ]
  },
  {
   "cell_type": "code",
   "execution_count": null,
   "id": "82eee42d-a550-4121-a89e-d9c26a0ab39d",
   "metadata": {},
   "outputs": [],
   "source": [
    "pretty_biophysical_thresholds = [r'$\\mathrm{VPD}_{\\mathrm{gr}}^{\\mathrm{d}} > \\mu + \\sigma$',\n",
    "                                 r'$T_{\\mathrm{max, gr}}^{\\mathrm{d}} > \\mu + \\sigma$',\n",
    "                                 r'$T_{\\mathrm{min, fl}}^{\\mathrm{d}} < \\mu - \\sigma$',\n",
    "                                 r'$T_{\\mathrm{min, gr}}^{\\mathrm{d}} > \\mu + \\sigma$',\n",
    "                                 r'$T_{\\mathrm{gr}}^{\\mathrm{d}} < \\mu - \\sigma$',\n",
    "                                 r'$T_{\\mathrm{gr}}^{\\mathrm{d}} > \\mu + \\sigma$',\n",
    "                                 r'$T_{\\mathrm{gr}}^{\\mathrm{d}} < \\mu - \\sigma$',\n",
    "                                 r'$T_{\\mathrm{gr}}^{\\mathrm{d}} > \\mu + \\sigma$',\n",
    "                                 r'$P_{\\mathrm{an}}^{\\mathrm{d}} < \\mu - \\sigma$',\n",
    "                                 r'$P_{\\mathrm{an}}^{\\mathrm{d}} > \\mu + \\sigma$',\n",
    "                                 r'$P_{\\mathrm{an}}^{\\mathrm{d}} < \\mu - \\sigma$',\n",
    "                                 r'$P_{\\mathrm{an}}^{\\mathrm{d}} > \\mu + \\sigma$']"
   ]
  },
  {
   "cell_type": "code",
   "execution_count": null,
   "id": "b763b57e-8705-46e9-a531-44513c4d79bb",
   "metadata": {},
   "outputs": [],
   "source": [
    "keys = ['__'.join([pretty_biophysical_thresholds[0], pretty_biophysical_thresholds[2]]),\n",
    "        '__'.join([pretty_biophysical_thresholds[1], pretty_biophysical_thresholds[3]]),\n",
    "        '__'.join([pretty_biophysical_thresholds[4], pretty_biophysical_thresholds[6]]),\n",
    "        '__'.join([pretty_biophysical_thresholds[5], pretty_biophysical_thresholds[7]]),\n",
    "        '__'.join([pretty_biophysical_thresholds[8], pretty_biophysical_thresholds[10]]),\n",
    "        '__'.join([pretty_biophysical_thresholds[9], pretty_biophysical_thresholds[11]])]"
   ]
  },
  {
   "cell_type": "code",
   "execution_count": null,
   "id": "0fea3d6a-ab4b-4d49-b0b8-28df0801bd0e",
   "metadata": {},
   "outputs": [],
   "source": [
    "# Prepare arrays\n",
    "var_dict = {keys[0]: vpd_tmin_fl.rename({'event_1_std': 'event'}),\n",
    "            keys[1]: tmax_tmin_gr.rename({'event_1_std': 'event'}),\n",
    "            keys[2]: t2m_lt_growing_optimal.rename({'event_1_std': 'event'}).sel(season_id=country_subset),\n",
    "            keys[3]: t2m_ut_growing_optimal.rename({'event_1_std': 'event'}).sel(season_id=country_subset),\n",
    "            keys[4]: tp_lt_growing_optimal.rename({'event_1_std': 'event'}).sel(season_id=country_subset),\n",
    "            keys[5]: tp_ut_growing_optimal.rename({'event_1_std': 'event'}).sel(season_id=country_subset)}"
   ]
  },
  {
   "cell_type": "code",
   "execution_count": null,
   "id": "68f4fd32-2535-4872-ad9f-52f91e3e5333",
   "metadata": {},
   "outputs": [],
   "source": [
    "fn.risks_map('events', var_dict, 'event', country_subset, dataset='gpcc', save_fig=False,\n",
    "            filename='event_frequency_map_detrended.pdf')"
   ]
  },
  {
   "cell_type": "code",
   "execution_count": null,
   "id": "2aa40304-3f13-4432-b427-3bf14857ab23",
   "metadata": {},
   "outputs": [],
   "source": [
    "plot_dict_list = [\n",
    "    {\n",
    "             'da1': xr.concat([vpd_growing_events.sel(season_id=arabica_season_ids),\n",
    "                               mn2t_flowering_events.sel(season_id=robusta_season_ids)],\n",
    "                             dim='season_id'),\n",
    "             'da2': xr.concat([mx2t_growing_events.sel(season_id=arabica_season_ids),\n",
    "                               mn2t_growing_events.sel(season_id=robusta_season_ids)],\n",
    "                             dim='season_id'),\n",
    "             'event_categories_1': ['Neither', pretty_biophysical_thresholds[0], pretty_biophysical_thresholds[1], 'Both'],\n",
    "             'event_categories_2': ['Neither', pretty_biophysical_thresholds[2], pretty_biophysical_thresholds[3], 'Both'],\n",
    "             'cmap_max': 512,\n",
    "             'title': r'$\\mathrm{\\bf{a}}$ $\\mathrm{VPD}_{\\mathrm{gr}}$ and $T_{\\mathrm{max, gr}}$ (Arabica); $T_{\\mathrm{min, fl}}$ and $T_{\\mathrm{min, gr}}$ (Robusta)'\n",
    "    },\n",
    "    {\n",
    "             'da1': t2m_lt_growing_optimal_events,\n",
    "             'da2': t2m_ut_growing_optimal_events,\n",
    "             'event_categories_1': ['Neither', pretty_biophysical_thresholds[4], pretty_biophysical_thresholds[5]],\n",
    "             'event_categories_2': ['Neither', pretty_biophysical_thresholds[6], pretty_biophysical_thresholds[7]],\n",
    "             'cmap_max': 341,\n",
    "             'title': r'$\\mathrm{\\bf{b}}$ $T_{\\mathrm{gr}}$'\n",
    "    },\n",
    "    {\n",
    "             'da1': tp_lt_growing_optimal_events,\n",
    "             'da2': tp_ut_growing_optimal_events,\n",
    "             'event_categories_1': ['Neither', pretty_biophysical_thresholds[8], pretty_biophysical_thresholds[9]],\n",
    "             'event_categories_2': ['Neither', pretty_biophysical_thresholds[10], pretty_biophysical_thresholds[11]],\n",
    "             'cmap_max': 341,\n",
    "             'title': r'$\\mathrm{\\bf{c}}$ $P_{\\mathrm{an}}$'\n",
    "    }\n",
    "]"
   ]
  },
  {
   "cell_type": "code",
   "execution_count": null,
   "id": "aed3d4a3-a2c4-4e12-976a-2d0ef284b950",
   "metadata": {},
   "outputs": [],
   "source": [
    "fn.plot_combined_phase_extremes(plot_dict_list, y_order=country_order, save_fig=False,\n",
    "                                filename='country_events_detrended.pdf')"
   ]
  },
  {
   "cell_type": "markdown",
   "id": "295b6ef4-2b74-401d-a5a9-162e05fd999e",
   "metadata": {},
   "source": [
    "### Sign so that hot and dry events are distinct from wet and cold"
   ]
  },
  {
   "cell_type": "code",
   "execution_count": null,
   "id": "396733c5-16ce-47f8-bb98-75c9cd275e5c",
   "metadata": {},
   "outputs": [],
   "source": [
    "arabica_risks = {\n",
    "                 'VPD > x': vpd_growing_events.sel(time=slice('1980', '2020')).sel(season_id=arabica_season_ids),\n",
    "                 'Tmax > x': mx2t_growing_events.sel(time=slice('1980', '2020')).sel(season_id=arabica_season_ids),\n",
    "                 'T < x': t2m_lt_growing_optimal_events.sel(time=slice('1980', '2020')).sel(season_id=arabica_season_ids),\n",
    "                 'T > x': t2m_ut_growing_optimal_events.sel(time=slice('1980', '2020')).sel(season_id=arabica_season_ids),\n",
    "                 'P < x': tp_lt_growing_optimal_events.sel(time=slice('1980', '2020')).sel(season_id=arabica_season_ids),\n",
    "                 'P > x': tp_ut_growing_optimal_events.sel(time=slice('1980', '2020')).sel(season_id=arabica_season_ids)\n",
    "                }"
   ]
  },
  {
   "cell_type": "code",
   "execution_count": null,
   "id": "ef491ac0-0f4c-4ad5-9c08-ab202e66551b",
   "metadata": {},
   "outputs": [],
   "source": [
    "robusta_risks = {\n",
    "                 'Tmin fl < x': mn2t_flowering_events.sel(time=slice('1980', '2020')).sel(season_id=robusta_season_ids),\n",
    "                 'Tmin gr > x': mn2t_growing_events.sel(time=slice('1980', '2020')).sel(season_id=robusta_season_ids),\n",
    "                 'T < x': t2m_lt_growing_optimal_events.sel(time=slice('1980', '2020')).sel(season_id=robusta_season_ids),\n",
    "                 'T > x': t2m_ut_growing_optimal_events.sel(time=slice('1980', '2020')).sel(season_id=robusta_season_ids),\n",
    "                 'P < x': tp_lt_growing_optimal_events.sel(time=slice('1980', '2020')).sel(season_id=robusta_season_ids),\n",
    "                 'P > x': tp_ut_growing_optimal_events.sel(time=slice('1980', '2020')).sel(season_id=robusta_season_ids)\n",
    "                }"
   ]
  },
  {
   "cell_type": "code",
   "execution_count": null,
   "id": "8d747a12-97c4-4784-a956-160315f0a35b",
   "metadata": {},
   "outputs": [],
   "source": [
    "signed_arabica_risks = copy.deepcopy(arabica_risks)\n",
    "signed_arabica_risks['T < x'] *= -1\n",
    "signed_arabica_risks['P > x'] *= -1"
   ]
  },
  {
   "cell_type": "code",
   "execution_count": null,
   "id": "3269248a-ba82-40ae-8f81-962e53aa5b80",
   "metadata": {},
   "outputs": [],
   "source": [
    "signed_robusta_risks = copy.deepcopy(robusta_risks)\n",
    "signed_robusta_risks['Tmin fl < x'] *= -1\n",
    "signed_robusta_risks['T < x'] *= -1\n",
    "signed_robusta_risks['P > x'] *= -1"
   ]
  },
  {
   "cell_type": "code",
   "execution_count": null,
   "id": "f43a7556-8648-465f-b39d-ee9d3d679546",
   "metadata": {},
   "outputs": [],
   "source": [
    "fn.plot_n_signed_events([arabica_risks, robusta_risks],\n",
    "                        [signed_arabica_risks, signed_robusta_risks],\n",
    "                        y_order=country_order,\n",
    "                        save_fig=True, filename='signed_events_detrended.pdf')"
   ]
  },
  {
   "cell_type": "markdown",
   "id": "39264293-d4d7-4170-96f3-7227070c8450",
   "metadata": {},
   "source": [
    "# Close cluster"
   ]
  },
  {
   "cell_type": "code",
   "execution_count": null,
   "id": "d20436fc-96a8-4627-a0c3-953fa254ec16",
   "metadata": {},
   "outputs": [],
   "source": [
    "client.close()\n",
    "cluster.close()"
   ]
  },
  {
   "cell_type": "code",
   "execution_count": null,
   "id": "8592ad1e-048f-4a78-8d49-27e491852df5",
   "metadata": {},
   "outputs": [],
   "source": []
  }
 ],
 "metadata": {
  "kernelspec": {
   "display_name": "Python 3",
   "language": "python",
   "name": "python3"
  },
  "language_info": {
   "codemirror_mode": {
    "name": "ipython",
    "version": 3
   },
   "file_extension": ".py",
   "mimetype": "text/x-python",
   "name": "python",
   "nbconvert_exporter": "python",
   "pygments_lexer": "ipython3",
   "version": "3.9.4"
  }
 },
 "nbformat": 4,
 "nbformat_minor": 5
}
