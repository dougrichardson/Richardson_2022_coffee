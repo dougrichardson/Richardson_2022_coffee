{
 "cells": [
  {
   "cell_type": "markdown",
   "id": "f69a5f66",
   "metadata": {},
   "source": [
    "# Load, manipulate and save desired climate information"
   ]
  },
  {
   "cell_type": "code",
   "execution_count": null,
   "id": "4c5ee031",
   "metadata": {},
   "outputs": [],
   "source": [
    "from dask_jobqueue import PBSCluster\n",
    "from dask.distributed import Client"
   ]
  },
  {
   "cell_type": "code",
   "execution_count": null,
   "id": "88870d87",
   "metadata": {},
   "outputs": [],
   "source": [
    "# One node on Gadi has 48 cores - try and use up a full node before going to multiple nodes (jobs)\n",
    "\n",
    "walltime = '00:30:00'\n",
    "cores = 48\n",
    "memory = str(4 * cores)\n",
    "memory = memory + 'GB'\n",
    "\n",
    "cluster = PBSCluster(walltime=str(walltime), cores=cores, memory=str(memory),\n",
    "                     job_extra=['-l ncpus='+str(cores),\n",
    "                                '-l mem='+str(memory),\n",
    "                                '-P xv83',\n",
    "                                '-l storage=gdata/xv83+gdata/rt52+scratch/xv83'],\n",
    "                     header_skip=[\"select\"])"
   ]
  },
  {
   "cell_type": "code",
   "execution_count": null,
   "id": "5212d15e",
   "metadata": {},
   "outputs": [],
   "source": [
    "cluster.scale(jobs=1)\n",
    "client = Client(cluster)"
   ]
  },
  {
   "cell_type": "code",
   "execution_count": null,
   "id": "48c19870",
   "metadata": {},
   "outputs": [],
   "source": [
    "client"
   ]
  },
  {
   "cell_type": "code",
   "execution_count": null,
   "id": "390f3327",
   "metadata": {},
   "outputs": [],
   "source": [
    "import xarray as xr\n",
    "import numpy as np\n",
    "import pandas as pd\n",
    "import os\n",
    "\n",
    "import matplotlib\n",
    "import matplotlib.pyplot as plt"
   ]
  },
  {
   "cell_type": "code",
   "execution_count": null,
   "id": "3cfac82e",
   "metadata": {},
   "outputs": [],
   "source": [
    "import functions as fn"
   ]
  },
  {
   "cell_type": "markdown",
   "id": "0e8e017d",
   "metadata": {},
   "source": [
    "# ERA5"
   ]
  },
  {
   "cell_type": "code",
   "execution_count": null,
   "id": "447811cd",
   "metadata": {},
   "outputs": [],
   "source": [
    "years = range(1979, 2021)"
   ]
  },
  {
   "cell_type": "code",
   "execution_count": null,
   "id": "d8439325",
   "metadata": {},
   "outputs": [],
   "source": [
    "root_path = '/g/data/rt52/era5/single-levels/monthly-averaged/'"
   ]
  },
  {
   "cell_type": "markdown",
   "id": "9c04489e",
   "metadata": {},
   "source": [
    "### Calculate vapour pressure deficit (VPD)\n",
    "\n",
    "- Use formula from https://www.nature.com/articles/s41598-019-51857-8#Sec12\n",
    "\n",
    "$$ \\mathrm{VPD} = c_1 \\left( \\exp \\left[ \\frac{c_2 \\cdot T}{c_3 + T} \\right] - \\exp \\left[ \\frac{c_2 \\cdot T_d}{c_3 + T_d} \\right] \\right),$$\n",
    "\n",
    "where $c_1 = 0.611$ KPa, $c_2 = 17.5$, $c_3 = 240.978$ $^\\circ$C, $T$ is temperature ($^\\circ$C) and $T_d$ is dew-point temperature ($^\\circ$C). The units of VPD are kilopascals (kPa). The first term represents saturated vapour pressure, and the second term represents actual vapour pressure."
   ]
  },
  {
   "cell_type": "code",
   "execution_count": null,
   "id": "c48f522d",
   "metadata": {},
   "outputs": [],
   "source": [
    "def calculate_VPD(T, Td):\n",
    "    \"\"\"\n",
    "    Calculates vapour pressure deficit from temperature and dew-point temperature.\n",
    "    Data should be in degrees Celsius. VPD has units of kilopascals (kPa).\n",
    "    Ref:  https://www.nature.com/articles/s41598-019-51857-8\n",
    "    \"\"\"\n",
    "\n",
    "    c1 = 0.611\n",
    "    c2 = 17.5\n",
    "    c3 = 240.978\n",
    "    \n",
    "    saturated_vp = np.exp(c2 * T / (c3 + T))\n",
    "    actual_vp = np.exp(c2 * Td / (c3 + Td))\n",
    "    vpd = c1 * (saturated_vp - actual_vp)\n",
    "    \n",
    "    vpd.attrs['long_name'] = '2 metre vapour pressure deficit'\n",
    "    vpd.attrs['short_name'] = '2m VPD'\n",
    "    vpd.attrs['units'] = 'kPa'\n",
    "    \n",
    "    return vpd"
   ]
  },
  {
   "cell_type": "code",
   "execution_count": null,
   "id": "9203e469",
   "metadata": {},
   "outputs": [],
   "source": [
    "# 2m temperature\n",
    "era5_2t = fn.open_era_data(root_path, '2t', years)\n",
    "era5_2t = era5_2t.rename({'latitude': 'lat',\n",
    "                          'longitude': 'lon'})\n",
    "\n",
    "# 2m dew point temperature\n",
    "era5_2d = fn.open_era_data(root_path, '2d', years)\n",
    "era5_2d = era5_2d.rename({'latitude': 'lat',\n",
    "                          'longitude': 'lon'})"
   ]
  },
  {
   "cell_type": "code",
   "execution_count": null,
   "id": "d53bccb2",
   "metadata": {},
   "outputs": [],
   "source": [
    "era5_vpd = calculate_VPD(era5_2t['t2m'] - 273.15,\n",
    "                         era5_2d['d2m'] - 273.15)"
   ]
  },
  {
   "cell_type": "markdown",
   "id": "9b5d9c86",
   "metadata": {},
   "source": [
    "Rechunk to single time chunk"
   ]
  },
  {
   "cell_type": "code",
   "execution_count": null,
   "id": "560d77ba",
   "metadata": {},
   "outputs": [],
   "source": [
    "era5_vpd = era5_vpd.chunk({'time': -1,\n",
    "                           'lat': 250,\n",
    "                           'lon': 250})"
   ]
  },
  {
   "cell_type": "markdown",
   "id": "72a227ae",
   "metadata": {},
   "source": [
    "Save to zarr"
   ]
  },
  {
   "cell_type": "code",
   "execution_count": null,
   "id": "a1b13e97",
   "metadata": {},
   "outputs": [],
   "source": [
    "era5_vpd = era5_vpd.to_dataset(name='vpd')"
   ]
  },
  {
   "cell_type": "code",
   "execution_count": null,
   "id": "2cd1590f",
   "metadata": {},
   "outputs": [],
   "source": [
    "vpd_encoding = {'vpd': {'dtype': 'float32'}}"
   ]
  },
  {
   "cell_type": "code",
   "execution_count": null,
   "id": "34127229",
   "metadata": {},
   "outputs": [],
   "source": [
    "era5_vpd.to_zarr('/g/data/xv83/dr6273/work/data/vpd/vpd_era5_moda_sfc_'+str(years[0])+'-'+str(years[-1])+'.zarr',\n",
    "                 mode='w',\n",
    "                 consolidated=True,\n",
    "                 encoding=vpd_encoding)"
   ]
  },
  {
   "cell_type": "markdown",
   "id": "2043de5c-79ce-46df-8e38-74f34398f1dd",
   "metadata": {},
   "source": [
    "# GPCC"
   ]
  },
  {
   "cell_type": "markdown",
   "id": "d0d7614e-3c82-4085-8a91-b767a8d91a5b",
   "metadata": {},
   "source": [
    "#### Merge different GPCC data sets to get latest data, if we need 2021\n",
    "- As of 24/02/22, still waiting on ERA5 Nov and Dec 2021."
   ]
  },
  {
   "cell_type": "code",
   "execution_count": null,
   "id": "bdafd665-2927-4a43-8d21-5f7f62b43bd4",
   "metadata": {},
   "outputs": [],
   "source": [
    "gpcc_path = '/g/data/xv83/dr6273/work/data/gpcc/'"
   ]
  },
  {
   "cell_type": "code",
   "execution_count": null,
   "id": "896e6152-8245-4d16-ac17-7b8f99c8dd90",
   "metadata": {},
   "outputs": [],
   "source": [
    "years = range(1979, 2021)"
   ]
  },
  {
   "cell_type": "code",
   "execution_count": null,
   "id": "a8634a23-8299-4904-bc80-30234cd2cc39",
   "metadata": {},
   "outputs": [],
   "source": [
    "gpcc = xr.open_mfdataset(gpcc_path + 'precip.full.data.monthly.v2020.1891-2019.concat.monitoring.v6.202001-202012.1deg.nc')"
   ]
  },
  {
   "cell_type": "code",
   "execution_count": null,
   "id": "6d0bb05f-3699-43e9-a4a2-e411faa5a0c6",
   "metadata": {},
   "outputs": [],
   "source": [
    "gpcc = gpcc.sel(time=slice(str(years[0]), str(years[-1])))"
   ]
  },
  {
   "cell_type": "code",
   "execution_count": null,
   "id": "c8549137-e54b-4cd2-b04d-1cbe76079ca8",
   "metadata": {},
   "outputs": [],
   "source": [
    "gpcc = gpcc['precip']\n",
    "gpcc = gpcc.assign_attrs({'short_name': 'precip'})"
   ]
  },
  {
   "cell_type": "code",
   "execution_count": null,
   "id": "b020e533-8daf-41e9-8fd4-ed9bfd6624e1",
   "metadata": {},
   "outputs": [],
   "source": [
    "gpcc = gpcc.chunk({'time': -1, 'lat': -1, 'lon': -1})"
   ]
  },
  {
   "cell_type": "code",
   "execution_count": null,
   "id": "183ab9a7-50ce-47a8-80ca-92fb2b06f725",
   "metadata": {},
   "outputs": [],
   "source": [
    "gpcc = gpcc.to_dataset(name='precip')"
   ]
  },
  {
   "cell_type": "code",
   "execution_count": null,
   "id": "763fed80-c457-4f87-8843-6eab7a809a55",
   "metadata": {},
   "outputs": [],
   "source": [
    "gpcc_encoding = {'precip': {'dtype': 'float32'}}"
   ]
  },
  {
   "cell_type": "code",
   "execution_count": null,
   "id": "78716c17-2baf-4b0c-a334-8d324156ac44",
   "metadata": {},
   "outputs": [],
   "source": [
    "gpcc.to_zarr('/g/data/xv83/dr6273/work/data/gpcc/precip_gpcc_sfc_'+str(years[0])+'-'+str(years[-1])+'.zarr',\n",
    "            mode='w',\n",
    "            consolidated=True,\n",
    "            encoding=gpcc_encoding)"
   ]
  },
  {
   "cell_type": "markdown",
   "id": "b214e07a-4ab3-47c0-99f9-7cd6dfa92919",
   "metadata": {},
   "source": [
    "# Berkeley temperature\n",
    "- Provides temperature anomalies and the climatology. Use these to reconstruct temperature"
   ]
  },
  {
   "cell_type": "code",
   "execution_count": null,
   "id": "6bbddaa2-41c2-414b-b3b3-a2335ad986a3",
   "metadata": {},
   "outputs": [],
   "source": [
    "years = range(1979, 2021)"
   ]
  },
  {
   "cell_type": "code",
   "execution_count": null,
   "id": "0072385d-9867-4c74-bda5-d6386ac839ac",
   "metadata": {},
   "outputs": [],
   "source": [
    "berk = xr.open_mfdataset('/g/data/xv83/dr6273/work/data/berkeley/Complete_TAVG_LatLong1.nc')"
   ]
  },
  {
   "cell_type": "code",
   "execution_count": null,
   "id": "46ccc641-16d6-435c-8eaf-e66788bacdb9",
   "metadata": {},
   "outputs": [],
   "source": [
    "berk['time'] = pd.date_range('1750-01-01', '2022-01-01', freq='1MS')\n",
    "berk = berk.sel(time=slice(str(years[0]), str(years[-1])))"
   ]
  },
  {
   "cell_type": "code",
   "execution_count": null,
   "id": "a6717e02-91d7-4e73-810f-0b9bade657a7",
   "metadata": {},
   "outputs": [],
   "source": [
    "berk = berk.sortby('latitude', ascending=False)"
   ]
  },
  {
   "cell_type": "code",
   "execution_count": null,
   "id": "829aaee5-1cae-4229-83fb-b484a4812712",
   "metadata": {},
   "outputs": [],
   "source": [
    "anoms = berk['temperature']"
   ]
  },
  {
   "cell_type": "code",
   "execution_count": null,
   "id": "f5da2ce5-255c-41f5-a7c5-6fbc733fd6f7",
   "metadata": {},
   "outputs": [],
   "source": [
    "clim = berk['climatology']"
   ]
  },
  {
   "cell_type": "code",
   "execution_count": null,
   "id": "8089675c-97d9-4139-9b80-43956e100936",
   "metadata": {},
   "outputs": [],
   "source": [
    "clim = clim.assign_coords({'month_number': range(1,13)}) # Change month number from 0-11 to 1-12"
   ]
  },
  {
   "cell_type": "code",
   "execution_count": null,
   "id": "953b0189-e368-4365-aec6-5168394d8d3c",
   "metadata": {},
   "outputs": [],
   "source": [
    "clim = clim.rename({'month_number': 'month'})"
   ]
  },
  {
   "cell_type": "code",
   "execution_count": null,
   "id": "2207d188-a322-45a1-b5dd-6f8b25541cbf",
   "metadata": {},
   "outputs": [],
   "source": [
    "temp = anoms.groupby('time.month') + clim"
   ]
  },
  {
   "cell_type": "code",
   "execution_count": null,
   "id": "a2c10aa9-7445-40f2-8933-dc41437902f8",
   "metadata": {},
   "outputs": [],
   "source": [
    "temp = temp.drop('month')"
   ]
  },
  {
   "cell_type": "code",
   "execution_count": null,
   "id": "44cb8a20-6028-450d-aa09-0b38b79e529e",
   "metadata": {},
   "outputs": [],
   "source": [
    "berk = temp.rename({'latitude': 'lat', 'longitude': 'lon'})"
   ]
  },
  {
   "cell_type": "code",
   "execution_count": null,
   "id": "6a1549b1-97cf-463f-9c55-9c3097ce5947",
   "metadata": {},
   "outputs": [],
   "source": [
    "berk = berk.assign_attrs({'short_name': 'temp'})"
   ]
  },
  {
   "cell_type": "code",
   "execution_count": null,
   "id": "e7143eac-8de8-4d30-911c-f858691248dd",
   "metadata": {},
   "outputs": [],
   "source": [
    "berk = berk.chunk({'time': -1, 'lat': -1, 'lon': -1})"
   ]
  },
  {
   "cell_type": "code",
   "execution_count": null,
   "id": "a6fcc107-e526-47fb-907d-992d8c50d208",
   "metadata": {},
   "outputs": [],
   "source": [
    "berk = berk.to_dataset(name='temperature')"
   ]
  },
  {
   "cell_type": "code",
   "execution_count": null,
   "id": "484b8738-0d92-438e-a6f9-ce3dc19a1da6",
   "metadata": {},
   "outputs": [],
   "source": [
    "berk_encoding = {'temperature': {'dtype': 'float32'}}"
   ]
  },
  {
   "cell_type": "code",
   "execution_count": null,
   "id": "2fab9abf-b7c6-4951-9b3f-2beb7078bff9",
   "metadata": {},
   "outputs": [],
   "source": [
    "berk.to_zarr('/g/data/xv83/dr6273/work/data/berkeley/tavg_berkeley_sfc_'+str(years[0])+'-'+str(years[-1])+'.zarr',\n",
    "            mode='w',\n",
    "            consolidated=True,\n",
    "            encoding=berk_encoding)"
   ]
  },
  {
   "cell_type": "markdown",
   "id": "2d92c682-bc45-4f02-93df-a77113ec9031",
   "metadata": {},
   "source": [
    "### Tmax and Tmin"
   ]
  },
  {
   "cell_type": "code",
   "execution_count": null,
   "id": "8d87b5af-ae51-4fc9-a8a7-6980f56436ec",
   "metadata": {},
   "outputs": [],
   "source": [
    "tmax = xr.open_mfdataset('/g/data/xv83/dr6273/work/data/berkeley/Complete_TMAX_LatLong1.nc')\n",
    "tmin = xr.open_mfdataset('/g/data/xv83/dr6273/work/data/berkeley/Complete_TMIN_LatLong1.nc')"
   ]
  },
  {
   "cell_type": "code",
   "execution_count": null,
   "id": "57426438-cc04-45ce-9bfe-a1f90c3cdb42",
   "metadata": {},
   "outputs": [],
   "source": [
    "tmax['time'] = pd.date_range('1850-01-01', '2021-12-01', freq='1MS')\n",
    "tmax = tmax.sel(time=slice(str(years[0]), str(years[-1])))\n",
    "\n",
    "tmin['time'] = pd.date_range('1850-01-01', '2021-12-01', freq='1MS')\n",
    "tmin = tmin.sel(time=slice(str(years[0]), str(years[-1])))"
   ]
  },
  {
   "cell_type": "code",
   "execution_count": null,
   "id": "9dfd626a-8b99-4e7b-af98-6ab32d816ad0",
   "metadata": {},
   "outputs": [],
   "source": [
    "tmax = tmax.sortby('latitude', ascending=False)\n",
    "tmin = tmin.sortby('latitude', ascending=False)"
   ]
  },
  {
   "cell_type": "code",
   "execution_count": null,
   "id": "ddc10937-4ecd-4e05-8357-94edfcf4d1c5",
   "metadata": {},
   "outputs": [],
   "source": [
    "tmax_anoms = tmax['temperature']\n",
    "tmin_anoms = tmin['temperature']"
   ]
  },
  {
   "cell_type": "code",
   "execution_count": null,
   "id": "80f51d85-bef5-4941-aebb-22bd3b8a37c4",
   "metadata": {},
   "outputs": [],
   "source": [
    "tmax_clim = tmax['climatology']\n",
    "tmin_clim = tmin['climatology']"
   ]
  },
  {
   "cell_type": "code",
   "execution_count": null,
   "id": "cffdb2b6-3c18-41c0-9bce-e10720198316",
   "metadata": {},
   "outputs": [],
   "source": [
    "tmax_clim = tmax_clim.assign_coords({'month_number': range(1,13)}) # Change month number from 0-11 to 1-12\n",
    "tmin_clim = tmin_clim.assign_coords({'month_number': range(1,13)}) # Change month number from 0-11 to 1-12"
   ]
  },
  {
   "cell_type": "code",
   "execution_count": null,
   "id": "68b38315-2b69-4712-8739-81c59e348226",
   "metadata": {},
   "outputs": [],
   "source": [
    "tmax_clim = tmax_clim.rename({'month_number': 'month'})\n",
    "tmin_clim = tmin_clim.rename({'month_number': 'month'})"
   ]
  },
  {
   "cell_type": "code",
   "execution_count": null,
   "id": "913a53fb-eeda-44ad-bb0d-5943f18c8e46",
   "metadata": {},
   "outputs": [],
   "source": [
    "tmax = tmax_anoms.groupby('time.month') + tmax_clim\n",
    "tmin = tmin_anoms.groupby('time.month') + tmin_clim"
   ]
  },
  {
   "cell_type": "code",
   "execution_count": null,
   "id": "82c0dd43-c0f4-4770-a904-5911c25bfea3",
   "metadata": {},
   "outputs": [],
   "source": [
    "tmax = tmax.drop('month')\n",
    "tmin = tmin.drop('month')"
   ]
  },
  {
   "cell_type": "code",
   "execution_count": null,
   "id": "dda8bbdf-a907-45fd-9b78-6aa3cb0ec695",
   "metadata": {},
   "outputs": [],
   "source": [
    "tmax = tmax.rename({'latitude': 'lat', 'longitude': 'lon'})\n",
    "tmin = tmin.rename({'latitude': 'lat', 'longitude': 'lon'})"
   ]
  },
  {
   "cell_type": "code",
   "execution_count": null,
   "id": "e69563d2-b494-4c18-8546-6892e5f60f94",
   "metadata": {},
   "outputs": [],
   "source": [
    "tmax = tmax.assign_attrs({'short_name': 'tmax'})\n",
    "tmin = tmin.assign_attrs({'short_name': 'tmin'})"
   ]
  },
  {
   "cell_type": "code",
   "execution_count": null,
   "id": "b6a0ae9a-14bd-4ca4-a974-1085b9406ec0",
   "metadata": {},
   "outputs": [],
   "source": [
    "tmax = tmax.chunk({'time': -1, 'lat': -1, 'lon': -1})\n",
    "tmin = tmin.chunk({'time': -1, 'lat': -1, 'lon': -1})"
   ]
  },
  {
   "cell_type": "code",
   "execution_count": null,
   "id": "278f94a3-18b8-4871-a157-7215da91e41d",
   "metadata": {},
   "outputs": [],
   "source": [
    "tmax = tmax.to_dataset(name='tmax')\n",
    "tmin = tmin.to_dataset(name='tmin')"
   ]
  },
  {
   "cell_type": "code",
   "execution_count": null,
   "id": "eeba5ccd-43a3-4abf-8593-b9c5f99d93ef",
   "metadata": {},
   "outputs": [],
   "source": [
    "tmax_encoding = {'tmax': {'dtype': 'float32'}}\n",
    "tmin_encoding = {'tmin': {'dtype': 'float32'}}"
   ]
  },
  {
   "cell_type": "code",
   "execution_count": null,
   "id": "99645dbf-0222-4389-92ac-66e16d311b78",
   "metadata": {},
   "outputs": [],
   "source": [
    "tmax.to_zarr('/g/data/xv83/dr6273/work/data/berkeley/tmax_berkeley_sfc_'+str(years[0])+'-'+str(years[-1])+'.zarr',\n",
    "            mode='w',\n",
    "            consolidated=True,\n",
    "            encoding=tmax_encoding)\n",
    "tmin.to_zarr('/g/data/xv83/dr6273/work/data/berkeley/tmin_berkeley_sfc_'+str(years[0])+'-'+str(years[-1])+'.zarr',\n",
    "            mode='w',\n",
    "            consolidated=True,\n",
    "            encoding=tmin_encoding)"
   ]
  },
  {
   "cell_type": "markdown",
   "id": "9dc07eac-0d80-4f3c-9ed1-8e15fe0bee29",
   "metadata": {},
   "source": [
    "# Close cluster"
   ]
  },
  {
   "cell_type": "code",
   "execution_count": null,
   "id": "d55b5362",
   "metadata": {},
   "outputs": [],
   "source": [
    "client.close()\n",
    "cluster.close()"
   ]
  },
  {
   "cell_type": "code",
   "execution_count": null,
   "id": "f96edd06",
   "metadata": {},
   "outputs": [],
   "source": []
  }
 ],
 "metadata": {
  "kernelspec": {
   "display_name": "Python 3",
   "language": "python",
   "name": "python3"
  },
  "language_info": {
   "codemirror_mode": {
    "name": "ipython",
    "version": 3
   },
   "file_extension": ".py",
   "mimetype": "text/x-python",
   "name": "python",
   "nbconvert_exporter": "python",
   "pygments_lexer": "ipython3",
   "version": "3.9.4"
  }
 },
 "nbformat": 4,
 "nbformat_minor": 5
}
