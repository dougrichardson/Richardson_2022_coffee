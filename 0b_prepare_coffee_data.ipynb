{
 "cells": [
  {
   "cell_type": "markdown",
   "id": "6f8df6d2-3ccc-41e0-b6e1-157bf90997ea",
   "metadata": {},
   "source": [
    "# Prepare coffee data"
   ]
  },
  {
   "cell_type": "code",
   "execution_count": null,
   "id": "532966eb-f89d-4c9a-9cfe-e484608f2577",
   "metadata": {},
   "outputs": [],
   "source": [
    "import xarray as xr\n",
    "import numpy as np\n",
    "import pandas as pd\n",
    "\n",
    "import matplotlib\n",
    "import matplotlib.pyplot as plt"
   ]
  },
  {
   "cell_type": "code",
   "execution_count": null,
   "id": "325ebef3-8802-48da-bbca-9f36d93643aa",
   "metadata": {},
   "outputs": [],
   "source": [
    "import functions as fn"
   ]
  },
  {
   "cell_type": "code",
   "execution_count": null,
   "id": "9a2a02b6-e195-4903-a629-fdc9a06e2901",
   "metadata": {},
   "outputs": [],
   "source": [
    "plt_params = fn.get_plot_params()"
   ]
  },
  {
   "cell_type": "markdown",
   "id": "b7227f9f-e1bb-4fb6-bbf0-b29e9493757d",
   "metadata": {},
   "source": [
    "# Growing calendar"
   ]
  },
  {
   "cell_type": "code",
   "execution_count": null,
   "id": "2ba6265c-33be-41b7-a855-6a71597551c7",
   "metadata": {},
   "outputs": [],
   "source": [
    "growing_calendar = pd.read_csv('/g/data/xv83/dr6273/work/projects/coffee/data/coffee_country_growing_calendar.csv')"
   ]
  },
  {
   "cell_type": "code",
   "execution_count": null,
   "id": "7c8f069b-1316-4c78-83c2-9fc09a8cb7db",
   "metadata": {},
   "outputs": [],
   "source": [
    "growing_calendar.head()"
   ]
  },
  {
   "cell_type": "markdown",
   "id": "4645616c-1182-4d3f-a08f-b9b4196e91b9",
   "metadata": {},
   "source": [
    "### Get country info from ERA5 mask to be consistent"
   ]
  },
  {
   "cell_type": "code",
   "execution_count": null,
   "id": "27fed343-ea80-4cf4-88f6-3de0355dfb06",
   "metadata": {},
   "outputs": [],
   "source": [
    "era_countries_mask = xr.open_dataset('/g/data/xv83/dr6273/work/projects/coffee/data/era5_country_mask.nc')\n",
    "era_countries_mask = era_countries_mask['country_mask']"
   ]
  },
  {
   "cell_type": "markdown",
   "id": "a700fda8-db04-4d6d-9772-f09bf4446426",
   "metadata": {},
   "source": [
    "### Add country code and abbreviation to `growing_calendar`"
   ]
  },
  {
   "cell_type": "code",
   "execution_count": null,
   "id": "f726363b-6291-4ba2-a032-ce456268e19e",
   "metadata": {},
   "outputs": [],
   "source": [
    "countries = np.unique(growing_calendar['FAO'])\n",
    "countries"
   ]
  },
  {
   "cell_type": "code",
   "execution_count": null,
   "id": "30fa1f2f-b0d0-4bf6-90e3-40e789d96f7a",
   "metadata": {},
   "outputs": [],
   "source": [
    "codes = [era_countries_mask.swap_dims({'abbrevs': 'names'}).sel(names=country).region.values.astype('int16') for country in growing_calendar['FAO']]\n",
    "abbrevs = [era_countries_mask.swap_dims({'abbrevs': 'names'}).sel(names=country).abbrevs.values for country in growing_calendar['FAO']]"
   ]
  },
  {
   "cell_type": "code",
   "execution_count": null,
   "id": "1d932a9c-72a3-4721-96ba-225486e95810",
   "metadata": {},
   "outputs": [],
   "source": [
    "growing_calendar['region'] = codes\n",
    "growing_calendar['abbrevs'] = abbrevs"
   ]
  },
  {
   "cell_type": "code",
   "execution_count": null,
   "id": "2a3f6aa0-c6ba-4f7d-81aa-590c870c2c19",
   "metadata": {},
   "outputs": [],
   "source": [
    "arabica_indices = growing_calendar.loc[growing_calendar.species == 'Arabica'].index\n",
    "robusta_indices = growing_calendar.loc[growing_calendar.species == 'Robusta'].index"
   ]
  },
  {
   "cell_type": "code",
   "execution_count": null,
   "id": "d22089e1-274d-4760-8056-615c1f48bb9d",
   "metadata": {},
   "outputs": [],
   "source": [
    "growing_calendar = growing_calendar.iloc[np.concatenate([arabica_indices.values, robusta_indices.values])]"
   ]
  },
  {
   "cell_type": "code",
   "execution_count": null,
   "id": "41581992-9490-4983-baa7-dd78dc77f84e",
   "metadata": {},
   "outputs": [],
   "source": [
    "growing_calendar.to_csv('/g/data/xv83/dr6273/work/projects/coffee/data/coffee_country_growing_calendar_extended.csv')"
   ]
  },
  {
   "cell_type": "markdown",
   "id": "0f004aec-8492-4c00-b9b2-334d835380cb",
   "metadata": {},
   "source": [
    "# Yield"
   ]
  },
  {
   "cell_type": "code",
   "execution_count": null,
   "id": "6b08b5a8-80f2-44fb-ad75-c8f9ee3192ea",
   "metadata": {},
   "outputs": [],
   "source": [
    "arabica_yield = pd.read_csv('/g/data/xv83/dr6273/work/projects/coffee/data/arabica_yield.csv', index_col=0)"
   ]
  },
  {
   "cell_type": "code",
   "execution_count": null,
   "id": "1407ae3b-11cc-404d-bf20-ec24131c58d6",
   "metadata": {},
   "outputs": [],
   "source": [
    "# Robusta years are not sorted - sort by year\n",
    "arabica_yield = arabica_yield.sort_values(['Country', 'Year.x'])\n",
    "arabica_yield.index = range(len(arabica_yield.index))"
   ]
  },
  {
   "cell_type": "markdown",
   "id": "0e76b424-f292-4e61-ac82-7d37f7db63e3",
   "metadata": {},
   "source": [
    "### Don't have Arabica/robusta split for Brazil, so just treat as Arabica"
   ]
  },
  {
   "cell_type": "code",
   "execution_count": null,
   "id": "a443d975-fef5-4de9-8057-c8bf9b3d53c8",
   "metadata": {},
   "outputs": [],
   "source": [
    "arabica_yield.loc[(arabica_yield['Country'] == 'Brazil'), 'Country'] = 'Brazil South'"
   ]
  },
  {
   "cell_type": "code",
   "execution_count": null,
   "id": "8c6485d7-d7a5-4719-8306-e56d880c369a",
   "metadata": {},
   "outputs": [],
   "source": [
    "# Add region code and abbreviations\n",
    "codes = [era_countries_mask.swap_dims({'abbrevs': 'names'}).sel(names=country).region.values.astype('int16') for country in arabica_yield['Country']]\n",
    "abbrevs = [era_countries_mask.swap_dims({'abbrevs': 'names'}).sel(names=country).abbrevs.values for country in arabica_yield['Country']]"
   ]
  },
  {
   "cell_type": "code",
   "execution_count": null,
   "id": "1182757e-ce3a-44a1-a42b-a1904cb729d3",
   "metadata": {},
   "outputs": [],
   "source": [
    "arabica_yield['region'] = codes\n",
    "arabica_yield['abbrevs'] = abbrevs"
   ]
  },
  {
   "cell_type": "code",
   "execution_count": null,
   "id": "c936810e-f834-464e-ad2b-d683850e99fe",
   "metadata": {},
   "outputs": [],
   "source": [
    "arabica_yield.head()"
   ]
  },
  {
   "cell_type": "code",
   "execution_count": null,
   "id": "6461458c-9872-49a6-9ff7-2dc8f17ee7bb",
   "metadata": {},
   "outputs": [],
   "source": [
    "robusta_yield = pd.read_csv('/g/data/xv83/dr6273/work/projects/coffee/data/robusta_yield.csv')"
   ]
  },
  {
   "cell_type": "code",
   "execution_count": null,
   "id": "41267a17-ef75-46c8-938b-bd6353ce6a6c",
   "metadata": {},
   "outputs": [],
   "source": [
    "# Robusta years are not sorted - sort by year\n",
    "robusta_yield = robusta_yield.sort_values(['Country', 'Year.x'])"
   ]
  },
  {
   "cell_type": "code",
   "execution_count": null,
   "id": "c2aaf2bb-abae-4008-bc75-eb7dd55bb237",
   "metadata": {},
   "outputs": [],
   "source": [
    "# Rename Viet Nam to Vietnam\n",
    "robusta_yield.loc[(robusta_yield['Country'] == 'Viet Nam'), 'Country'] = 'Vietnam'"
   ]
  },
  {
   "cell_type": "code",
   "execution_count": null,
   "id": "7c2e4265-b31c-43b4-a35f-f8692f981d69",
   "metadata": {},
   "outputs": [],
   "source": [
    "robusta_yield.index = range(len(robusta_yield.index))"
   ]
  },
  {
   "cell_type": "code",
   "execution_count": null,
   "id": "09c22ca2-dfda-44fc-8a0f-794f24ed0eb1",
   "metadata": {},
   "outputs": [],
   "source": [
    "# Add region code and abbreviations\n",
    "codes = [era_countries_mask.swap_dims({'abbrevs': 'names'}).sel(names=country).region.values.astype('int16') for country in robusta_yield['Country']]\n",
    "abbrevs = [era_countries_mask.swap_dims({'abbrevs': 'names'}).sel(names=country).abbrevs.values for country in robusta_yield['Country']]"
   ]
  },
  {
   "cell_type": "code",
   "execution_count": null,
   "id": "c7b56a9e-a98f-4ec6-97ee-09dab7e78a9a",
   "metadata": {},
   "outputs": [],
   "source": [
    "robusta_yield['region'] = codes\n",
    "robusta_yield['abbrevs'] = abbrevs"
   ]
  },
  {
   "cell_type": "code",
   "execution_count": null,
   "id": "f62b8cc2-b5d1-4f9a-9cd1-21e139cda99a",
   "metadata": {},
   "outputs": [],
   "source": [
    "robusta_yield.head()"
   ]
  },
  {
   "cell_type": "markdown",
   "id": "82c7ea40-d365-47b9-964a-4d48f6a3bb6c",
   "metadata": {},
   "source": [
    "### Convert to xarray DataSet"
   ]
  },
  {
   "cell_type": "code",
   "execution_count": null,
   "id": "a0c24de8-9ea7-4e73-9474-982741cfa261",
   "metadata": {},
   "outputs": [],
   "source": [
    "# Get earliest and latest years from all data\n",
    "fy = np.min([arabica_yield['Year.x'].min(), robusta_yield['Year.x'].min()])\n",
    "ly = np.max([arabica_yield['Year.x'].max(), robusta_yield['Year.x'].max()])\n",
    "print(fy, ly)"
   ]
  },
  {
   "cell_type": "code",
   "execution_count": null,
   "id": "ebe91ad0-9397-4917-8e44-089fbd9e9784",
   "metadata": {},
   "outputs": [],
   "source": [
    "# Number of countries\n",
    "n_countries = len(np.unique(arabica_yield['Country'])) + len(np.unique(robusta_yield['Country']))\n",
    "n_countries"
   ]
  },
  {
   "cell_type": "code",
   "execution_count": null,
   "id": "3311f255-4507-4561-b27d-64350fcffeae",
   "metadata": {},
   "outputs": [],
   "source": [
    "# Set up empty DataArray\n",
    "abbrevs = np.append(np.unique(arabica_yield['abbrevs']), np.unique(robusta_yield['abbrevs'])).astype('U4')\n",
    "years = pd.date_range(str(fy), str(ly), freq='1YS')\n",
    "codes = [era_countries_mask.sel(abbrevs=abbrev).region.values.astype('int16') for abbrev in abbrevs]"
   ]
  },
  {
   "cell_type": "code",
   "execution_count": null,
   "id": "7ffeea0d-2e79-43ad-8dfe-23a2f1947d34",
   "metadata": {},
   "outputs": [],
   "source": [
    "yield_arr = np.full((n_countries, len(range(fy, ly+1))), np.nan)\n",
    "\n",
    "for i,country in enumerate(np.unique(arabica_yield['Country'])):\n",
    "    c_data = arabica_yield.loc[(arabica_yield.Country == country)]\n",
    "    c_fy = c_data.iloc[0]['Year.x']\n",
    "    c_iFy = np.where(range(fy, ly) == c_fy)[0][0]\n",
    "    yield_arr[i, c_iFy : c_iFy+len(c_data)] = c_data['yld_ha']\n",
    "    \n",
    "for j,country in enumerate(np.unique(robusta_yield['Country'])):\n",
    "    c_data = robusta_yield.loc[(robusta_yield.Country == country)]\n",
    "    c_fy = c_data.iloc[0]['Year.x']\n",
    "    c_iFy = np.where(range(fy, ly) == c_fy)[0][0]\n",
    "    yield_arr[j+i+1, c_iFy : c_iFy+len(c_data)] = c_data['yld_ha']"
   ]
  },
  {
   "cell_type": "code",
   "execution_count": null,
   "id": "68326dfb-4d68-476a-a95b-2291905144f2",
   "metadata": {},
   "outputs": [],
   "source": [
    "yield_da = xr.DataArray(yield_arr,\n",
    "                        dims=['abbrevs', 'time'],\n",
    "                        coords={'abbrevs': abbrevs,\n",
    "                                'time': years})"
   ]
  },
  {
   "cell_type": "code",
   "execution_count": null,
   "id": "843ef10a-ac2c-4556-b06d-dabd97a6fdbb",
   "metadata": {},
   "outputs": [],
   "source": [
    "yield_da.to_dataset(name='yield').to_netcdf('/g/data/xv83/dr6273/work/projects/coffee/data/coffee_yield.nc')"
   ]
  },
  {
   "cell_type": "markdown",
   "id": "4d95bff2-bbc9-407a-8e4d-c17c4be6c53c",
   "metadata": {},
   "source": [
    "# Plot country yields"
   ]
  },
  {
   "cell_type": "code",
   "execution_count": null,
   "id": "a08f3748-1c84-4287-8e94-7a212ed83427",
   "metadata": {},
   "outputs": [],
   "source": [
    "names = ['Brazil', 'Colombia', 'Ethiopia', 'Guatemala', 'Honduras', 'Mexico', 'Nicaragua',\n",
    "         'Peru', 'India', 'Indonesia', 'Uganda', 'Vietnam']"
   ]
  },
  {
   "cell_type": "code",
   "execution_count": null,
   "id": "7dc98263-7106-490d-be8e-35043dbee76b",
   "metadata": {},
   "outputs": [],
   "source": [
    "with plt.rc_context(plt_params):\n",
    "    fig, ax = plt.subplots(3, 4, figsize=(6.9, 4))\n",
    "    for i, abbrev in enumerate(yield_da.abbrevs.values):\n",
    "        yield_da.sel(abbrevs=abbrev).plot(ax=ax.flatten()[i], c='k', lw=1)\n",
    "        \n",
    "        ax.flatten()[i].text(0.05, 0.85, names[i], transform=ax.flatten()[i].transAxes)\n",
    "        ax.flatten()[i].set_title('')\n",
    "        \n",
    "        if i in [0, 4, 8]:\n",
    "            ax.flatten()[i].set_ylabel(r'Yield [t ha$^{-1}$]')\n",
    "        else:\n",
    "            ax.flatten()[i].set_ylabel('')\n",
    "            \n",
    "        if i > 7:\n",
    "            ax.flatten()[i].set_xlabel('Year')\n",
    "        else:\n",
    "            ax.flatten()[i].set_xlabel('')\n",
    "            \n",
    "    plt.tight_layout()\n",
    "    \n",
    "#     plt.savefig('./figures/yield.pdf', format='pdf', dpi=400, bbox_inches='tight')"
   ]
  }
 ],
 "metadata": {
  "kernelspec": {
   "display_name": "Python 3",
   "language": "python",
   "name": "python3"
  },
  "language_info": {
   "codemirror_mode": {
    "name": "ipython",
    "version": 3
   },
   "file_extension": ".py",
   "mimetype": "text/x-python",
   "name": "python",
   "nbconvert_exporter": "python",
   "pygments_lexer": "ipython3",
   "version": "3.9.4"
  }
 },
 "nbformat": 4,
 "nbformat_minor": 5
}
