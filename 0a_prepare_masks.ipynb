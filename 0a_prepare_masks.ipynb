{
 "cells": [
  {
   "cell_type": "markdown",
   "id": "11dbf9d0-24fe-4250-a8a8-e4738f03d638",
   "metadata": {},
   "source": [
    "# Write coffee and country masks"
   ]
  },
  {
   "cell_type": "code",
   "execution_count": null,
   "id": "fa5836ed-d17f-4082-a29b-9c5432461801",
   "metadata": {},
   "outputs": [],
   "source": [
    "import xarray as xr\n",
    "import numpy as np\n",
    "import geopandas\n",
    "import regionmask\n",
    "\n",
    "import matplotlib\n",
    "import matplotlib.pyplot as plt\n",
    "\n",
    "import cartopy.crs as ccrs\n",
    "import cartopy\n",
    "cartopy.config['pre_existing_data_dir'] = '/g/data/xv83/dr6273/work/data/cartopy-data'\n",
    "cartopy.config['data_dir'] = '/g/data/xv83/dr6273/work/data/cartopy-data'"
   ]
  },
  {
   "cell_type": "code",
   "execution_count": null,
   "id": "45a623a7-d611-49a4-8fbb-9c2e1a7352fc",
   "metadata": {},
   "outputs": [],
   "source": [
    "plt_params = {'figure.figsize': [18.0, 8.0],\n",
    "    \n",
    "              'lines.linewidth': 1.5,\n",
    "    \n",
    "              'font.size': 12,\n",
    "              \n",
    "              'xtick.major.size': 5,\n",
    "              'xtick.major.width': 1.5,\n",
    "              'ytick.major.size': 5,\n",
    "              'ytick.major.width': 1.5}"
   ]
  },
  {
   "cell_type": "markdown",
   "id": "a2352715-826b-4f57-875f-f4a4603198cd",
   "metadata": {},
   "source": [
    "# Load coffee regions"
   ]
  },
  {
   "cell_type": "code",
   "execution_count": null,
   "id": "ed944bad-2bdc-409c-a3bb-1ff85aa35643",
   "metadata": {},
   "outputs": [],
   "source": [
    "arabica_ds = xr.open_dataset('/g/data/xv83/dr6273/work/projects/coffee/data/arabica_areas.nc')\n",
    "\n",
    "arabica_ds = arabica_ds.rename({'latitude': 'lat',\n",
    "                                'longitude': 'lon',\n",
    "                                'spam2010V1r1_global_A_ACOF_A': 'production_intensity'}) \\\n",
    "                        .drop_vars('crs') \\\n",
    "                        .squeeze()\n",
    "# Exclude cells where production intensity is zero, which means zero production c. 2010\n",
    "arabica_da = xr.where(arabica_ds.production_intensity > 0, 1, np.nan)"
   ]
  },
  {
   "cell_type": "code",
   "execution_count": null,
   "id": "a395e367-5912-4cb9-80b5-5d8ace194c94",
   "metadata": {},
   "outputs": [],
   "source": [
    "robusta_ds = xr.open_dataset('/g/data/xv83/dr6273/work/projects/coffee/data/robusta_areas.nc')\n",
    "\n",
    "robusta_ds = robusta_ds.rename({'latitude': 'lat',\n",
    "                                'longitude': 'lon',\n",
    "                                'spam2010V1r1_global_A_RCOF_A': 'production_intensity'}) \\\n",
    "                        .drop_vars('crs') \\\n",
    "                        .squeeze()\n",
    "robusta_da = xr.where(robusta_ds.production_intensity > 0, 1, np.nan)"
   ]
  },
  {
   "cell_type": "code",
   "execution_count": null,
   "id": "dc7c079f-17c8-4e22-8ed6-fa18a8dbe11a",
   "metadata": {},
   "outputs": [],
   "source": [
    "fig, ax = plt.subplots(1, 1, figsize=(20,8), subplot_kw={'projection': ccrs.PlateCarree()})\n",
    "ax.coastlines()\n",
    "ax.add_feature(cartopy.feature.BORDERS)\n",
    "arabica_da.plot(ax=ax, cmap=matplotlib.colors.ListedColormap([\"none\", \"#9ecae1\"]), add_colorbar=False)\n",
    "robusta_da.plot(ax=ax, cmap=matplotlib.colors.ListedColormap([\"none\", '#ffb26e']), add_colorbar=False)"
   ]
  },
  {
   "cell_type": "markdown",
   "id": "15f57f9f-a3aa-4ec0-a221-76638663d019",
   "metadata": {},
   "source": [
    "# Split Brazil into two\n",
    "Robusta in the North, Arabica in the South"
   ]
  },
  {
   "cell_type": "markdown",
   "id": "0f1e2cc5-c408-4e6c-9989-efcaf572171a",
   "metadata": {},
   "source": [
    "#### For Arabica, we want to remove N Brazil"
   ]
  },
  {
   "cell_type": "code",
   "execution_count": null,
   "id": "f134a0ef-c6bf-44db-9954-8e6137d945ac",
   "metadata": {},
   "outputs": [],
   "source": [
    "n_brazil = geopandas.read_file('/g/data/xv83/dr6273/work/projects/coffee/data/brazil_shapefiles/n_brazil.shp')"
   ]
  },
  {
   "cell_type": "code",
   "execution_count": null,
   "id": "70d16338-c2c8-457a-9524-18f5363fa609",
   "metadata": {},
   "outputs": [],
   "source": [
    "BRN_mask = regionmask.mask_geopandas(n_brazil, arabica_da.lon, arabica_da.lat)"
   ]
  },
  {
   "cell_type": "code",
   "execution_count": null,
   "id": "9fbcaa67-a9b6-45f4-b57f-8947957ef9a9",
   "metadata": {},
   "outputs": [],
   "source": [
    "arabica_mask = arabica_da * xr.where(BRN_mask.notnull(), np.nan, 1)"
   ]
  },
  {
   "cell_type": "markdown",
   "id": "44994c39-249f-4aa8-94a4-9497df1826dd",
   "metadata": {},
   "source": [
    "#### For Robusta, we want to extend the Robusta grid and add N Brazil. This is simplest to do later."
   ]
  },
  {
   "cell_type": "code",
   "execution_count": null,
   "id": "4b7e8c51-52b7-46e2-b582-111639dfdd1c",
   "metadata": {},
   "outputs": [],
   "source": [
    "BRN_coffee_mask = (arabica_da * xr.where(BRN_mask.notnull(), 1, np.nan))"
   ]
  },
  {
   "cell_type": "markdown",
   "id": "71b35be8-d0ce-42bd-bb9e-9be4a7d2fbdc",
   "metadata": {},
   "source": [
    "# Data set example files"
   ]
  },
  {
   "cell_type": "code",
   "execution_count": null,
   "id": "fb042a34-3d64-4248-ae53-32760a805ac5",
   "metadata": {},
   "outputs": [],
   "source": [
    "era5_example = xr.open_mfdataset('/g/data/rt52/era5/single-levels/monthly-averaged/2t/2000/2t_era5_moda_sfc_20000101-20000131.nc')\n",
    "era5_example = era5_example.rename({'latitude': 'lat',\n",
    "                                    'longitude': 'lon'})"
   ]
  },
  {
   "cell_type": "code",
   "execution_count": null,
   "id": "62965d75-d1f2-45a2-966f-e12a63e7afd1",
   "metadata": {},
   "outputs": [],
   "source": [
    "gpcc_example = xr.open_mfdataset('/g/data/xv83/dr6273/work/data/gpcc/precip.full.data.monthly.v2020.1891-2019.concat.monitoring.v6.202001-202012.1deg.nc')"
   ]
  },
  {
   "cell_type": "markdown",
   "id": "b472df89-384f-4523-a6cc-6aa5a33a0c0d",
   "metadata": {},
   "source": [
    "# Get coffee regions on other grids"
   ]
  },
  {
   "cell_type": "code",
   "execution_count": null,
   "id": "b2cdcccc-2ef8-4a54-9d63-13de57bdf6e5",
   "metadata": {},
   "outputs": [],
   "source": [
    "def aggregate_grid(ds, lat_des, lon_des, lat_name='lat', lon_name='lon'):\n",
    "    \"\"\"\n",
    "    Create new mask where grid cells are masked out unless there is at least one\n",
    "    grid cell from the finer resolution data set that lies within the large resolution\n",
    "    data set\n",
    "    \"\"\"\n",
    "    \n",
    "    def _get_bin_edges(bins):\n",
    "        dbin = np.diff(bins)/2\n",
    "        bin_edges = np.concatenate(([bins[0]-dbin[0]], \n",
    "                                     bins[:-1]+dbin, \n",
    "                                     [bins[-1]+dbin[-1]]))\n",
    "        return bin_edges\n",
    "    \n",
    "    ds = ds.copy().sortby('lat')\n",
    "    \n",
    "    lat_edges = _get_bin_edges(lat_des)\n",
    "    lon_edges = _get_bin_edges(lon_des)\n",
    "\n",
    "    ds_cpy = ds.copy()\n",
    "    \n",
    "    ds_sum = ds_cpy.groupby_bins(lon_name, lon_edges, labels=lon_des).sum(lon_name, skipna=True) \\\n",
    "                   .groupby_bins(lat_name, lat_edges, labels=lat_des).sum(lat_name, skipna=True)\n",
    "    \n",
    "    ds_sum = ds_sum.rename({lon_name+'_bins': lon_name,\n",
    "                            lat_name+'_bins': lat_name})\n",
    "    \n",
    "    return ds_sum.where(ds_sum > 0)"
   ]
  },
  {
   "cell_type": "markdown",
   "id": "3f9bb2de-bb6d-4bc1-abe8-4d794435016c",
   "metadata": {},
   "source": [
    "On the ERA5 grid"
   ]
  },
  {
   "cell_type": "code",
   "execution_count": null,
   "id": "07d86a50-119f-42cf-b3d9-ba077eaf3cdd",
   "metadata": {},
   "outputs": [],
   "source": [
    "arabica_era = aggregate_grid(arabica_mask,\n",
    "                             era5_example.sortby('lat')['lat'].values,\n",
    "                             era5_example['lon'].values)\n",
    "\n",
    "robusta_era = aggregate_grid(robusta_da,\n",
    "                             era5_example.sortby('lat')['lat'].values,\n",
    "                             era5_example['lon'].values)"
   ]
  },
  {
   "cell_type": "markdown",
   "id": "fd7f5dfa-775e-432b-b6cd-96de3595525d",
   "metadata": {},
   "source": [
    "On the GPCC grid (also used for Berkeley data)"
   ]
  },
  {
   "cell_type": "code",
   "execution_count": null,
   "id": "50086675-999d-4907-ad0b-cab8a7449ee5",
   "metadata": {},
   "outputs": [],
   "source": [
    "arabica_gpcc = aggregate_grid(arabica_mask,\n",
    "                             gpcc_example.sortby('lat')['lat'].values,\n",
    "                             gpcc_example['lon'].values)\n",
    "\n",
    "robusta_gpcc = aggregate_grid(robusta_da,\n",
    "                             gpcc_example.sortby('lat')['lat'].values,\n",
    "                             gpcc_example['lon'].values)"
   ]
  },
  {
   "cell_type": "markdown",
   "id": "16ba4097-b8ce-4137-bd5f-bacbd00588b8",
   "metadata": {},
   "source": [
    "Do this separately for Northern Brazil"
   ]
  },
  {
   "cell_type": "code",
   "execution_count": null,
   "id": "b7fd223e-b2d6-4457-8c72-eb421a2913ab",
   "metadata": {},
   "outputs": [],
   "source": [
    "BRN_coffee_era = aggregate_grid(BRN_coffee_mask,\n",
    "                                era5_example.sortby('lat')['lat'].values,\n",
    "                                era5_example['lon'].values)\n",
    "BRN_coffee_gpcc = aggregate_grid(BRN_coffee_mask,\n",
    "                                 gpcc_example.sortby('lat')['lat'].values,\n",
    "                                 gpcc_example['lon'].values)"
   ]
  },
  {
   "cell_type": "code",
   "execution_count": null,
   "id": "b0fc4e11-5d80-45fc-934a-40a453ae058e",
   "metadata": {},
   "outputs": [],
   "source": [
    "def add_N_Brazil(da1, da2):\n",
    "    \"\"\"\n",
    "    Add northern Brazil to array\n",
    "    \"\"\"\n",
    "    da1 = xr.where(da1 > 0, da1, 0)\n",
    "    da2 = xr.where(da2 > 0, da2, 0)\n",
    "    da3 = da1 + da2\n",
    "    return da3.where(da3 > 0, np.nan)"
   ]
  },
  {
   "cell_type": "code",
   "execution_count": null,
   "id": "492e411a-bca7-4e21-8bd3-540407a48f1b",
   "metadata": {},
   "outputs": [],
   "source": [
    "robusta_era = add_N_Brazil(robusta_era, BRN_coffee_era)\n",
    "robusta_gpcc = add_N_Brazil(robusta_gpcc, BRN_coffee_gpcc)"
   ]
  },
  {
   "cell_type": "markdown",
   "id": "e8bc8384-9fb2-435a-b261-d20491eafdca",
   "metadata": {},
   "source": [
    "Number of coffee grid cells in each ERA5 cell"
   ]
  },
  {
   "cell_type": "code",
   "execution_count": null,
   "id": "485f443a-c27c-41f6-9053-c9ffe5e35252",
   "metadata": {},
   "outputs": [],
   "source": [
    "with plt.rc_context(plt_params):\n",
    "    fig, ax = plt.subplots(1, 1, figsize=(16,8), subplot_kw={'projection': ccrs.PlateCarree()})\n",
    "    ax.set_extent([-179.99, 180, 40, -40])\n",
    "    ax.coastlines()\n",
    "    ax.add_feature(cartopy.feature.BORDERS)\n",
    "    arabica_era.plot(ax=ax, cmap='viridis', add_colorbar=True, cbar_kwargs={'orientation': 'horizontal', 'label': 'N Arabica'})\n",
    "    robusta_era.plot(ax=ax, cmap='magma_r', add_colorbar=True, cbar_kwargs={'orientation': 'horizontal', 'label': 'N Robusta'})"
   ]
  },
  {
   "cell_type": "markdown",
   "id": "2cdaeaca-24a9-4e47-a813-4f67151a3576",
   "metadata": {},
   "source": [
    "Number of coffee grid cells in each GPCC/Berkeley cell"
   ]
  },
  {
   "cell_type": "code",
   "execution_count": null,
   "id": "5bd1eb7d-f31a-452a-9ec3-b12cc32d21d7",
   "metadata": {},
   "outputs": [],
   "source": [
    "with plt.rc_context(plt_params):\n",
    "    fig, ax = plt.subplots(1, 1, figsize=(16,8), subplot_kw={'projection': ccrs.PlateCarree()})\n",
    "    ax.set_extent([-179.99, 180, 40, -40])\n",
    "    ax.coastlines()\n",
    "    ax.add_feature(cartopy.feature.BORDERS)\n",
    "    arabica_gpcc.plot(ax=ax, cmap='viridis', add_colorbar=True, cbar_kwargs={'orientation': 'horizontal', 'label': 'N Arabica'})\n",
    "    robusta_gpcc.plot(ax=ax, cmap='magma_r', add_colorbar=True, cbar_kwargs={'orientation': 'horizontal', 'label': 'N Robusta'})"
   ]
  },
  {
   "cell_type": "markdown",
   "id": "a4438c25-77d9-46fd-8953-e32758c2d350",
   "metadata": {},
   "source": [
    "# Split by coffee plant species"
   ]
  },
  {
   "cell_type": "code",
   "execution_count": null,
   "id": "5e0d4cb9-99b0-473c-9303-3d5ff9842fdf",
   "metadata": {},
   "outputs": [],
   "source": [
    "arabica_era_mask = xr.where(arabica_era > 0, True, False)\n",
    "robusta_era_mask = xr.where(robusta_era > 0, True, False)"
   ]
  },
  {
   "cell_type": "code",
   "execution_count": null,
   "id": "4653c103-69d8-41e1-b2a8-aa46bb5ddddb",
   "metadata": {},
   "outputs": [],
   "source": [
    "arabica_gpcc_mask = xr.where(arabica_gpcc > 0, True, False)\n",
    "robusta_gpcc_mask = xr.where(robusta_gpcc > 0, True, False)"
   ]
  },
  {
   "cell_type": "markdown",
   "id": "2567ae5e-1868-40f0-9a8b-32dc369025f5",
   "metadata": {},
   "source": [
    "# Country mask for other grids"
   ]
  },
  {
   "cell_type": "code",
   "execution_count": null,
   "id": "f9cd310f-1347-46fe-844a-44d7216c1a2e",
   "metadata": {},
   "outputs": [],
   "source": [
    "coffee_countries = {'Brazil': 'BR',\n",
    "                    'Colombia': 'CO',\n",
    "                    'Ethiopia': 'ET',\n",
    "                    'Honduras': 'HN',\n",
    "                    'Peru': 'PE',\n",
    "                    'Guatemala': 'GT',\n",
    "                    'Mexico': 'MX',\n",
    "                    'Nicaragua': 'NI',\n",
    "                    'Vietnam': 'VN',\n",
    "                    'Indonesia': 'INDO',\n",
    "                    'Uganda': 'UG',\n",
    "                    'India': 'IND'}"
   ]
  },
  {
   "cell_type": "code",
   "execution_count": null,
   "id": "fb6ca3c9-ec42-448c-95f0-c6edb300e26d",
   "metadata": {},
   "outputs": [],
   "source": [
    "def country_mask(da, countries):\n",
    "    \"\"\"\n",
    "    Mask by country\n",
    "    \"\"\"\n",
    "    lats = da.lat\n",
    "    lons = da.lon\n",
    "\n",
    "    countries_mask = regionmask.defined_regions.natural_earth.countries_110.mask_3D(lons, lats)\n",
    "    countries_mask = countries_mask.swap_dims({'region': 'names'})\n",
    "    countries_mask = countries_mask.sel(names=countries)\n",
    "    countries_mask = countries_mask.swap_dims({'names': 'abbrevs'})\n",
    "    \n",
    "    return countries_mask"
   ]
  },
  {
   "cell_type": "code",
   "execution_count": null,
   "id": "4bfe6b65-333f-40bd-88ad-00e18f1f8c48",
   "metadata": {},
   "outputs": [],
   "source": [
    "era_countries_mask = country_mask(era5_example, list(coffee_countries.keys()))\n",
    "gpcc_countries_mask = country_mask(gpcc_example, list(coffee_countries.keys()))"
   ]
  },
  {
   "cell_type": "markdown",
   "id": "a5fbce48-4bd5-4d9c-bf38-a14144057259",
   "metadata": {},
   "source": [
    "### Add northern and southern Brazil as new countries"
   ]
  },
  {
   "cell_type": "markdown",
   "id": "ba19b4a4-bd9c-4c9a-ba98-35b2eee4216a",
   "metadata": {},
   "source": [
    "We need the Southern Brazil shapefile to create a mask"
   ]
  },
  {
   "cell_type": "code",
   "execution_count": null,
   "id": "56a5bd11-de6d-43ee-ab03-bf166e29d42b",
   "metadata": {},
   "outputs": [],
   "source": [
    "s_brazil = geopandas.read_file('/g/data/xv83/dr6273/work/projects/coffee/data/brazil_shapefiles/se_brazil.shp')"
   ]
  },
  {
   "cell_type": "code",
   "execution_count": null,
   "id": "3b1b2eb1-8c14-4310-9fd0-bd510d0a28e3",
   "metadata": {},
   "outputs": [],
   "source": [
    "BRS_mask = regionmask.mask_geopandas(s_brazil, arabica_da.lon, arabica_da.lat)"
   ]
  },
  {
   "cell_type": "markdown",
   "id": "d575fde3-5b77-4e4d-afb0-f9352d948fac",
   "metadata": {},
   "source": [
    "Create masks for these regions, not just the coffee grid cells"
   ]
  },
  {
   "cell_type": "code",
   "execution_count": null,
   "id": "9dcef287-62bd-4a41-ba86-702001a507eb",
   "metadata": {},
   "outputs": [],
   "source": [
    "BRN_era = aggregate_grid(xr.where(BRN_mask.notnull(), 1, np.nan),\n",
    "                         era5_example.sortby('lat')['lat'].values,\n",
    "                         era5_example['lon'].values)\n",
    "BRN_gpcc = aggregate_grid(xr.where(BRN_mask.notnull(), 1, np.nan),\n",
    "                          gpcc_example.sortby('lat')['lat'].values,\n",
    "                          gpcc_example['lon'].values)"
   ]
  },
  {
   "cell_type": "code",
   "execution_count": null,
   "id": "b4e981a7-e129-4629-9a0e-11b4eaba735f",
   "metadata": {},
   "outputs": [],
   "source": [
    "BRS_era = aggregate_grid(xr.where(BRS_mask.notnull(), 1, np.nan),\n",
    "                         era5_example.sortby('lat')['lat'].values,\n",
    "                         era5_example['lon'].values)\n",
    "BRS_gpcc = aggregate_grid(xr.where(BRS_mask.notnull(), 1, np.nan),\n",
    "                          gpcc_example.sortby('lat')['lat'].values,\n",
    "                          gpcc_example['lon'].values)"
   ]
  },
  {
   "cell_type": "code",
   "execution_count": null,
   "id": "a2c1826c-e7a8-423d-b2bb-08a86698f177",
   "metadata": {},
   "outputs": [],
   "source": [
    "BRN_era = era_countries_mask.sel(abbrevs='BR') * xr.where(BRN_era.notnull(), True, False)\n",
    "BRN_gpcc = gpcc_countries_mask.sel(abbrevs='BR') * xr.where(BRN_gpcc.notnull(), True, False)"
   ]
  },
  {
   "cell_type": "code",
   "execution_count": null,
   "id": "267bfcec-3d87-4da5-8159-213a48714b98",
   "metadata": {},
   "outputs": [],
   "source": [
    "BRS_era = era_countries_mask.sel(abbrevs='BR') * xr.where(BRS_era.notnull(), True, False)\n",
    "BRS_gpcc = gpcc_countries_mask.sel(abbrevs='BR') * xr.where(BRS_gpcc.notnull(), True, False)"
   ]
  },
  {
   "cell_type": "markdown",
   "id": "d663ca89-d79b-4c83-8a3a-efa7f889a50c",
   "metadata": {},
   "source": [
    "Coordinates for new regions"
   ]
  },
  {
   "cell_type": "code",
   "execution_count": null,
   "id": "484b6b61-659c-42a0-8a02-5b738ac067c8",
   "metadata": {},
   "outputs": [],
   "source": [
    "BRN_era = BRN_era.assign_coords({'abbrevs': 'BRN',\n",
    "                                 'region': 177,\n",
    "                                 'names': 'Brazil North'})\n",
    "BRN_gpcc = BRN_gpcc.assign_coords({'abbrevs': 'BRN',\n",
    "                                   'region': 177,\n",
    "                                   'names': 'Brazil North'})\n",
    "\n",
    "BRS_era = BRS_era.assign_coords({'abbrevs': 'BRS',\n",
    "                                 'region': 178,\n",
    "                                 'names': 'Brazil South'})\n",
    "BRS_gpcc = BRS_gpcc.assign_coords({'abbrevs': 'BRS',\n",
    "                                   'region': 178,\n",
    "                                   'names': 'Brazil South'})"
   ]
  },
  {
   "cell_type": "markdown",
   "id": "7cff452c-0e8e-4331-bbcd-554170b8ce7c",
   "metadata": {},
   "source": [
    "Drop Brazil"
   ]
  },
  {
   "cell_type": "code",
   "execution_count": null,
   "id": "4aee6313-4515-4188-a6d3-fd77afe9b715",
   "metadata": {},
   "outputs": [],
   "source": [
    "era_countries_mask = era_countries_mask.sel(abbrevs=list(coffee_countries.values())[1:])\n",
    "gpcc_countries_mask = gpcc_countries_mask.sel(abbrevs=list(coffee_countries.values())[1:])"
   ]
  },
  {
   "cell_type": "markdown",
   "id": "176baae5-5faf-4144-98da-81fe4aca4c14",
   "metadata": {},
   "source": [
    "Concatenate with other countries"
   ]
  },
  {
   "cell_type": "code",
   "execution_count": null,
   "id": "d17f63b2-036d-48d3-9be5-584eb4cefdef",
   "metadata": {},
   "outputs": [],
   "source": [
    "era_countries_mask = xr.concat([era_countries_mask, BRN_era, BRS_era], dim='abbrevs')\n",
    "gpcc_countries_mask = xr.concat([gpcc_countries_mask, BRN_gpcc, BRS_gpcc], dim='abbrevs')"
   ]
  },
  {
   "cell_type": "markdown",
   "id": "c4df8576-604a-45f5-9322-6b34a18b3901",
   "metadata": {},
   "source": [
    "Write to file"
   ]
  },
  {
   "cell_type": "code",
   "execution_count": null,
   "id": "5245187a-1ccd-479e-8823-b4dc4da4f311",
   "metadata": {},
   "outputs": [],
   "source": [
    "era_countries_mask.to_dataset(name='country_mask').to_netcdf('/g/data/xv83/dr6273/work/projects/coffee/data/era5_country_mask.nc')\n",
    "gpcc_countries_mask.to_dataset(name='country_mask').to_netcdf('/g/data/xv83/dr6273/work/projects/coffee/data/gpcc_country_mask.nc')"
   ]
  },
  {
   "cell_type": "markdown",
   "id": "47b1b201-0eb5-423a-9f43-d67aae3b9533",
   "metadata": {},
   "source": [
    "# Country and coffee mask"
   ]
  },
  {
   "cell_type": "code",
   "execution_count": null,
   "id": "a44dd990-67a6-4573-8996-e38b70699f06",
   "metadata": {},
   "outputs": [],
   "source": [
    "def country_coffee_mask(countries_mask, arabica_mask, robusta_mask):\n",
    "    \"\"\"\n",
    "    Mask by country and coffee growing grid cells\n",
    "    \"\"\"\n",
    "    arabica_mask = (countries_mask * arabica_mask).astype('bool')\n",
    "    robusta_mask = (countries_mask * robusta_mask).astype('bool')\n",
    "    \n",
    "    coffee_mask = arabica_mask.to_dataset(name='arabica').merge(robusta_mask.to_dataset(name='robusta'))\n",
    "    \n",
    "    return coffee_mask"
   ]
  },
  {
   "cell_type": "code",
   "execution_count": null,
   "id": "083b1d4a-0d13-4644-8469-3679bdfc75cf",
   "metadata": {},
   "outputs": [],
   "source": [
    "era_coffee_mask = country_coffee_mask(era_countries_mask, arabica_era_mask, robusta_era_mask)\n",
    "gpcc_coffee_mask = country_coffee_mask(gpcc_countries_mask, arabica_gpcc_mask, robusta_gpcc_mask)"
   ]
  },
  {
   "cell_type": "markdown",
   "id": "ebe6ccc1-472a-4a3f-bd6f-be10bcb3cdcb",
   "metadata": {},
   "source": [
    "#### There is some 'bleed' of the wrong coffee species into N/S Brazil."
   ]
  },
  {
   "cell_type": "markdown",
   "id": "3d4a0af4-e077-4680-885e-35d7f1e6979a",
   "metadata": {},
   "source": [
    "There should be no yellow here, as Brazil South is arabica only"
   ]
  },
  {
   "cell_type": "code",
   "execution_count": null,
   "id": "aff6c3c1-ce4b-48b8-96a0-e6e85172a174",
   "metadata": {},
   "outputs": [],
   "source": [
    "gpcc_coffee_mask.robusta.sel(abbrevs='BRS').plot()"
   ]
  },
  {
   "cell_type": "markdown",
   "id": "c616ff6f-ad97-4240-896e-4bac2c5f29af",
   "metadata": {},
   "source": [
    "Likewise here for robusta regions in the arabica mask"
   ]
  },
  {
   "cell_type": "code",
   "execution_count": null,
   "id": "5fdf1e70-bad5-480d-a44c-289737fd2567",
   "metadata": {},
   "outputs": [],
   "source": [
    "gpcc_coffee_mask.arabica.sel(abbrevs='BRN').plot()"
   ]
  },
  {
   "cell_type": "markdown",
   "id": "1a36c87b-086d-4bd8-884b-28e51d103e90",
   "metadata": {},
   "source": [
    "Quick and dirty fix"
   ]
  },
  {
   "cell_type": "code",
   "execution_count": null,
   "id": "75443021-7485-4d66-88d7-77aa766d5aca",
   "metadata": {},
   "outputs": [],
   "source": [
    "def clear_mask(ds, data_var, abbrev, names):\n",
    "    \"\"\"\n",
    "    Set all values to zero\n",
    "    \"\"\"\n",
    "    return ds.where(ds[data_var].sel(abbrevs=abbrev) == 0, 0)"
   ]
  },
  {
   "cell_type": "code",
   "execution_count": null,
   "id": "ac6d0642-e451-49ec-a299-3b2b58fc4956",
   "metadata": {},
   "outputs": [],
   "source": [
    "era_names = era_coffee_mask.names.values\n",
    "\n",
    "era_coffee_mask = clear_mask(era_coffee_mask, 'robusta', 'BRS', era_names)\n",
    "era_coffee_mask = clear_mask(era_coffee_mask, 'arabica', 'BRN', era_names)"
   ]
  },
  {
   "cell_type": "code",
   "execution_count": null,
   "id": "82a9d096-4a2c-46e1-826e-6867f9bf96dc",
   "metadata": {},
   "outputs": [],
   "source": [
    "gpcc_names = gpcc_coffee_mask.names.values\n",
    "\n",
    "gpcc_coffee_mask = clear_mask(gpcc_coffee_mask, 'robusta', 'BRS', gpcc_names)\n",
    "gpcc_coffee_mask = clear_mask(gpcc_coffee_mask, 'arabica', 'BRN', gpcc_names)"
   ]
  },
  {
   "cell_type": "markdown",
   "id": "89117fd5-9765-4d9a-81dd-3ddcf9674377",
   "metadata": {},
   "source": [
    "Check its fixed"
   ]
  },
  {
   "cell_type": "code",
   "execution_count": null,
   "id": "dbf994d9-dadc-4bef-a99f-ee2715dd2be0",
   "metadata": {},
   "outputs": [],
   "source": [
    "gpcc_coffee_mask.arabica.sel(abbrevs='BRN').plot()"
   ]
  },
  {
   "cell_type": "markdown",
   "id": "2fa40c55-aa1f-4277-b13d-37eb2da99fb5",
   "metadata": {},
   "source": [
    "Write to file"
   ]
  },
  {
   "cell_type": "code",
   "execution_count": null,
   "id": "8634d625-9a82-404e-8caf-97e45d002d3a",
   "metadata": {},
   "outputs": [],
   "source": [
    "era_coffee_mask.to_netcdf('/g/data/xv83/dr6273/work/projects/coffee/data/era5_coffee_mask.nc')\n",
    "gpcc_coffee_mask.to_netcdf('/g/data/xv83/dr6273/work/projects/coffee/data/gpcc_coffee_mask.nc')"
   ]
  },
  {
   "cell_type": "code",
   "execution_count": null,
   "id": "01e78244-7900-4c9e-b785-1fb8cbe32c84",
   "metadata": {},
   "outputs": [],
   "source": []
  }
 ],
 "metadata": {
  "kernelspec": {
   "display_name": "Python 3",
   "language": "python",
   "name": "python3"
  },
  "language_info": {
   "codemirror_mode": {
    "name": "ipython",
    "version": 3
   },
   "file_extension": ".py",
   "mimetype": "text/x-python",
   "name": "python",
   "nbconvert_exporter": "python",
   "pygments_lexer": "ipython3",
   "version": "3.9.4"
  }
 },
 "nbformat": 4,
 "nbformat_minor": 5
}
