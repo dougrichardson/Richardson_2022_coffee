{
 "cells": [
  {
   "cell_type": "markdown",
   "id": "4facf40f-9c97-4f3c-b0b8-082249fe9757",
   "metadata": {},
   "source": [
    "# Role of climate modes"
   ]
  },
  {
   "cell_type": "code",
   "execution_count": null,
   "id": "f7aebb7b-7652-43b5-90cd-083eece89ec6",
   "metadata": {},
   "outputs": [],
   "source": [
    "from dask_jobqueue import PBSCluster\n",
    "from dask.distributed import Client"
   ]
  },
  {
   "cell_type": "code",
   "execution_count": null,
   "id": "7249303e-369c-4878-9603-64891cf4ac9c",
   "metadata": {},
   "outputs": [],
   "source": [
    "# One node on Gadi has 48 cores - try and use up a full core before going to multiple nodes (jobs)\n",
    "\n",
    "walltime = '00:30:00'\n",
    "cores = 2\n",
    "memory = '8GB'\n",
    "\n",
    "cluster = PBSCluster(walltime=str(walltime), cores=cores, memory=str(memory),\n",
    "                     job_extra=['-l ncpus='+str(cores),\n",
    "                                '-l mem='+str(memory),\n",
    "                                '-P xv83',\n",
    "                                '-l storage=gdata/xv83+gdata/rt52+scratch/xv83'],\n",
    "                     header_skip=[\"select\"])"
   ]
  },
  {
   "cell_type": "code",
   "execution_count": null,
   "id": "d788bdd1-cc3f-48f2-9d1d-0429bb068a91",
   "metadata": {},
   "outputs": [],
   "source": [
    "cluster.scale(jobs=1)\n",
    "client = Client(cluster)"
   ]
  },
  {
   "cell_type": "code",
   "execution_count": null,
   "id": "74c018ff-c6c2-486a-8cc8-e63db0c34226",
   "metadata": {},
   "outputs": [],
   "source": [
    "client"
   ]
  },
  {
   "cell_type": "code",
   "execution_count": null,
   "id": "6e526ef6-32d4-414d-bbdf-4fe320022207",
   "metadata": {},
   "outputs": [],
   "source": [
    "%load_ext autoreload\n",
    "%autoreload 2"
   ]
  },
  {
   "cell_type": "code",
   "execution_count": null,
   "id": "b5fd02c5-7d25-442f-b746-5ec891ea56e6",
   "metadata": {},
   "outputs": [],
   "source": [
    "import xarray as xr\n",
    "import numpy as np\n",
    "import pandas as pd\n",
    "import regionmask\n",
    "import copy\n",
    "import xskillscore as xs\n",
    "from xbootstrap import block_bootstrap\n",
    "\n",
    "import matplotlib\n",
    "import matplotlib.pyplot as plt\n",
    "\n",
    "import cartopy.crs as ccrs\n",
    "import cartopy\n",
    "cartopy.config['pre_existing_data_dir'] = '/g/data/xv83/dr6273/work/data/cartopy-data'\n",
    "cartopy.config['data_dir'] = '/g/data/xv83/dr6273/work/data/cartopy-data'\n",
    "\n",
    "import functions as fn"
   ]
  },
  {
   "cell_type": "code",
   "execution_count": null,
   "id": "cfb2217e-c200-436f-91ff-ce25846676ba",
   "metadata": {},
   "outputs": [],
   "source": [
    "plt_params = fn.get_plot_params()"
   ]
  },
  {
   "cell_type": "code",
   "execution_count": null,
   "id": "c14fe5fd-3852-4b4c-a581-76a0c68c04c1",
   "metadata": {},
   "outputs": [],
   "source": [
    "# default colours\n",
    "prop_cycle = plt.rcParams['axes.prop_cycle']\n",
    "colors = prop_cycle.by_key()['color']"
   ]
  },
  {
   "cell_type": "markdown",
   "id": "caa817f4-17c9-42e6-9dc1-25bb69ee47e5",
   "metadata": {},
   "source": [
    "# Load coffee data"
   ]
  },
  {
   "cell_type": "code",
   "execution_count": null,
   "id": "dcc525dd-5461-46e5-868b-5d18c382d8da",
   "metadata": {},
   "outputs": [],
   "source": [
    "# Order abbrevs and names by species and production\n",
    "country_order = fn.get_country_order()"
   ]
  },
  {
   "cell_type": "code",
   "execution_count": null,
   "id": "0fed21df-cb87-4672-9d90-a85b2bb7847a",
   "metadata": {},
   "outputs": [],
   "source": [
    "growing_calendar = pd.read_csv('/g/data/xv83/dr6273/work/projects/coffee/data/coffee_country_growing_calendar_extended.csv',\n",
    "                               index_col=0)\n",
    "growing_calendar.head()"
   ]
  },
  {
   "cell_type": "code",
   "execution_count": null,
   "id": "4c724faa-0b6e-4e4c-99ae-01c8773d9142",
   "metadata": {},
   "outputs": [],
   "source": [
    "arabica_abbrevs = np.unique(growing_calendar.loc[(growing_calendar.species == 'Arabica'), 'abbrevs'])\n",
    "robusta_abbrevs = np.unique(growing_calendar.loc[(growing_calendar.species == 'Robusta'), 'abbrevs'])"
   ]
  },
  {
   "cell_type": "markdown",
   "id": "be8fd30a-df7a-45d4-94e6-beded1bbdd1c",
   "metadata": {},
   "source": [
    "# Gridded climate data relevant for each phase of coffee (growing and flowering)"
   ]
  },
  {
   "cell_type": "code",
   "execution_count": null,
   "id": "3de2d426-3a77-48b5-b9a3-fe6d44473fb3",
   "metadata": {},
   "outputs": [],
   "source": [
    "vpd_flowering = xr.open_zarr('/g/data/xv83/dr6273/work/projects/coffee/data/era5_vpd_detrended_Flowering_upper_tail_1_std.zarr',\n",
    "                             consolidated=True)\n",
    "vpd_growing = xr.open_zarr('/g/data/xv83/dr6273/work/projects/coffee/data/era5_vpd_detrended_Growing_upper_tail_1_std.zarr',\n",
    "                              consolidated=True)"
   ]
  },
  {
   "cell_type": "code",
   "execution_count": null,
   "id": "a7d7fe1c-1bf1-4695-9077-12548db8b1fe",
   "metadata": {},
   "outputs": [],
   "source": [
    "mn2t_flowering = xr.open_zarr('/g/data/xv83/dr6273/work/projects/coffee/data/berkeley_tmin_detrended_Flowering_lower_tail_1_std.zarr',\n",
    "                             consolidated=True)\n",
    "mn2t_growing = xr.open_zarr('/g/data/xv83/dr6273/work/projects/coffee/data/berkeley_tmin_detrended_Growing_upper_tail_1_std.zarr',\n",
    "                              consolidated=True)"
   ]
  },
  {
   "cell_type": "code",
   "execution_count": null,
   "id": "db714f87-6409-4e5c-bb62-8181eefc2c08",
   "metadata": {},
   "outputs": [],
   "source": [
    "mx2t_growing = xr.open_zarr('/g/data/xv83/dr6273/work/projects/coffee/data/berkeley_tmax_detrended_Growing_upper_tail_1_std.zarr',\n",
    "                                  consolidated=True)"
   ]
  },
  {
   "cell_type": "code",
   "execution_count": null,
   "id": "37bc3ce7-f1b6-48dc-9c1c-dbc0bc83f848",
   "metadata": {},
   "outputs": [],
   "source": [
    "t2m_lt_growing_optimal = xr.open_zarr('/g/data/xv83/dr6273/work/projects/coffee/data/berkeley_temperature_detrended_Growing_lower_tail_1_std.zarr',\n",
    "                                             consolidated=True)"
   ]
  },
  {
   "cell_type": "code",
   "execution_count": null,
   "id": "ab37dc4b-e16b-468b-8c2b-ba33bdcf42af",
   "metadata": {},
   "outputs": [],
   "source": [
    "t2m_ut_growing_optimal = xr.open_zarr('/g/data/xv83/dr6273/work/projects/coffee/data/berkeley_temperature_detrended_Growing_upper_tail_1_std.zarr',\n",
    "                                             consolidated=True)"
   ]
  },
  {
   "cell_type": "code",
   "execution_count": null,
   "id": "15d32c04-3fd8-472c-a783-fbcc03eee559",
   "metadata": {},
   "outputs": [],
   "source": [
    "tp_lt_growing_optimal = xr.open_zarr('/g/data/xv83/dr6273/work/projects/coffee/data/gpcc_precip_detrended_Annual_lower_tail_1_std.zarr',\n",
    "                                             consolidated=True)"
   ]
  },
  {
   "cell_type": "code",
   "execution_count": null,
   "id": "b22d48ce-a0d0-4c16-b2d4-3354b7d73c26",
   "metadata": {},
   "outputs": [],
   "source": [
    "tp_ut_growing_optimal = xr.open_zarr('/g/data/xv83/dr6273/work/projects/coffee/data/gpcc_precip_detrended_Annual_upper_tail_1_std.zarr',\n",
    "                                             consolidated=True)"
   ]
  },
  {
   "cell_type": "markdown",
   "id": "a7a2c393-7d65-45fb-83e6-a5306bbb3320",
   "metadata": {},
   "source": [
    "### Proportion of each country, and global coffee area, in drought each year"
   ]
  },
  {
   "cell_type": "code",
   "execution_count": null,
   "id": "0e65df0d-147f-45d2-aecc-829ddaadd3d8",
   "metadata": {},
   "outputs": [],
   "source": [
    "vpd_grid_template = 'era5'\n",
    "temperature_grid_template = 'berkeley'\n",
    "precip_grid_template = 'gpcc'"
   ]
  },
  {
   "cell_type": "markdown",
   "id": "a2437a16-40e9-48a1-a709-27b70d0cb12d",
   "metadata": {},
   "source": [
    "### VPD events"
   ]
  },
  {
   "cell_type": "code",
   "execution_count": null,
   "id": "8c063c9b-ea6a-4f36-bf7e-6062d04598bd",
   "metadata": {},
   "outputs": [],
   "source": [
    "vpd_flowering_events = fn.calculate_event_statistics(vpd_flowering, vpd_grid_template).compute()"
   ]
  },
  {
   "cell_type": "code",
   "execution_count": null,
   "id": "4988a8f0-c4b6-4c8a-a7bc-8594403a2d4b",
   "metadata": {},
   "outputs": [],
   "source": [
    "vpd_growing_events = fn.calculate_event_statistics(vpd_growing, vpd_grid_template).compute()"
   ]
  },
  {
   "cell_type": "markdown",
   "id": "d1166f60-b200-4ffd-887a-2de31984ca5e",
   "metadata": {},
   "source": [
    "### Tmin averages events"
   ]
  },
  {
   "cell_type": "code",
   "execution_count": null,
   "id": "8ae89df3-11f2-4743-9fad-1f13f4ac919f",
   "metadata": {},
   "outputs": [],
   "source": [
    "mn2t_flowering_events = fn.calculate_event_statistics(mn2t_flowering, temperature_grid_template).compute()"
   ]
  },
  {
   "cell_type": "code",
   "execution_count": null,
   "id": "97b9ee08-a2d1-4dc2-86f6-520074c56ad2",
   "metadata": {},
   "outputs": [],
   "source": [
    "mn2t_growing_events = fn.calculate_event_statistics(mn2t_growing, temperature_grid_template).compute()"
   ]
  },
  {
   "cell_type": "markdown",
   "id": "4feaecba-38b1-42ea-8d42-692a43b6fb87",
   "metadata": {},
   "source": [
    "### Tmax averages events"
   ]
  },
  {
   "cell_type": "code",
   "execution_count": null,
   "id": "2ca78907-acdf-4f58-a748-38ce70921bc6",
   "metadata": {},
   "outputs": [],
   "source": [
    "mx2t_growing_events = fn.calculate_event_statistics(mx2t_growing, temperature_grid_template).compute()"
   ]
  },
  {
   "cell_type": "markdown",
   "id": "cedc6a34-6faa-4c95-9e42-71c8c00d3344",
   "metadata": {
    "tags": []
   },
   "source": [
    "### T ranges events"
   ]
  },
  {
   "cell_type": "code",
   "execution_count": null,
   "id": "3fb00082-ab4c-4493-8b06-b56265bbd4a1",
   "metadata": {},
   "outputs": [],
   "source": [
    "t2m_lt_growing_optimal_events = fn.calculate_event_statistics(t2m_lt_growing_optimal, temperature_grid_template).compute()"
   ]
  },
  {
   "cell_type": "code",
   "execution_count": null,
   "id": "51eb3643-5686-496c-a705-df1758c18500",
   "metadata": {},
   "outputs": [],
   "source": [
    "t2m_ut_growing_optimal_events = fn.calculate_event_statistics(t2m_ut_growing_optimal, temperature_grid_template).compute()"
   ]
  },
  {
   "cell_type": "markdown",
   "id": "2df65e20-358c-4f4b-9ca3-2bd2ab0567cf",
   "metadata": {
    "tags": []
   },
   "source": [
    "### Precip ranges events"
   ]
  },
  {
   "cell_type": "code",
   "execution_count": null,
   "id": "40986b49-9d4a-4432-a11c-3566e55eff19",
   "metadata": {},
   "outputs": [],
   "source": [
    "tp_lt_growing_optimal_events = fn.calculate_event_statistics(tp_lt_growing_optimal, precip_grid_template).compute()"
   ]
  },
  {
   "cell_type": "code",
   "execution_count": null,
   "id": "c7c50486-c641-4cd5-a245-45eb81b461de",
   "metadata": {},
   "outputs": [],
   "source": [
    "tp_ut_growing_optimal_events = fn.calculate_event_statistics(tp_ut_growing_optimal, precip_grid_template).compute()"
   ]
  },
  {
   "cell_type": "markdown",
   "id": "7e6499f8-d8fc-4c65-91b9-edb82dcb7ede",
   "metadata": {},
   "source": [
    "# Load mode data\n",
    "\n",
    "- Stick to growing season, as only one climate risk in flowering season.\n",
    "    - Means the comparison to 12-month rainfall is not quite right."
   ]
  },
  {
   "cell_type": "code",
   "execution_count": null,
   "id": "272a5426-f4d5-4172-930e-6b9384b04ceb",
   "metadata": {},
   "outputs": [],
   "source": [
    "sst_dataset = 'hadisst'"
   ]
  },
  {
   "cell_type": "markdown",
   "id": "242fc67d-42f1-4ad9-b52e-bccae7f65e93",
   "metadata": {},
   "source": [
    "### Nino3.4"
   ]
  },
  {
   "cell_type": "code",
   "execution_count": null,
   "id": "8d116081-5079-4cc6-8386-96c8354d2798",
   "metadata": {},
   "outputs": [],
   "source": [
    "nino34_growing = xr.open_zarr('/g/data/xv83/dr6273/work/projects/coffee/data/'+sst_dataset+'_nino34_detrended_Growing_both_tails_1_std.zarr',\n",
    "                                consolidated=True).compute()"
   ]
  },
  {
   "cell_type": "markdown",
   "id": "f63df4ef-968c-4e71-b78e-63c02b52a582",
   "metadata": {},
   "source": [
    "### DMI"
   ]
  },
  {
   "cell_type": "code",
   "execution_count": null,
   "id": "710f6a10-c4cb-4d9f-9ebf-71cefdb78ea8",
   "metadata": {},
   "outputs": [],
   "source": [
    "dmi_growing = xr.open_zarr('/g/data/xv83/dr6273/work/projects/coffee/data/'+sst_dataset+'_dmi_detrended_Growing_both_tails_1_std.zarr',\n",
    "                            consolidated=True).compute()"
   ]
  },
  {
   "cell_type": "markdown",
   "id": "307c540c-355f-44ce-8782-0ca826dfdd4a",
   "metadata": {},
   "source": [
    "### Atlantic Nino"
   ]
  },
  {
   "cell_type": "code",
   "execution_count": null,
   "id": "44f9504f-bb05-492a-82bb-7ed330b4936f",
   "metadata": {},
   "outputs": [],
   "source": [
    "atl_nino_growing = xr.open_zarr('/g/data/xv83/dr6273/work/projects/coffee/data/'+sst_dataset+'_atl_nino_detrended_Growing_both_tails_1_std.zarr',\n",
    "                                consolidated=True).compute()"
   ]
  },
  {
   "cell_type": "markdown",
   "id": "b7798c1b-9d3a-4d7d-a7fd-2970c2ba73fc",
   "metadata": {},
   "source": [
    "### TNA"
   ]
  },
  {
   "cell_type": "code",
   "execution_count": null,
   "id": "b1b9b1a3-6b37-4f64-8bd8-0acfb83017f5",
   "metadata": {},
   "outputs": [],
   "source": [
    "tna_growing = xr.open_zarr('/g/data/xv83/dr6273/work/projects/coffee/data/'+sst_dataset+'_tna_detrended_Growing_both_tails_1_std.zarr',\n",
    "                                consolidated=True).compute()"
   ]
  },
  {
   "cell_type": "markdown",
   "id": "13e8047e-2c44-41bd-8be4-5987829f1631",
   "metadata": {},
   "source": [
    "### TSA"
   ]
  },
  {
   "cell_type": "code",
   "execution_count": null,
   "id": "b2fb14db-c8e2-49d6-b1df-ac86ad5ee4c6",
   "metadata": {},
   "outputs": [],
   "source": [
    "tsa_growing = xr.open_zarr('/g/data/xv83/dr6273/work/projects/coffee/data/'+sst_dataset+'_tsa_detrended_Growing_both_tails_1_std.zarr',\n",
    "                                consolidated=True).compute()"
   ]
  },
  {
   "cell_type": "markdown",
   "id": "b7ba3c38-063f-4215-ba59-fca900a33084",
   "metadata": {},
   "source": [
    "### MJO"
   ]
  },
  {
   "cell_type": "code",
   "execution_count": null,
   "id": "0736e5de-7585-4de3-8661-114380c95175",
   "metadata": {},
   "outputs": [],
   "source": [
    "mjo_days_per_month_growing = xr.open_zarr('/g/data/xv83/dr6273/work/projects/coffee/data/era5_mjo_days_per_month_detrended_Growing_both_tails_1_std.zarr',\n",
    "                                consolidated=True).compute()\n",
    "\n",
    "mjo_mean_amplitude_growing = xr.open_zarr('/g/data/xv83/dr6273/work/projects/coffee/data/era5_mjo_mean_amplitude_detrended_Growing_both_tails_1_std.zarr',\n",
    "                                consolidated=True).compute()"
   ]
  },
  {
   "cell_type": "markdown",
   "id": "58e91dc6-86ba-4775-abe5-89455a5cc301",
   "metadata": {},
   "source": [
    "### Correlation between modes"
   ]
  },
  {
   "cell_type": "code",
   "execution_count": null,
   "id": "7aaebcaf-41f7-4126-9524-f7a220159447",
   "metadata": {},
   "outputs": [],
   "source": [
    "modes_concat = xr.concat([\n",
    "    nino34_growing.nino34_detrended.expand_dims({'mode': ['nino34']}),\n",
    "    dmi_growing.dmi_detrended.expand_dims({'mode': ['dmi']}),\n",
    "    atl_nino_growing.atl_nino_detrended.expand_dims({'mode': ['atl_nino']}),\n",
    "    tna_growing.tna_detrended.expand_dims({'mode': ['tna']}),\n",
    "    tsa_growing.tsa_detrended.expand_dims({'mode': ['tsa']}),\n",
    "    \n",
    "    mjo_days_per_month_growing.mjo_days_per_month_detrended.sel(phase_ID=1).expand_dims({'mode': ['mjo_dpm_p1']}).drop('phase_ID'),\n",
    "    mjo_days_per_month_growing.mjo_days_per_month_detrended.sel(phase_ID=2).expand_dims({'mode': ['mjo_dpm_p2']}).drop('phase_ID'),\n",
    "    mjo_days_per_month_growing.mjo_days_per_month_detrended.sel(phase_ID=3).expand_dims({'mode': ['mjo_dpm_p3']}).drop('phase_ID'),    \n",
    "    mjo_days_per_month_growing.mjo_days_per_month_detrended.sel(phase_ID=4).expand_dims({'mode': ['mjo_dpm_p4']}).drop('phase_ID'),    \n",
    "    mjo_days_per_month_growing.mjo_days_per_month_detrended.sel(phase_ID=5).expand_dims({'mode': ['mjo_dpm_p5']}).drop('phase_ID'),    \n",
    "    mjo_days_per_month_growing.mjo_days_per_month_detrended.sel(phase_ID=6).expand_dims({'mode': ['mjo_dpm_p6']}).drop('phase_ID'),    \n",
    "    mjo_days_per_month_growing.mjo_days_per_month_detrended.sel(phase_ID=7).expand_dims({'mode': ['mjo_dpm_p7']}).drop('phase_ID'),    \n",
    "    mjo_days_per_month_growing.mjo_days_per_month_detrended.sel(phase_ID=8).expand_dims({'mode': ['mjo_dpm_p8']}).drop('phase_ID'),\n",
    "                        ], 'mode')"
   ]
  },
  {
   "cell_type": "code",
   "execution_count": null,
   "id": "ffe3ca08-cc3c-4e6b-8c14-d50eca23e04f",
   "metadata": {},
   "outputs": [],
   "source": [
    "modes_concat = modes_concat.sel(time=slice('1980', '2020'))"
   ]
  },
  {
   "cell_type": "markdown",
   "id": "607aa40d-d58d-4305-9590-be35fa181058",
   "metadata": {},
   "source": [
    "### Subset modes on warm/dry and cold/wet events"
   ]
  },
  {
   "cell_type": "code",
   "execution_count": null,
   "id": "45c24e79-6e0d-492d-8efb-cda05156d79b",
   "metadata": {},
   "outputs": [],
   "source": [
    "# Select relevant countries for each species and concat\n",
    "arabica_season_ids = [s for s in mn2t_growing_events.season_id.values if s.split('_')[0] in arabica_abbrevs]\n",
    "robusta_season_ids = [s for s in mn2t_growing_events.season_id.values if s.split('_')[0] in robusta_abbrevs]"
   ]
  },
  {
   "cell_type": "code",
   "execution_count": null,
   "id": "9d2be88c-a3ce-420c-a069-fafc8d53ce62",
   "metadata": {},
   "outputs": [],
   "source": [
    "arabica_risks = {\n",
    "                 'VPD > x': vpd_growing_events.sel(time=slice('1980', '2020')).sel(season_id=arabica_season_ids),\n",
    "                 'Tmax > x': mx2t_growing_events.sel(time=slice('1980', '2020')).sel(season_id=arabica_season_ids),\n",
    "                 'T < x': t2m_lt_growing_optimal_events.sel(time=slice('1980', '2020')).sel(season_id=arabica_season_ids),\n",
    "                 'T > x': t2m_ut_growing_optimal_events.sel(time=slice('1980', '2020')).sel(season_id=arabica_season_ids),\n",
    "                 'P < x': tp_lt_growing_optimal_events.sel(time=slice('1980', '2020')).sel(season_id=arabica_season_ids),\n",
    "                 'P > x': tp_ut_growing_optimal_events.sel(time=slice('1980', '2020')).sel(season_id=arabica_season_ids)\n",
    "                }"
   ]
  },
  {
   "cell_type": "code",
   "execution_count": null,
   "id": "d244ad09-65c9-4253-a861-06204c0cb054",
   "metadata": {},
   "outputs": [],
   "source": [
    "robusta_risks = {\n",
    "                 'Tmin fl < x': mn2t_flowering_events.sel(time=slice('1980', '2020')).sel(season_id=robusta_season_ids),\n",
    "                 'Tmin gr > x': mn2t_growing_events.sel(time=slice('1980', '2020')).sel(season_id=robusta_season_ids),\n",
    "                 'T < x': t2m_lt_growing_optimal_events.sel(time=slice('1980', '2020')).sel(season_id=robusta_season_ids),\n",
    "                 'T > x': t2m_ut_growing_optimal_events.sel(time=slice('1980', '2020')).sel(season_id=robusta_season_ids),\n",
    "                 'P < x': tp_lt_growing_optimal_events.sel(time=slice('1980', '2020')).sel(season_id=robusta_season_ids),\n",
    "                 'P > x': tp_ut_growing_optimal_events.sel(time=slice('1980', '2020')).sel(season_id=robusta_season_ids)\n",
    "                }"
   ]
  },
  {
   "cell_type": "code",
   "execution_count": null,
   "id": "e8cabd02-2627-459c-bd4d-751d503dd1b3",
   "metadata": {},
   "outputs": [],
   "source": [
    "signed_arabica_risks = copy.deepcopy(arabica_risks)\n",
    "signed_arabica_risks['T < x'] *= -1\n",
    "signed_arabica_risks['P > x'] *= -1"
   ]
  },
  {
   "cell_type": "code",
   "execution_count": null,
   "id": "e60a3e76-e5cb-4e00-ac7d-c62f9fd3cbab",
   "metadata": {},
   "outputs": [],
   "source": [
    "signed_robusta_risks = copy.deepcopy(robusta_risks)\n",
    "signed_robusta_risks['Tmin fl < x'] *= -1\n",
    "signed_robusta_risks['T < x'] *= -1\n",
    "signed_robusta_risks['P > x'] *= -1"
   ]
  },
  {
   "cell_type": "code",
   "execution_count": null,
   "id": "a5d17e81-7f34-4612-9035-3022e0e6cbe0",
   "metadata": {},
   "outputs": [],
   "source": [
    "n_events = fn.combine_n_events([arabica_risks, robusta_risks])\n",
    "n_events = n_events.sel(season_id=list(country_order.keys()))\n",
    "\n",
    "signed_n_events = fn.combine_n_events([signed_arabica_risks, signed_robusta_risks]) # can be used to tell whether the majority of events in a year are warm/dry or cold/wet\n",
    "signed_n_events = signed_n_events.sel(season_id=list(country_order.keys()))\n",
    "signed_n_events = xr.where(signed_n_events < 0, n_events * -1, n_events)"
   ]
  },
  {
   "cell_type": "markdown",
   "id": "a6de5684-9eb4-44b7-80ae-3044b24f0163",
   "metadata": {},
   "source": [
    "# Events and modes time series"
   ]
  },
  {
   "cell_type": "code",
   "execution_count": null,
   "id": "fcf35dbb-142d-4b18-b886-e239a0c529b8",
   "metadata": {},
   "outputs": [],
   "source": [
    "n_events_s = xr.where(signed_n_events < 0, n_events * -1, n_events)\n",
    "\n",
    "negatives = xr.where(n_events_s < 0, np.abs(n_events_s), 0)\n",
    "positives = xr.where(n_events_s > 0, n_events_s, 0)\n",
    "\n",
    "year_counts_neg = negatives.sum('season_id')\n",
    "year_counts_pos = positives.sum('season_id')"
   ]
  },
  {
   "cell_type": "code",
   "execution_count": null,
   "id": "7c98ee72-998e-457b-90e7-dda03a4b5ada",
   "metadata": {},
   "outputs": [],
   "source": [
    "# Mean of all events, and warm/dry, cold/wet\n",
    "#  For warm/dry, add mean to cold/wet annual totals, so that exceedances are obvious\n",
    "mean_all = (year_counts_neg + year_counts_pos).mean('time')\n",
    "mean_wd = year_counts_pos.mean('time')\n",
    "mean_cw = year_counts_neg.mean('time')\n",
    "\n",
    "sd_wd = year_counts_pos.std('time')\n",
    "sd_cw = year_counts_neg.std('time')\n",
    "\n",
    "# For plotting\n",
    "cw_exceedances = xr.where(year_counts_neg > mean_cw + 0, 3, np.nan)\n",
    "wd_exceedances = xr.where(year_counts_pos > mean_wd + 0, year_counts_pos + year_counts_neg - 3, np.nan)"
   ]
  },
  {
   "cell_type": "code",
   "execution_count": null,
   "id": "28f13f30-5869-4a50-9f13-298595f8e688",
   "metadata": {},
   "outputs": [],
   "source": [
    "mode_labels = ['ENSO', 'IOD', r'Atl. Ni$\\mathrm{\\tilde{n}}$o', 'TNA', 'TSA',\n",
    "                   r'$\\mathrm{MJO}_{1}$',\n",
    "                   r'$\\mathrm{MJO}_{2}$',\n",
    "                   r'$\\mathrm{MJO}_{3}$',\n",
    "                   r'$\\mathrm{MJO}_{4}$',\n",
    "                   r'$\\mathrm{MJO}_{5}$',\n",
    "                   r'$\\mathrm{MJO}_{6}$',\n",
    "                   r'$\\mathrm{MJO}_{7}$',\n",
    "                   r'$\\mathrm{MJO}_{8}$']"
   ]
  },
  {
   "cell_type": "code",
   "execution_count": null,
   "id": "c6a6cc0b-d646-4017-b59a-2d445a18ae54",
   "metadata": {},
   "outputs": [],
   "source": [
    "n_abs_max = 4\n",
    "time = t2m_lt_growing_optimal.sel(time=slice('1980', '2020')).time.dt.year.values\n",
    "\n",
    "with plt.rc_context(plt_params):\n",
    "    cmap = plt.cm.BrBG_r\n",
    "    norm = matplotlib.colors.BoundaryNorm(np.arange(-n_abs_max, n_abs_max+2), cmap.N)\n",
    "    c_ = [0.25, 0.75]\n",
    "    \n",
    "    fig = plt.figure(figsize=(6.9, 4), dpi=150)\n",
    "    gs = fig.add_gridspec(ncols=1, nrows=2, height_ratios=[0.5, 1.2])\n",
    "    \n",
    "    # =============================== Events bar plot\n",
    "    ax = fig.add_subplot(gs[0])\n",
    "    \n",
    "    ax.bar(time, year_counts_neg, color=cmap(c_[0]), width=.8, zorder=0)\n",
    "    ax.bar(time, year_counts_pos, bottom=year_counts_neg, color=cmap(c_[1]), width=.8, zorder=0)\n",
    "        \n",
    "    ax.scatter(time, cw_exceedances, c='k', s=10, zorder=1, label=r\"Cold or wet ($\\mu = $\"+str(np.round(mean_cw.values, 1))+')')\n",
    "    ax.scatter(time, wd_exceedances, c='k', s=10, marker='v', zorder=1, label=r\"Warm or dry ($\\mu = $\"+str(np.round(mean_wd.values, 1))+')')\n",
    "    \n",
    "    # Custom legend with bar color and markers\n",
    "    ax.scatter(1980.4858657, 36, marker='s', color=cmap(c_[0]))\n",
    "    ax.scatter(1980.4858657, 30.915, marker='s', color=cmap(c_[1]))\n",
    "    ax.legend(loc=(0.01, 0.65), frameon=False)\n",
    "    \n",
    "    ax.set_ylim(0, 41)\n",
    "    ax.set_yticks(range(0, 41, 10))\n",
    "    ax.set_ylabel('Number of events')\n",
    "\n",
    "    ax.set_xticks(time)\n",
    "    xtick_labels = []\n",
    "    for i in range(8):\n",
    "        xtick_labels.append(time[::5][i])\n",
    "        xtick_labels.append('')\n",
    "        xtick_labels.append('')\n",
    "        xtick_labels.append('')\n",
    "        xtick_labels.append('')\n",
    "    xtick_labels.append(2020)\n",
    "    ax.set_xticklabels(xtick_labels)\n",
    "    ax.set_xlim(1979.5, 2020.5)\n",
    "    \n",
    "    ax.text(-0.1, 0.95, 'a', weight='bold', transform=ax.transAxes)\n",
    "\n",
    "    # =============================== Modes time series heatmap\n",
    "    modes = (modes_concat / modes_concat.std('time')).mean('season_id')\n",
    "    \n",
    "    ax = fig.add_subplot(gs[1])\n",
    "    \n",
    "    p = ax.pcolormesh(modes, cmap='RdBu_r', vmin=-2.5, vmax=2.5)\n",
    "    \n",
    "    ax.set_ylim(0, 13)\n",
    "    ax.set_yticks(np.arange(0.5, 13, 1))\n",
    "    ax.set_yticklabels(mode_labels)\n",
    "    ax.invert_yaxis()\n",
    "    \n",
    "    ax.set_xticks(np.arange(0.5, len(time)))\n",
    "    ax.set_xticklabels(xtick_labels)\n",
    "    ax.tick_params(axis=\"x\", bottom=True, top=True, labelbottom=True, labeltop=False)\n",
    "    \n",
    "    cb_ax1 = fig.add_axes([0.91, 0.125, 0.017, 0.48])\n",
    "    cb1 = fig.colorbar(p, cax=cb_ax1, orientation='vertical', ticks=np.arange(-2.5, 2.6, 0.5))\n",
    "    cb1.ax.set_ylabel('Standardised anomaly [-]', rotation=270, va='bottom')\n",
    "    \n",
    "    ax.text(-.1, 0.95, 'b', weight='bold', transform=ax.transAxes)\n",
    "    \n",
    "    plt.savefig('./figures/events_modes_timeseries_detrended.pdf', format='pdf', dpi=400, bbox_inches='tight')"
   ]
  },
  {
   "cell_type": "markdown",
   "id": "fc6ced89-5568-4cc3-85b1-9f32eb97d0d4",
   "metadata": {},
   "source": [
    "# Events and modes scatter plots"
   ]
  },
  {
   "cell_type": "markdown",
   "id": "a001df4d-7aa5-47d2-99aa-47ce51522c3e",
   "metadata": {},
   "source": [
    "### Significance testing\n",
    "\n",
    "Obtain 10,000 block-bootstrap samples, and calculate mean of each sample. If observed mean is outside [5,95] percentile, deem significant"
   ]
  },
  {
   "cell_type": "code",
   "execution_count": null,
   "id": "ced2eee7-9b71-40db-991d-dc698828dee3",
   "metadata": {},
   "outputs": [],
   "source": [
    "def mean_over_time(X):\n",
    "    \"\"\"\n",
    "    Mean over time of X\n",
    "    \"\"\"\n",
    "    mean = np.mean(X)\n",
    "    return xr.DataArray(mean)"
   ]
  },
  {
   "cell_type": "code",
   "execution_count": null,
   "id": "444071c0-44ac-4c34-84d5-2207831400d8",
   "metadata": {},
   "outputs": [],
   "source": [
    "m = (modes_concat / modes_concat.std('time')).mean('season_id')"
   ]
  },
  {
   "cell_type": "code",
   "execution_count": null,
   "id": "8334cd0b-0d7a-41d9-98b1-443709cef8c0",
   "metadata": {},
   "outputs": [],
   "source": [
    "block_lengths = fn.estimate_L(m).astype('int')\n",
    "# block_lengths = [int(i) for i in block_lengths]\n",
    "unique_block_lengths = np.sort(np.unique(block_lengths))\n",
    "unique_block_lengths"
   ]
  },
  {
   "cell_type": "code",
   "execution_count": null,
   "id": "43174b47-e339-4cef-b95d-7c515aadaa56",
   "metadata": {},
   "outputs": [],
   "source": [
    "resamples_list = []\n",
    "for L in unique_block_lengths:\n",
    "    bootstraps = block_bootstrap(m, blocks={'time': L}, n_iteration=10000, exclude_dims=None, circular=False)\n",
    "\n",
    "    resamples = xr.apply_ufunc(mean_over_time, bootstraps, input_core_dims=[['time']], output_core_dims=[[]],\n",
    "                                dask='forbidden', vectorize=True)\n",
    "    resamples_list.append(resamples.assign_coords({'L': L}))\n",
    "resamples = xr.concat(resamples_list, dim='L')"
   ]
  },
  {
   "cell_type": "code",
   "execution_count": null,
   "id": "200dc7b6-cf7f-4c39-ada2-ed0c8320a091",
   "metadata": {},
   "outputs": [],
   "source": [
    "cw_mode_avg = (modes_concat / modes_concat.std('time')).mean('season_id').where(cw_exceedances.notnull()).mean('time')\n",
    "wd_mode_avg = (modes_concat / modes_concat.std('time')).mean('season_id').where(wd_exceedances.notnull()).mean('time')\n",
    "avgs = xr.concat([cw_mode_avg.expand_dims({'category': ['CW']}),\n",
    "                      wd_mode_avg.expand_dims({'category': ['WD']})],\n",
    "                     dim='category')"
   ]
  },
  {
   "cell_type": "code",
   "execution_count": null,
   "id": "4f204ff8-8107-4554-b751-ccbe16693e0a",
   "metadata": {},
   "outputs": [],
   "source": [
    "quantiles = np.full_like(avgs.values, np.nan)\n",
    "for i, cat in enumerate(avgs.category):\n",
    "    for j, mode in enumerate(avgs.mode):\n",
    "        L = block_lengths.sel(mode=mode)\n",
    "        pc = fn.get_quantile(avgs.sel(category=cat, mode=mode),\n",
    "                             resamples.sel(L=L, mode=mode))\n",
    "        quantiles[i,j] = pc\n",
    "quantiles = xr.DataArray(quantiles,\n",
    "                           coords=avgs.coords,\n",
    "                           dims=avgs.dims)"
   ]
  },
  {
   "cell_type": "code",
   "execution_count": null,
   "id": "367a6c49-44c2-48c3-b6b3-ad77fa7ec8df",
   "metadata": {},
   "outputs": [],
   "source": [
    "y1 = np.array([i for i in range(len(quantiles.sel(category='CW'))) if (quantiles.sel(category='CW').isel(mode=i) < 0.05) \\\n",
    "               | (quantiles.sel(category='CW').isel(mode=i) > 0.95)]) + 0.5\n",
    "x1 = np.repeat(0.5, len(y1))"
   ]
  },
  {
   "cell_type": "code",
   "execution_count": null,
   "id": "e53cc4eb-42a0-4f69-aa5d-4b8f9195758a",
   "metadata": {},
   "outputs": [],
   "source": [
    "y2 = np.array([i for i in range(len(quantiles.sel(category='WD'))) if (quantiles.sel(category='WD').isel(mode=i) < 0.05) \\\n",
    "               | (quantiles.sel(category='WD').isel(mode=i) > 0.95)]) + 0.5\n",
    "x2 = np.repeat(1.5, len(y2))"
   ]
  },
  {
   "cell_type": "code",
   "execution_count": null,
   "id": "acb6c37e-080e-4268-aeec-4260090f7a8c",
   "metadata": {},
   "outputs": [],
   "source": [
    "with plt.rc_context(plt_params):\n",
    "    \n",
    "    cmap = plt.cm.BrBG_r\n",
    "    c_ = [0.25, 0.75]\n",
    "    \n",
    "    fig = plt.figure(figsize=(6.9, 3), dpi=150)\n",
    "    gs = fig.add_gridspec(ncols=30, nrows=2)\n",
    "    \n",
    "    # =============================== Mode averages heatmap   \n",
    "    ax = fig.add_subplot(gs[:,0:2])\n",
    "    \n",
    "    p = ax.pcolormesh(avgs.transpose('mode', 'category'), cmap='RdBu_r', vmin=-0.7, vmax=0.7)\n",
    "    \n",
    "    ax.scatter(x1, y1, color='k', edgecolor='white', s=12, lw=.7)\n",
    "    ax.scatter(x2, y2, color='k', edgecolor='white', s=12, lw=.7)\n",
    "    \n",
    "    ax.set_xticks([0.5, 1.5])\n",
    "    ax.set_xticklabels(['Cold/wet', 'Warm/dry'], rotation=60)\n",
    "    \n",
    "    ax.set_yticks(np.arange(0.5, 13, 1))\n",
    "    ax.set_yticklabels(mode_labels)\n",
    "    ax.invert_yaxis()\n",
    "    \n",
    "    cb_ax1 = fig.add_axes([0.18, 0.13, 0.015, 0.75])\n",
    "    cb1 = fig.colorbar(p, cax=cb_ax1, orientation='vertical', ticks=np.arange(-0.7, 0.71, 0.35))\n",
    "    cb1.ax.set_ylabel('Standardised anomaly [-]', rotation=270, va='bottom')\n",
    "    \n",
    "    ax.text(-1.6, 0.95, 'a', weight='bold', transform=ax.transAxes)\n",
    "    \n",
    "    # =============================== Mode-events scatter\n",
    "    \n",
    "    def scatter(x, y, color, label=None):\n",
    "        ax.scatter(x, y, color=color, edgecolor='k', lw=0.07, s=20, alpha=0.8, label=label)\n",
    "    \n",
    "    # Nino34\n",
    "    x = modes_concat.sel(mode='nino34').mean('season_id')\n",
    "    ax = fig.add_subplot(gs[0,9:17])\n",
    "    ax.axvline(0, c='k', lw=0.8, zorder=0)\n",
    "    scatter(x, year_counts_neg, cmap(c_[0]), label='Cold or wet')\n",
    "    scatter(x, year_counts_pos, cmap(c_[1]), label='Warm or dry')\n",
    "    \n",
    "    ax.set_xlim(-1.4, 1.4)\n",
    "    ax.set_xticks(np.arange(-1.4, 1.5, 0.7))\n",
    "    \n",
    "    ax.tick_params(axis=\"y\", left=False, right=True, labelleft=False, labelright=False)\n",
    "    \n",
    "    ax.text(0.04, 0.87, 'b', weight='bold', transform=ax.transAxes)\n",
    "    ax.text(0.13, 0.87, mode_labels[0], transform=ax.transAxes)\n",
    "    \n",
    "    # MJO 1\n",
    "    x = modes_concat.sel(mode='mjo_dpm_p1').mean('season_id')\n",
    "    ax = fig.add_subplot(gs[0,19:27])\n",
    "    ax.axvline(0, c='k', lw=0.8, zorder=0)\n",
    "    scatter(x, year_counts_neg, cmap(c_[0]))\n",
    "    scatter(x, year_counts_pos, cmap(c_[1]))\n",
    "    \n",
    "    ax.set_xlim(-5, 5)\n",
    "    ax.set_xticks(np.arange(-5, 5.1, 2.5))\n",
    "    \n",
    "    ax.tick_params(axis=\"y\", left=False, right=True, labelleft=False, labelright=True)\n",
    "    ax.set_ylabel('Hazards per year\\n', rotation=270)\n",
    "    ax.yaxis.labelpad = 10\n",
    "    ax.yaxis.set_label_position(\"right\")\n",
    "    \n",
    "    ax.text(0.04, 0.87, 'c', weight='bold', transform=ax.transAxes)\n",
    "    ax.text(0.13, 0.87, mode_labels[5], transform=ax.transAxes)\n",
    "    \n",
    "    # TNA\n",
    "    x = modes_concat.sel(mode='tna').mean('season_id')\n",
    "    ax = fig.add_subplot(gs[1,9:17])\n",
    "    ax.axvline(0, c='k', lw=0.8, zorder=0)\n",
    "    scatter(x, year_counts_neg, cmap(c_[0]))\n",
    "    scatter(x, year_counts_pos, cmap(c_[1]))\n",
    "    \n",
    "    ax.set_xlim(-0.7, 0.7)\n",
    "    ax.set_xticks(np.arange(-0.7, 0.8, 0.35))\n",
    "    ax.set_xlabel(r'SST anomaly [$^\\circ$C]')\n",
    "    \n",
    "    ax.tick_params(axis=\"y\", left=False, right=True, labelleft=False, labelright=False)\n",
    "    \n",
    "    ax.text(0.04, 0.87, 'd', weight='bold', transform=ax.transAxes)\n",
    "    ax.text(0.13, 0.87, mode_labels[3], transform=ax.transAxes)\n",
    "    \n",
    "    # MJO 4\n",
    "    x = modes_concat.sel(mode='mjo_dpm_p4').mean('season_id')\n",
    "    ax = fig.add_subplot(gs[1,19:27])\n",
    "    ax.axvline(0, c='k', lw=0.8, zorder=0)\n",
    "    scatter(x, year_counts_neg, cmap(c_[0]), label='Cold or wet')\n",
    "    scatter(x, year_counts_pos, cmap(c_[1]), label='Warm or dry')\n",
    "    \n",
    "    ax.set_xlim(-3.2, 3.2)\n",
    "    ax.set_xticks(np.arange(-3.2, 3.3, 1.6))\n",
    "    ax.set_xlabel(r'$\\mathrm{MJO}_{i}$ [days per month]')\n",
    "    \n",
    "    ax.tick_params(axis=\"y\", left=False, right=True, labelleft=False, labelright=True)\n",
    "    ax.set_ylabel('Hazards per year', rotation=270)\n",
    "    ax.yaxis.labelpad = 10\n",
    "    ax.yaxis.set_label_position(\"right\")\n",
    "    \n",
    "    ax.text(0.04, 0.87, 'e', weight='bold', transform=ax.transAxes)\n",
    "    ax.text(0.13, 0.87, mode_labels[8], transform=ax.transAxes)\n",
    "    \n",
    "    ax.legend(loc=(-0.65, -0.55), frameon=False, ncol=2)\n",
    "    \n",
    "    plt.savefig('./figures/events_modes_average.pdf', format='pdf', dpi=400, bbox_inches='tight')"
   ]
  },
  {
   "cell_type": "markdown",
   "id": "6d7fdb0d-349b-4031-ad62-f09354563f0a",
   "metadata": {},
   "source": [
    "# Scatter plot indices and events"
   ]
  },
  {
   "cell_type": "code",
   "execution_count": null,
   "id": "bafc90fc-10ab-421d-adf7-b002bac68f92",
   "metadata": {},
   "outputs": [],
   "source": [
    "def scatter_events_modes():\n",
    "    \"\"\"\n",
    "    Scatter plot of events versus modes\n",
    "    \"\"\"\n",
    "    with plt.rc_context(plt_params):\n",
    "        fig, ax = plt.subplots(4, 4, figsize=(6.9, 6.9), dpi=150)\n",
    "        \n",
    "        for i, mode in enumerate(modes_concat.mode.values):\n",
    "            x = modes_concat.sel(mode=mode).mean('season_id')\n",
    "        \n",
    "            ax.flatten()[i].axvline(0, color='k')\n",
    "            ax.flatten()[i].scatter(x, year_counts_neg, color=cmap(c_[0]), s=10)\n",
    "            ax.flatten()[i].scatter(x, year_counts_pos, color=cmap(c_[1]), s=10)\n",
    "            ax.flatten()[i].text(0.05, 0.9, mode_labels[i], transform=ax.flatten()[i].transAxes)\n",
    "            \n",
    "        plt.tight_layout()"
   ]
  },
  {
   "cell_type": "code",
   "execution_count": null,
   "id": "2021501f-1e61-4756-9c92-0e5bdc0f26d1",
   "metadata": {},
   "outputs": [],
   "source": [
    "scatter_events_modes()"
   ]
  },
  {
   "cell_type": "markdown",
   "id": "835ba050-f822-4f63-b005-bf1f60518452",
   "metadata": {},
   "source": [
    "# Correlation of modes and surface variables"
   ]
  },
  {
   "cell_type": "code",
   "execution_count": null,
   "id": "fba7f236-eb08-4453-a9be-7a4e74d71efa",
   "metadata": {},
   "outputs": [],
   "source": [
    "mode_labels = ['ENSO', 'IOD', r'Atl. Ni$\\mathrm{\\tilde{n}}$o', 'TNA', 'TSA',\n",
    "                   r'$\\mathrm{MJO}_{1}$',\n",
    "                   r'$\\mathrm{MJO}_{2}$',\n",
    "                   r'$\\mathrm{MJO}_{3}$',\n",
    "                   r'$\\mathrm{MJO}_{4}$',\n",
    "                   r'$\\mathrm{MJO}_{5}$',\n",
    "                   r'$\\mathrm{MJO}_{6}$',\n",
    "                   r'$\\mathrm{MJO}_{7}$',\n",
    "                   r'$\\mathrm{MJO}_{8}$']"
   ]
  },
  {
   "cell_type": "code",
   "execution_count": null,
   "id": "0de5d562-f70b-4bbe-8118-1e8ef673b163",
   "metadata": {},
   "outputs": [],
   "source": [
    "# Remove duplicate Colombia and Uganda\n",
    "country_subset = copy.deepcopy(country_order)\n",
    "country_subset.pop('CO_2')\n",
    "country_subset.pop('UG_13')\n",
    "country_subset = list(country_subset.keys())\n",
    "\n",
    "arabica_subset = [i for i in country_subset if i in arabica_season_ids]\n",
    "robusta_subset = [i for i in country_subset if i in robusta_season_ids]"
   ]
  },
  {
   "cell_type": "code",
   "execution_count": null,
   "id": "fef322c8-22a9-4a3f-aae0-b610d3a12846",
   "metadata": {},
   "outputs": [],
   "source": [
    "def sfc_mode_cor(sfc_ds, sfc_var, dataset, mode_ds, mode_var):\n",
    "    \"\"\"\n",
    "    Correlation of surface variables with climate modes\n",
    "    \"\"\"\n",
    "    mask = fn.get_combined_mask(dataset)\n",
    "    \n",
    "    da_list = []\n",
    "    for s_id in sfc_ds.season_id.values:\n",
    "        abbrev = s_id.split('_')[0]\n",
    "\n",
    "        sfc_da = sfc_ds[sfc_var].sel(season_id=s_id)\n",
    "        sfc_da = sfc_da.where(mask.sel(abbrevs=abbrev) == True, drop=False)\n",
    "\n",
    "        mode_da = mode_ds[mode_var].sel(season_id=s_id)\n",
    "\n",
    "#         cor = xr.corr(sfc_da, mode_da, dim='time')\n",
    "        cor = xs.spearman_r(sfc_da, mode_da, dim='time')\n",
    "        da_list.append(cor)\n",
    "\n",
    "    cor_da = xr.concat(da_list, dim='season_id')\n",
    "    cor_da = cor_da.sum('season_id', skipna=True)\n",
    "    cor_da = cor_da.where(mask.sum('abbrevs'))\n",
    "    \n",
    "    return cor_da"
   ]
  },
  {
   "cell_type": "code",
   "execution_count": null,
   "id": "8f48c607-99ef-4c7f-b981-15394858e626",
   "metadata": {},
   "outputs": [],
   "source": [
    "def plot_cor(da_list, text_list, sup_titles, save_fig, filename):    \n",
    "    \"\"\"\n",
    "    Plot correlation maps\n",
    "    \"\"\"\n",
    "    n_brazil = fn.get_n_Brazil_boundary()\n",
    "    \n",
    "    with plt.rc_context(plt_params):\n",
    "        if len(da_list) < 7:\n",
    "            figsize = (6.9, 3.1)\n",
    "            nrows = 3\n",
    "            cbar_height = 0.025\n",
    "        elif (len(da_list) >= 7) & (len(da_list) < 9):\n",
    "            figsize=(6.9,4.1)\n",
    "            nrows = 4\n",
    "            cbar_height = 0.02\n",
    "        else:\n",
    "            figsize=(6.9,5)\n",
    "            nrows = 5\n",
    "            cbar_height = 0.015\n",
    "            \n",
    "        fig = plt.figure(figsize=figsize, dpi=200)\n",
    "        gs = fig.add_gridspec(nrows=nrows, ncols=2)\n",
    "\n",
    "        for i, da in enumerate(da_list):\n",
    "            ax = fig.add_subplot(gs[i], projection=ccrs.PlateCarree())\n",
    "            ax.set_extent((-117, 142, 36, -35), crs=ccrs.PlateCarree())\n",
    "            ax.coastlines(lw=plt_params['lines.linewidth']/3)\n",
    "            \n",
    "            n_brazil.boundary.plot(ax=ax, color='r', lw=plt_params['lines.linewidth']/4)\n",
    "            ax.plot((26, 26), (8, -90), color='r', ls='-', lw=plt_params['lines.linewidth']/2)\n",
    "            ax.plot((48, 48), (90, 0), color='r', ls='-', lw=plt_params['lines.linewidth']/2)\n",
    "            ax.plot((26.5, 48), (8, 0), color='r', ls='-', lw=plt_params['lines.linewidth']/2)\n",
    "            \n",
    "            ax.add_feature(cartopy.feature.BORDERS, lw=plt_params['lines.linewidth']/4)\n",
    "            ax.add_feature(cartopy.feature.LAND, facecolor='lightgrey')\n",
    "            ax.text(0.27, 0.87, text_list[i], ha='center',\n",
    "                    transform=ax.transAxes,\n",
    "                    fontsize=plt_params['font.size'])\n",
    "\n",
    "            p = da.plot(ax=ax, cmap='PiYG', vmin=-1, vmax=1, add_colorbar=False,\n",
    "                       rasterized=True)\n",
    "            \n",
    "            if i == 0:\n",
    "                ax.text(0.35, 0.05, 'Arabica', transform=ax.transAxes)\n",
    "                ax.text(0.65, 0.05, 'Robusta', transform=ax.transAxes)\n",
    "            \n",
    "            if i in [0,1]:\n",
    "                if len(sup_titles) == 2:\n",
    "                    ax.text(0.5, 1.05, sup_titles[i], ha='center', transform=ax.transAxes)\n",
    "            \n",
    "        cb_ax1 = fig.add_axes([0.17, 0.08, 0.7, cbar_height])\n",
    "        cb1 = fig.colorbar(p, cax=cb_ax1, orientation='horizontal', ticks=np.arange(-1, 1.1, 0.2))\n",
    "        cb1.ax.set_xlabel('Pearson correlation [-]')\n",
    "\n",
    "        plt.subplots_adjust(wspace=0.02, hspace=0.0)\n",
    "        \n",
    "        if save_fig:\n",
    "            plt.savefig('./figures/'+filename, format='pdf', dpi=400, bbox_inches='tight') "
   ]
  },
  {
   "cell_type": "markdown",
   "id": "d17fccba-33f7-4792-90cc-02cd5c86ef28",
   "metadata": {},
   "source": [
    "## Correlation with rainfall"
   ]
  },
  {
   "cell_type": "code",
   "execution_count": null,
   "id": "c4edd5cd-18d1-4cb5-aea8-5e6f3c6873cb",
   "metadata": {},
   "outputs": [],
   "source": [
    "precip_nino34_cor = sfc_mode_cor(tp_lt_growing_optimal.sel(season_id=country_subset,\n",
    "                                                              time=slice('1980', '2020')),\n",
    "                                 'precip_detrended',\n",
    "                                 'gpcc',\n",
    "                                 nino34_growing.sel(time=slice('1980', '2020')),\n",
    "                                 'nino34_detrended').compute()\n",
    "precip_dmi_cor = sfc_mode_cor(tp_lt_growing_optimal.sel(season_id=country_subset,\n",
    "                                                              time=slice('1980', '2020')),\n",
    "                                 'precip_detrended',\n",
    "                                 'gpcc',\n",
    "                                 dmi_growing.sel(time=slice('1980', '2020')),\n",
    "                                 'dmi_detrended').compute()\n",
    "precip_atl_nino_cor = sfc_mode_cor(tp_lt_growing_optimal.sel(season_id=country_subset,\n",
    "                                                              time=slice('1980', '2020')),\n",
    "                                 'precip_detrended',\n",
    "                                 'gpcc',\n",
    "                                 atl_nino_growing.sel(time=slice('1980', '2020')),\n",
    "                                 'atl_nino_detrended').compute()\n",
    "precip_tna_cor = sfc_mode_cor(tp_lt_growing_optimal.sel(season_id=country_subset,\n",
    "                                                              time=slice('1980', '2020')),\n",
    "                                 'precip_detrended',\n",
    "                                 'gpcc',\n",
    "                                 tna_growing.sel(time=slice('1980', '2020')),\n",
    "                                 'tna_detrended').compute()\n",
    "precip_tsa_cor = sfc_mode_cor(tp_lt_growing_optimal.sel(season_id=country_subset,\n",
    "                                                              time=slice('1980', '2020')),\n",
    "                                 'precip_detrended',\n",
    "                                 'gpcc',\n",
    "                                 tsa_growing.sel(time=slice('1980', '2020')),\n",
    "                                 'tsa_detrended').compute()"
   ]
  },
  {
   "cell_type": "code",
   "execution_count": null,
   "id": "2b37e575-3ffc-44e3-8c41-ba9cd0b55a15",
   "metadata": {},
   "outputs": [],
   "source": [
    "precip_mjo_p1_dpm_cor = sfc_mode_cor(tp_lt_growing_optimal.sel(season_id=country_subset,\n",
    "                                                                  time=slice('1980', '2020')),\n",
    "                                     'precip_detrended',\n",
    "                                     'gpcc',\n",
    "                                     mjo_days_per_month_growing.sel(phase_ID=1,\n",
    "                                                                    time=slice('1980', '2020')).drop('phase_ID'),\n",
    "                                     'mjo_days_per_month_detrended').compute()\n",
    "precip_mjo_p2_dpm_cor = sfc_mode_cor(tp_lt_growing_optimal.sel(season_id=country_subset,\n",
    "                                                                  time=slice('1980', '2020')),\n",
    "                                     'precip_detrended',\n",
    "                                     'gpcc',\n",
    "                                     mjo_days_per_month_growing.sel(phase_ID=2,\n",
    "                                                                    time=slice('1980', '2020')).drop('phase_ID'),\n",
    "                                     'mjo_days_per_month_detrended').compute()\n",
    "precip_mjo_p3_dpm_cor = sfc_mode_cor(tp_lt_growing_optimal.sel(season_id=country_subset,\n",
    "                                                                  time=slice('1980', '2020')),\n",
    "                                     'precip_detrended',\n",
    "                                     'gpcc',\n",
    "                                     mjo_days_per_month_growing.sel(phase_ID=3,\n",
    "                                                                    time=slice('1980', '2020')).drop('phase_ID'),\n",
    "                                     'mjo_days_per_month_detrended').compute()\n",
    "precip_mjo_p4_dpm_cor = sfc_mode_cor(tp_lt_growing_optimal.sel(season_id=country_subset,\n",
    "                                                                  time=slice('1980', '2020')),\n",
    "                                     'precip_detrended',\n",
    "                                     'gpcc',\n",
    "                                     mjo_days_per_month_growing.sel(phase_ID=4,\n",
    "                                                                    time=slice('1980', '2020')).drop('phase_ID'),\n",
    "                                     'mjo_days_per_month_detrended').compute()\n",
    "precip_mjo_p5_dpm_cor = sfc_mode_cor(tp_lt_growing_optimal.sel(season_id=country_subset,\n",
    "                                                                  time=slice('1980', '2020')),\n",
    "                                     'precip_detrended',\n",
    "                                     'gpcc',\n",
    "                                     mjo_days_per_month_growing.sel(phase_ID=5,\n",
    "                                                                    time=slice('1980', '2020')).drop('phase_ID'),\n",
    "                                     'mjo_days_per_month_detrended').compute()\n",
    "precip_mjo_p6_dpm_cor = sfc_mode_cor(tp_lt_growing_optimal.sel(season_id=country_subset,\n",
    "                                                                  time=slice('1980', '2020')),\n",
    "                                     'precip_detrended',\n",
    "                                     'gpcc',\n",
    "                                     mjo_days_per_month_growing.sel(phase_ID=6,\n",
    "                                                                    time=slice('1980', '2020')).drop('phase_ID'),\n",
    "                                     'mjo_days_per_month_detrended').compute()\n",
    "precip_mjo_p7_dpm_cor = sfc_mode_cor(tp_lt_growing_optimal.sel(season_id=country_subset,\n",
    "                                                                  time=slice('1980', '2020')),\n",
    "                                     'precip_detrended',\n",
    "                                     'gpcc',\n",
    "                                     mjo_days_per_month_growing.sel(phase_ID=7,\n",
    "                                                                    time=slice('1980', '2020')).drop('phase_ID'),\n",
    "                                     'mjo_days_per_month_detrended').compute()\n",
    "precip_mjo_p8_dpm_cor = sfc_mode_cor(tp_lt_growing_optimal.sel(season_id=country_subset,\n",
    "                                                                  time=slice('1980', '2020')),\n",
    "                                     'precip_detrended',\n",
    "                                     'gpcc',\n",
    "                                     mjo_days_per_month_growing.sel(phase_ID=8,\n",
    "                                                                    time=slice('1980', '2020')).drop('phase_ID'),\n",
    "                                     'mjo_days_per_month_detrended').compute()"
   ]
  },
  {
   "cell_type": "code",
   "execution_count": null,
   "id": "e7fd71dd-3bd5-4be7-aeea-fd0ef5f5951f",
   "metadata": {},
   "outputs": [],
   "source": [
    "plot_cor([precip_nino34_cor,\n",
    "          precip_dmi_cor,\n",
    "         precip_atl_nino_cor,\n",
    "         precip_tna_cor,\n",
    "         precip_tsa_cor],\n",
    "         mode_labels[:5],\n",
    "         sup_titles=[],\n",
    "        save_fig=True, filename='precip_ocean_mode_cor.pdf')"
   ]
  },
  {
   "cell_type": "code",
   "execution_count": null,
   "id": "9a040652-b49d-427c-a821-af042e5f07ed",
   "metadata": {},
   "outputs": [],
   "source": [
    "plot_cor([precip_mjo_p1_dpm_cor,\n",
    "          precip_mjo_p2_dpm_cor,\n",
    "         precip_mjo_p3_dpm_cor,\n",
    "         precip_mjo_p4_dpm_cor,\n",
    "         precip_mjo_p5_dpm_cor,\n",
    "         precip_mjo_p6_dpm_cor,\n",
    "         precip_mjo_p7_dpm_cor,\n",
    "         precip_mjo_p8_dpm_cor],\n",
    "         mode_labels[5:],\n",
    "         sup_titles=[],\n",
    "        save_fig=True, filename='precip_mjo_cor.pdf')"
   ]
  },
  {
   "cell_type": "markdown",
   "id": "d4b75a8f-4dd4-4f32-849b-67867fe434f4",
   "metadata": {},
   "source": [
    "## Correlation with temperature"
   ]
  },
  {
   "cell_type": "code",
   "execution_count": null,
   "id": "a38bfd90-721d-4b1b-a591-28134304d804",
   "metadata": {},
   "outputs": [],
   "source": [
    "t2m_nino34_cor = sfc_mode_cor(t2m_lt_growing_optimal.sel(season_id=country_subset,\n",
    "                                                              time=slice('1980', '2020')),\n",
    "                                 'temperature_detrended',\n",
    "                                 'berkeley',\n",
    "                                 nino34_growing.sel(time=slice('1980', '2020')),\n",
    "                                 'nino34_detrended').compute()\n",
    "t2m_dmi_cor = sfc_mode_cor(t2m_lt_growing_optimal.sel(season_id=country_subset,\n",
    "                                                              time=slice('1980', '2020')),\n",
    "                                 'temperature_detrended',\n",
    "                                 'berkeley',\n",
    "                                 dmi_growing.sel(time=slice('1980', '2020')),\n",
    "                                 'dmi_detrended').compute()\n",
    "t2m_atl_nino_cor = sfc_mode_cor(t2m_lt_growing_optimal.sel(season_id=country_subset,\n",
    "                                                              time=slice('1980', '2020')),\n",
    "                                 'temperature_detrended',\n",
    "                                 'berkeley',\n",
    "                                 atl_nino_growing.sel(time=slice('1980', '2020')),\n",
    "                                 'atl_nino_detrended').compute()\n",
    "t2m_tna_cor = sfc_mode_cor(t2m_lt_growing_optimal.sel(season_id=country_subset,\n",
    "                                                              time=slice('1980', '2020')),\n",
    "                                 'temperature_detrended',\n",
    "                                 'berkeley',\n",
    "                                 tna_growing.sel(time=slice('1980', '2020')),\n",
    "                                 'tna_detrended').compute()\n",
    "t2m_tsa_cor = sfc_mode_cor(t2m_lt_growing_optimal.sel(season_id=country_subset,\n",
    "                                                              time=slice('1980', '2020')),\n",
    "                                 'temperature_detrended',\n",
    "                                 'berkeley',\n",
    "                                 tsa_growing.sel(time=slice('1980', '2020')),\n",
    "                                 'tsa_detrended').compute()"
   ]
  },
  {
   "cell_type": "code",
   "execution_count": null,
   "id": "e68adb0b-0741-46fb-a825-bc58b5a241e9",
   "metadata": {},
   "outputs": [],
   "source": [
    "t2m_mjo_p1_dpm_cor = sfc_mode_cor(t2m_lt_growing_optimal.sel(season_id=country_subset,\n",
    "                                                                  time=slice('1980', '2020')),\n",
    "                                     'temperature_detrended',\n",
    "                                     'berkeley',\n",
    "                                     mjo_days_per_month_growing.sel(phase_ID=1,\n",
    "                                                                    time=slice('1980', '2020')).drop('phase_ID'),\n",
    "                                     'mjo_days_per_month_detrended').compute()\n",
    "t2m_mjo_p2_dpm_cor = sfc_mode_cor(t2m_lt_growing_optimal.sel(season_id=country_subset,\n",
    "                                                                  time=slice('1980', '2020')),\n",
    "                                     'temperature_detrended',\n",
    "                                     'berkeley',\n",
    "                                     mjo_days_per_month_growing.sel(phase_ID=2,\n",
    "                                                                    time=slice('1980', '2020')).drop('phase_ID'),\n",
    "                                     'mjo_days_per_month_detrended').compute()\n",
    "t2m_mjo_p3_dpm_cor = sfc_mode_cor(t2m_lt_growing_optimal.sel(season_id=country_subset,\n",
    "                                                                  time=slice('1980', '2020')),\n",
    "                                     'temperature_detrended',\n",
    "                                     'berkeley',\n",
    "                                     mjo_days_per_month_growing.sel(phase_ID=3,\n",
    "                                                                    time=slice('1980', '2020')).drop('phase_ID'),\n",
    "                                     'mjo_days_per_month_detrended').compute()\n",
    "t2m_mjo_p4_dpm_cor = sfc_mode_cor(t2m_lt_growing_optimal.sel(season_id=country_subset,\n",
    "                                                                  time=slice('1980', '2020')),\n",
    "                                     'temperature_detrended',\n",
    "                                     'berkeley',\n",
    "                                     mjo_days_per_month_growing.sel(phase_ID=4,\n",
    "                                                                    time=slice('1980', '2020')).drop('phase_ID'),\n",
    "                                     'mjo_days_per_month_detrended').compute()\n",
    "t2m_mjo_p5_dpm_cor = sfc_mode_cor(t2m_lt_growing_optimal.sel(season_id=country_subset,\n",
    "                                                                  time=slice('1980', '2020')),\n",
    "                                     'temperature_detrended',\n",
    "                                     'berkeley',\n",
    "                                     mjo_days_per_month_growing.sel(phase_ID=5,\n",
    "                                                                    time=slice('1980', '2020')).drop('phase_ID'),\n",
    "                                     'mjo_days_per_month_detrended').compute()\n",
    "t2m_mjo_p6_dpm_cor = sfc_mode_cor(t2m_lt_growing_optimal.sel(season_id=country_subset,\n",
    "                                                                  time=slice('1980', '2020')),\n",
    "                                     'temperature_detrended',\n",
    "                                     'berkeley',\n",
    "                                     mjo_days_per_month_growing.sel(phase_ID=6,\n",
    "                                                                    time=slice('1980', '2020')).drop('phase_ID'),\n",
    "                                     'mjo_days_per_month_detrended').compute()\n",
    "t2m_mjo_p7_dpm_cor = sfc_mode_cor(t2m_lt_growing_optimal.sel(season_id=country_subset,\n",
    "                                                                  time=slice('1980', '2020')),\n",
    "                                     'temperature_detrended',\n",
    "                                     'berkeley',\n",
    "                                     mjo_days_per_month_growing.sel(phase_ID=7,\n",
    "                                                                    time=slice('1980', '2020')).drop('phase_ID'),\n",
    "                                     'mjo_days_per_month_detrended').compute()\n",
    "t2m_mjo_p8_dpm_cor = sfc_mode_cor(t2m_lt_growing_optimal.sel(season_id=country_subset,\n",
    "                                                                  time=slice('1980', '2020')),\n",
    "                                     'temperature_detrended',\n",
    "                                     'berkeley',\n",
    "                                     mjo_days_per_month_growing.sel(phase_ID=8,\n",
    "                                                                    time=slice('1980', '2020')).drop('phase_ID'),\n",
    "                                     'mjo_days_per_month_detrended').compute()"
   ]
  },
  {
   "cell_type": "code",
   "execution_count": null,
   "id": "a42c33cf-209d-4a24-baed-2a6dca1d5b54",
   "metadata": {},
   "outputs": [],
   "source": [
    "plot_cor([t2m_nino34_cor,\n",
    "          t2m_dmi_cor,\n",
    "         t2m_atl_nino_cor,\n",
    "         t2m_tna_cor,\n",
    "         t2m_tsa_cor],\n",
    "         mode_labels[:5],\n",
    "         sup_titles=[],\n",
    "        save_fig=True, filename='tmp_ocean_mode_cor.pdf')"
   ]
  },
  {
   "cell_type": "code",
   "execution_count": null,
   "id": "aeff6cb5-cbdb-4960-a2ca-d0e20cfc7eb0",
   "metadata": {},
   "outputs": [],
   "source": [
    "plot_cor([t2m_mjo_p1_dpm_cor,\n",
    "          t2m_mjo_p2_dpm_cor,\n",
    "         t2m_mjo_p3_dpm_cor,\n",
    "         t2m_mjo_p4_dpm_cor,\n",
    "         t2m_mjo_p5_dpm_cor,\n",
    "         t2m_mjo_p6_dpm_cor,\n",
    "         t2m_mjo_p7_dpm_cor,\n",
    "         t2m_mjo_p8_dpm_cor],\n",
    "         mode_labels[5:],\n",
    "         sup_titles=[],\n",
    "        save_fig=True, filename='tmp_mjo_cor.pdf')"
   ]
  },
  {
   "cell_type": "markdown",
   "id": "cd4a691e-27ad-417c-8e98-85f75e659fc1",
   "metadata": {},
   "source": [
    "### Combine some of these for the paper"
   ]
  },
  {
   "cell_type": "code",
   "execution_count": null,
   "id": "95f5f72f-e105-4c17-9746-77e2da56cc7e",
   "metadata": {},
   "outputs": [],
   "source": [
    "plot_cor([t2m_nino34_cor,\n",
    "          precip_nino34_cor,\n",
    "         t2m_dmi_cor,\n",
    "         precip_dmi_cor,\n",
    "         t2m_tna_cor,\n",
    "         precip_tna_cor,\n",
    "         t2m_mjo_p1_dpm_cor,\n",
    "         precip_mjo_p1_dpm_cor,\n",
    "         t2m_mjo_p4_dpm_cor,\n",
    "         precip_mjo_p4_dpm_cor],\n",
    "        [r'$\\mathrm{\\bf{a}}$ ENSO',\n",
    "         r'$\\mathrm{\\bf{b}}$ ENSO',\n",
    "         r'$\\mathrm{\\bf{c}}$ IOD',\n",
    "         r'$\\mathrm{\\bf{d}}$ IOD',\n",
    "         r'$\\mathrm{\\bf{e}}$ TNA',\n",
    "         r'$\\mathrm{\\bf{f}}$ TNA',\n",
    "         r'$\\mathrm{\\bf{g}}\\ \\mathrm{MJO}_{1}$',\n",
    "         r'$\\mathrm{\\bf{h}}\\ \\mathrm{MJO}_{1}$',\n",
    "         r'$\\mathrm{\\bf{i}}\\ \\mathrm{MJO}_{4}$',\n",
    "         r'$\\mathrm{\\bf{j}}\\ \\mathrm{MJO}_{4}$'],\n",
    "         sup_titles=['Temperature', 'Precipitation'],\n",
    "        save_fig=True, filename='mix_cor.pdf')"
   ]
  },
  {
   "cell_type": "markdown",
   "id": "39264293-d4d7-4170-96f3-7227070c8450",
   "metadata": {},
   "source": [
    "# Close cluster"
   ]
  },
  {
   "cell_type": "code",
   "execution_count": null,
   "id": "d20436fc-96a8-4627-a0c3-953fa254ec16",
   "metadata": {},
   "outputs": [],
   "source": [
    "client.close()\n",
    "cluster.close()"
   ]
  },
  {
   "cell_type": "code",
   "execution_count": null,
   "id": "8592ad1e-048f-4a78-8d49-27e491852df5",
   "metadata": {},
   "outputs": [],
   "source": []
  }
 ],
 "metadata": {
  "kernelspec": {
   "display_name": "Python 3",
   "language": "python",
   "name": "python3"
  },
  "language_info": {
   "codemirror_mode": {
    "name": "ipython",
    "version": 3
   },
   "file_extension": ".py",
   "mimetype": "text/x-python",
   "name": "python",
   "nbconvert_exporter": "python",
   "pygments_lexer": "ipython3",
   "version": "3.9.4"
  }
 },
 "nbformat": 4,
 "nbformat_minor": 5
}
