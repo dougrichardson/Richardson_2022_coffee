{
 "cells": [
  {
   "cell_type": "markdown",
   "id": "dc6ddbfb-2ab0-40d3-b056-4b7986a48aae",
   "metadata": {},
   "source": [
    "# Regression"
   ]
  },
  {
   "cell_type": "code",
   "execution_count": null,
   "id": "3693e92d-bbb5-41da-9c93-8d2ce7d76bee",
   "metadata": {},
   "outputs": [],
   "source": [
    "from dask_jobqueue import PBSCluster\n",
    "from dask.distributed import Client"
   ]
  },
  {
   "cell_type": "code",
   "execution_count": null,
   "id": "6e38661e-c425-4114-bf34-b7f1637f7497",
   "metadata": {},
   "outputs": [],
   "source": [
    "# One node on Gadi has 48 cores - try and use up a full core before going to multiple nodes (jobs)\n",
    "\n",
    "walltime = '00:10:00'\n",
    "cores = 2\n",
    "memory = '8GB'\n",
    "\n",
    "cluster = PBSCluster(walltime=str(walltime), cores=cores, memory=str(memory),\n",
    "                     job_extra=['-l ncpus='+str(cores),\n",
    "                                '-l mem='+str(memory),\n",
    "                                '-P xv83',\n",
    "                                '-l storage=gdata/xv83+gdata/rt52+scratch/xv83'],\n",
    "                     header_skip=[\"select\"])"
   ]
  },
  {
   "cell_type": "code",
   "execution_count": null,
   "id": "5718f97c-c950-4ba1-af67-28a401aeebb5",
   "metadata": {},
   "outputs": [],
   "source": [
    "cluster.scale(jobs=1)\n",
    "client = Client(cluster)"
   ]
  },
  {
   "cell_type": "code",
   "execution_count": null,
   "id": "6ee35e33-afe1-4d89-b22d-72ff9e02a683",
   "metadata": {},
   "outputs": [],
   "source": [
    "client"
   ]
  },
  {
   "cell_type": "code",
   "execution_count": null,
   "id": "be392322-11e5-4269-9856-f5e0910f544d",
   "metadata": {},
   "outputs": [],
   "source": [
    "%load_ext autoreload\n",
    "%autoreload 2"
   ]
  },
  {
   "cell_type": "code",
   "execution_count": null,
   "id": "03c385a0-92a8-4177-951c-df1dab825d1c",
   "metadata": {},
   "outputs": [],
   "source": [
    "import xarray as xr\n",
    "import numpy as np\n",
    "import pandas as pd\n",
    "import regionmask\n",
    "import copy\n",
    "from scipy import stats\n",
    "from collections import OrderedDict\n",
    "import xskillscore as xs\n",
    "\n",
    "import statsmodels.api as sm\n",
    "import statsmodels.formula.api as smf\n",
    "\n",
    "import matplotlib\n",
    "import matplotlib.pyplot as plt\n",
    "from mpl_toolkits.axes_grid1.inset_locator import inset_axes\n",
    "\n",
    "import cartopy.crs as ccrs\n",
    "import cartopy\n",
    "cartopy.config['pre_existing_data_dir'] = '/g/data/xv83/dr6273/work/data/cartopy-data'\n",
    "cartopy.config['data_dir'] = '/g/data/xv83/dr6273/work/data/cartopy-data'\n",
    "\n",
    "import functions as fn"
   ]
  },
  {
   "cell_type": "code",
   "execution_count": null,
   "id": "a88d0e8e-3093-44fb-ada6-86c1f83fb5ae",
   "metadata": {},
   "outputs": [],
   "source": [
    "plt_params = fn.get_plot_params()"
   ]
  },
  {
   "cell_type": "code",
   "execution_count": null,
   "id": "30e79c22-2d27-494c-bf5d-9d7ea9094a01",
   "metadata": {},
   "outputs": [],
   "source": [
    "# default colours\n",
    "prop_cycle = plt.rcParams['axes.prop_cycle']\n",
    "colors = prop_cycle.by_key()['color']"
   ]
  },
  {
   "cell_type": "markdown",
   "id": "475d1ea9-8c24-4927-8602-19efaeaf9fc6",
   "metadata": {},
   "source": [
    "# Load coffee data"
   ]
  },
  {
   "cell_type": "code",
   "execution_count": null,
   "id": "37a52be3-3950-4075-a34f-6bcbf31b9d45",
   "metadata": {},
   "outputs": [],
   "source": [
    "# Order abbrevs and names by species and production\n",
    "country_order = fn.get_country_order()"
   ]
  },
  {
   "cell_type": "code",
   "execution_count": null,
   "id": "1138fa4d-767a-4b02-a30e-f717a4b5677a",
   "metadata": {},
   "outputs": [],
   "source": [
    "growing_calendar = pd.read_csv('/g/data/xv83/dr6273/work/projects/coffee/data/coffee_country_growing_calendar_extended.csv',\n",
    "                               index_col=0)\n",
    "growing_calendar.head()"
   ]
  },
  {
   "cell_type": "code",
   "execution_count": null,
   "id": "c9b524b8-9f64-43a7-86f2-ca33bbc35844",
   "metadata": {},
   "outputs": [],
   "source": [
    "arabica_abbrevs = np.unique(growing_calendar.loc[(growing_calendar.species == 'Arabica'), 'abbrevs'])\n",
    "robusta_abbrevs = np.unique(growing_calendar.loc[(growing_calendar.species == 'Robusta'), 'abbrevs'])"
   ]
  },
  {
   "cell_type": "markdown",
   "id": "6d57e927-3507-4501-8f7b-16c6afcfcffc",
   "metadata": {},
   "source": [
    "# Gridded climate data relevant for each phase of coffee (growing and flowering)"
   ]
  },
  {
   "cell_type": "code",
   "execution_count": null,
   "id": "e60633c2-af9f-4b8a-9a1b-71cd14f75c3b",
   "metadata": {},
   "outputs": [],
   "source": [
    "vpd_flowering = xr.open_zarr('/g/data/xv83/dr6273/work/projects/coffee/data/era5_vpd_detrended_Flowering_upper_tail_1_std.zarr',\n",
    "                             consolidated=True)\n",
    "vpd_growing = xr.open_zarr('/g/data/xv83/dr6273/work/projects/coffee/data/era5_vpd_detrended_Growing_upper_tail_1_std.zarr',\n",
    "                              consolidated=True)"
   ]
  },
  {
   "cell_type": "code",
   "execution_count": null,
   "id": "4da52eaa-cdb2-4543-8598-d4914d24c60f",
   "metadata": {},
   "outputs": [],
   "source": [
    "mn2t_flowering = xr.open_zarr('/g/data/xv83/dr6273/work/projects/coffee/data/berkeley_tmin_detrended_Flowering_lower_tail_1_std.zarr',\n",
    "                             consolidated=True)\n",
    "mn2t_growing = xr.open_zarr('/g/data/xv83/dr6273/work/projects/coffee/data/berkeley_tmin_detrended_Growing_upper_tail_1_std.zarr',\n",
    "                              consolidated=True)"
   ]
  },
  {
   "cell_type": "code",
   "execution_count": null,
   "id": "e93ee470-462f-492c-9f99-7197530376e0",
   "metadata": {},
   "outputs": [],
   "source": [
    "mx2t_growing = xr.open_zarr('/g/data/xv83/dr6273/work/projects/coffee/data/berkeley_tmax_detrended_Growing_upper_tail_1_std.zarr',\n",
    "                                  consolidated=True)"
   ]
  },
  {
   "cell_type": "code",
   "execution_count": null,
   "id": "cc540c11-4d63-40a2-a0e6-a590cdfe5c7f",
   "metadata": {},
   "outputs": [],
   "source": [
    "t2m_lt_growing_optimal = xr.open_zarr('/g/data/xv83/dr6273/work/projects/coffee/data/berkeley_temperature_detrended_Growing_lower_tail_1_std.zarr',\n",
    "                                             consolidated=True)"
   ]
  },
  {
   "cell_type": "code",
   "execution_count": null,
   "id": "4554416e-6d0b-46be-b51a-3044351e2a2a",
   "metadata": {},
   "outputs": [],
   "source": [
    "t2m_ut_growing_optimal = xr.open_zarr('/g/data/xv83/dr6273/work/projects/coffee/data/berkeley_temperature_detrended_Growing_upper_tail_1_std.zarr',\n",
    "                                             consolidated=True)"
   ]
  },
  {
   "cell_type": "code",
   "execution_count": null,
   "id": "b6708d93-3016-47f9-8391-7c72084fb900",
   "metadata": {},
   "outputs": [],
   "source": [
    "tp_lt_growing_optimal = xr.open_zarr('/g/data/xv83/dr6273/work/projects/coffee/data/gpcc_precip_detrended_Annual_lower_tail_1_std.zarr',\n",
    "                                             consolidated=True)"
   ]
  },
  {
   "cell_type": "code",
   "execution_count": null,
   "id": "d4db9536-f909-496e-8aa7-1b6a55eb2eea",
   "metadata": {},
   "outputs": [],
   "source": [
    "tp_ut_growing_optimal = xr.open_zarr('/g/data/xv83/dr6273/work/projects/coffee/data/gpcc_precip_detrended_Annual_upper_tail_1_std.zarr',\n",
    "                                             consolidated=True)"
   ]
  },
  {
   "cell_type": "markdown",
   "id": "97900185-04e9-470d-9714-8fbb10c304ed",
   "metadata": {},
   "source": [
    "### Proportion of each country, and global coffee area, in drought each year"
   ]
  },
  {
   "cell_type": "code",
   "execution_count": null,
   "id": "e452d287-c1f8-4fea-bf54-6419c5d84a01",
   "metadata": {},
   "outputs": [],
   "source": [
    "vpd_grid_template = 'era5'\n",
    "temperature_grid_template = 'berkeley'\n",
    "precip_grid_template = 'gpcc'"
   ]
  },
  {
   "cell_type": "markdown",
   "id": "da85c26e-8cc8-41b0-849d-a32dbcba1a64",
   "metadata": {},
   "source": [
    "### VPD events"
   ]
  },
  {
   "cell_type": "code",
   "execution_count": null,
   "id": "21d3374c-3333-4934-aa08-55358191d081",
   "metadata": {},
   "outputs": [],
   "source": [
    "vpd_flowering_events = fn.calculate_event_statistics(vpd_flowering, vpd_grid_template).compute()"
   ]
  },
  {
   "cell_type": "code",
   "execution_count": null,
   "id": "c216a9e1-0c5f-4619-8b40-67ac0947963f",
   "metadata": {},
   "outputs": [],
   "source": [
    "vpd_growing_events = fn.calculate_event_statistics(vpd_growing, vpd_grid_template).compute()"
   ]
  },
  {
   "cell_type": "markdown",
   "id": "fe964050-14dd-4734-8489-28b620abaaa5",
   "metadata": {},
   "source": [
    "### Tmin averages events"
   ]
  },
  {
   "cell_type": "code",
   "execution_count": null,
   "id": "7aa28b43-dae3-4140-a420-a9df382bc776",
   "metadata": {},
   "outputs": [],
   "source": [
    "mn2t_flowering_events = fn.calculate_event_statistics(mn2t_flowering, temperature_grid_template).compute()"
   ]
  },
  {
   "cell_type": "code",
   "execution_count": null,
   "id": "19355a99-dc87-4cd3-b828-9db811f4a3d2",
   "metadata": {},
   "outputs": [],
   "source": [
    "mn2t_growing_events = fn.calculate_event_statistics(mn2t_growing, temperature_grid_template).compute()"
   ]
  },
  {
   "cell_type": "markdown",
   "id": "696267da-8cb8-4720-8086-8a6a934d7ba8",
   "metadata": {},
   "source": [
    "### Tmax averages events"
   ]
  },
  {
   "cell_type": "code",
   "execution_count": null,
   "id": "a10965ff-83cb-4b14-a041-2147d354876f",
   "metadata": {},
   "outputs": [],
   "source": [
    "mx2t_growing_events = fn.calculate_event_statistics(mx2t_growing, temperature_grid_template).compute()"
   ]
  },
  {
   "cell_type": "markdown",
   "id": "537a18d2-a865-4ac5-a52f-e262e74e8da0",
   "metadata": {
    "tags": []
   },
   "source": [
    "### T ranges events"
   ]
  },
  {
   "cell_type": "code",
   "execution_count": null,
   "id": "b03b7140-39a9-4120-a00b-09ecd6a02ed9",
   "metadata": {},
   "outputs": [],
   "source": [
    "t2m_lt_growing_optimal_events = fn.calculate_event_statistics(t2m_lt_growing_optimal, temperature_grid_template).compute()"
   ]
  },
  {
   "cell_type": "code",
   "execution_count": null,
   "id": "2881df22-66db-46d6-94bb-3efbca021e2f",
   "metadata": {},
   "outputs": [],
   "source": [
    "t2m_ut_growing_optimal_events = fn.calculate_event_statistics(t2m_ut_growing_optimal, temperature_grid_template).compute()"
   ]
  },
  {
   "cell_type": "markdown",
   "id": "d0a0433c-bdc6-45bb-8256-a89a60393f4b",
   "metadata": {
    "tags": []
   },
   "source": [
    "### Precip ranges events"
   ]
  },
  {
   "cell_type": "code",
   "execution_count": null,
   "id": "86c8cc2b-328c-4b59-90db-9cf1426eeddd",
   "metadata": {},
   "outputs": [],
   "source": [
    "tp_lt_growing_optimal_events = fn.calculate_event_statistics(tp_lt_growing_optimal, precip_grid_template).compute()"
   ]
  },
  {
   "cell_type": "code",
   "execution_count": null,
   "id": "a227b895-41d6-44c7-bc95-3c6ecb536b73",
   "metadata": {},
   "outputs": [],
   "source": [
    "tp_ut_growing_optimal_events = fn.calculate_event_statistics(tp_ut_growing_optimal, precip_grid_template).compute()"
   ]
  },
  {
   "cell_type": "markdown",
   "id": "ee096476-7181-4c3d-93a6-30d08b5d1c39",
   "metadata": {},
   "source": [
    "# Load mode data\n",
    "\n",
    "- Stick to growing season, as only one climate risk in flowering season.\n",
    "    - Means the comparison to 12-month rainfall is not quite right."
   ]
  },
  {
   "cell_type": "code",
   "execution_count": null,
   "id": "eb5b48e5-8b8d-4698-9757-f459781b75a3",
   "metadata": {},
   "outputs": [],
   "source": [
    "sst_dataset = 'hadisst'"
   ]
  },
  {
   "cell_type": "markdown",
   "id": "668237ab-5a56-44a0-83f0-8776a111a5f0",
   "metadata": {},
   "source": [
    "### Nino3.4"
   ]
  },
  {
   "cell_type": "code",
   "execution_count": null,
   "id": "02b76641-15aa-4f1d-bf44-023475dbd3b9",
   "metadata": {},
   "outputs": [],
   "source": [
    "nino34_growing = xr.open_zarr('/g/data/xv83/dr6273/work/projects/coffee/data/'+sst_dataset+'_nino34_detrended_Growing_both_tails_1_std.zarr',\n",
    "                                consolidated=True).compute()"
   ]
  },
  {
   "cell_type": "markdown",
   "id": "f8f88be9-7b1d-4087-9394-7c3ac40e21e1",
   "metadata": {},
   "source": [
    "### DMI"
   ]
  },
  {
   "cell_type": "code",
   "execution_count": null,
   "id": "9ac50c1a-aabd-46f0-a42d-1b4a519871ce",
   "metadata": {},
   "outputs": [],
   "source": [
    "dmi_growing = xr.open_zarr('/g/data/xv83/dr6273/work/projects/coffee/data/'+sst_dataset+'_dmi_detrended_Growing_both_tails_1_std.zarr',\n",
    "                            consolidated=True).compute()"
   ]
  },
  {
   "cell_type": "markdown",
   "id": "a5800a40-6c61-459f-8357-42aa754d57cd",
   "metadata": {},
   "source": [
    "### Atlantic Nino"
   ]
  },
  {
   "cell_type": "code",
   "execution_count": null,
   "id": "450bc7bf-1b47-4235-9a09-da433b99714d",
   "metadata": {},
   "outputs": [],
   "source": [
    "atl_nino_growing = xr.open_zarr('/g/data/xv83/dr6273/work/projects/coffee/data/'+sst_dataset+'_atl_nino_detrended_Growing_both_tails_1_std.zarr',\n",
    "                                consolidated=True).compute()"
   ]
  },
  {
   "cell_type": "markdown",
   "id": "d4ab02b7-9d4b-49ed-a1dd-0ea3f02f1b2e",
   "metadata": {},
   "source": [
    "### TNA"
   ]
  },
  {
   "cell_type": "code",
   "execution_count": null,
   "id": "e5b70a31-32e4-4331-aada-94920623824d",
   "metadata": {},
   "outputs": [],
   "source": [
    "tna_growing = xr.open_zarr('/g/data/xv83/dr6273/work/projects/coffee/data/'+sst_dataset+'_tna_detrended_Growing_both_tails_1_std.zarr',\n",
    "                                consolidated=True).compute()"
   ]
  },
  {
   "cell_type": "markdown",
   "id": "d75b1356-daef-464c-9dd9-0914fa6105a7",
   "metadata": {},
   "source": [
    "### TSA"
   ]
  },
  {
   "cell_type": "code",
   "execution_count": null,
   "id": "318df883-467a-4503-b19a-10b9f31a0bf9",
   "metadata": {},
   "outputs": [],
   "source": [
    "tsa_growing = xr.open_zarr('/g/data/xv83/dr6273/work/projects/coffee/data/'+sst_dataset+'_tsa_detrended_Growing_both_tails_1_std.zarr',\n",
    "                                consolidated=True).compute()"
   ]
  },
  {
   "cell_type": "markdown",
   "id": "ee7bc5a1-5bde-4b51-ac11-376e4c042fd4",
   "metadata": {},
   "source": [
    "### MJO"
   ]
  },
  {
   "cell_type": "code",
   "execution_count": null,
   "id": "07f3320a-4399-4d26-8156-d585e346f979",
   "metadata": {},
   "outputs": [],
   "source": [
    "mjo_days_per_month_growing = xr.open_zarr('/g/data/xv83/dr6273/work/projects/coffee/data/era5_mjo_days_per_month_detrended_Growing_both_tails_1_std.zarr',\n",
    "                                consolidated=True).compute()"
   ]
  },
  {
   "cell_type": "markdown",
   "id": "bd9424d5-0def-4a36-818b-c72eb2b3db33",
   "metadata": {},
   "source": [
    "### Concatenate"
   ]
  },
  {
   "cell_type": "code",
   "execution_count": null,
   "id": "9f30c66a-22aa-4553-90fd-f29a8ae78183",
   "metadata": {},
   "outputs": [],
   "source": [
    "modes_concat = xr.concat([\n",
    "    nino34_growing.nino34_detrended.expand_dims({'mode': ['nino34']}),\n",
    "    dmi_growing.dmi_detrended.expand_dims({'mode': ['dmi']}),\n",
    "    atl_nino_growing.atl_nino_detrended.expand_dims({'mode': ['atl_nino']}),\n",
    "    tna_growing.tna_detrended.expand_dims({'mode': ['tna']}),\n",
    "    tsa_growing.tsa_detrended.expand_dims({'mode': ['tsa']}),\n",
    "\n",
    "    mjo_days_per_month_growing.mjo_days_per_month_detrended.sel(phase_ID=1).expand_dims({'mode': ['mjo_dpm_p1']}).drop('phase_ID'),\n",
    "    mjo_days_per_month_growing.mjo_days_per_month_detrended.sel(phase_ID=2).expand_dims({'mode': ['mjo_dpm_p2']}).drop('phase_ID'),\n",
    "    mjo_days_per_month_growing.mjo_days_per_month_detrended.sel(phase_ID=3).expand_dims({'mode': ['mjo_dpm_p3']}).drop('phase_ID'),\n",
    "    mjo_days_per_month_growing.mjo_days_per_month_detrended.sel(phase_ID=4).expand_dims({'mode': ['mjo_dpm_p4']}).drop('phase_ID'),\n",
    "    mjo_days_per_month_growing.mjo_days_per_month_detrended.sel(phase_ID=5).expand_dims({'mode': ['mjo_dpm_p5']}).drop('phase_ID'),\n",
    "    mjo_days_per_month_growing.mjo_days_per_month_detrended.sel(phase_ID=6).expand_dims({'mode': ['mjo_dpm_p6']}).drop('phase_ID'),\n",
    "    mjo_days_per_month_growing.mjo_days_per_month_detrended.sel(phase_ID=7).expand_dims({'mode': ['mjo_dpm_p7']}).drop('phase_ID'),\n",
    "    mjo_days_per_month_growing.mjo_days_per_month_detrended.sel(phase_ID=8).expand_dims({'mode': ['mjo_dpm_p8']}).drop('phase_ID'),\n",
    "                        ], 'mode')\n",
    "\n",
    "modes_concat = modes_concat.sel(time=slice('1980', '2020'))"
   ]
  },
  {
   "cell_type": "markdown",
   "id": "abd33d7b-4124-4e16-8edb-0468341c5066",
   "metadata": {},
   "source": [
    "### Mode names for plots"
   ]
  },
  {
   "cell_type": "code",
   "execution_count": null,
   "id": "9df61ba1-f90e-4d1f-ab62-f7c4a701288d",
   "metadata": {},
   "outputs": [],
   "source": [
    "mode_names = [\n",
    "    'ENSO',\n",
    "    'IOD',\n",
    "    r'$\\mathrm{Atl. Ni\\tilde{n}o}$',\n",
    "    'TNA',\n",
    "    'TSA',\n",
    "    r'$\\mathrm{MJO}_{1}$',\n",
    "    r'$\\mathrm{MJO}_{2}$',\n",
    "    r'$\\mathrm{MJO}_{3}$',\n",
    "    r'$\\mathrm{MJO}_{4}$',\n",
    "    r'$\\mathrm{MJO}_{5}$',\n",
    "    r'$\\mathrm{MJO}_{6}$',\n",
    "    r'$\\mathrm{MJO}_{7}$',\n",
    "    r'$\\mathrm{MJO}_{8}$'\n",
    "]"
   ]
  },
  {
   "cell_type": "markdown",
   "id": "4debe83e-ae02-4336-beb2-7535f1571607",
   "metadata": {},
   "source": [
    "# Correlation between modes"
   ]
  },
  {
   "cell_type": "code",
   "execution_count": null,
   "id": "d62ab521-58fc-4aa9-8b05-e54c26c4834d",
   "metadata": {},
   "outputs": [],
   "source": [
    "def mode_cor():\n",
    "    \"\"\"\n",
    "    Compute correlation between each pair of climate modes\n",
    "    \"\"\"\n",
    "\n",
    "    def cor(s_id):\n",
    "        cor = np.full((len(modes_concat['mode'].values), len(modes_concat['mode'].values)), np.nan)\n",
    "\n",
    "        for i, mode1 in enumerate(modes_concat['mode'].values):\n",
    "            da1 = modes_concat.sel(season_id=s_id, mode=mode1)\n",
    "\n",
    "            for j, mode2 in enumerate(modes_concat['mode'].values):\n",
    "                da2 = modes_concat.sel(season_id=s_id, mode=mode2)\n",
    "\n",
    "#                 cor[i,j] = xr.corr(da1, da2, dim='time').values\n",
    "                cor[i, j] = xs.spearman_r(da1, da2, dim='time').values\n",
    "\n",
    "        return xr.DataArray(cor, dims=['mode1', 'mode2'],\n",
    "                            coords = {'mode1': modes_concat['mode'].values,\n",
    "                                      'mode2': modes_concat['mode'].values})\n",
    "    \n",
    "    da_list = []\n",
    "    for s_id in modes_concat.season_id.values:\n",
    "        da = cor(s_id).expand_dims({'season_id': [s_id]})\n",
    "        da_list.append(da)\n",
    "    cor_da = xr.concat(da_list, dim='season_id')\n",
    "    \n",
    "    return cor_da"
   ]
  },
  {
   "cell_type": "code",
   "execution_count": null,
   "id": "7f63f209-4a4c-4da6-96ef-69c3cb4f4ba5",
   "metadata": {},
   "outputs": [],
   "source": [
    "cor_da = mode_cor()"
   ]
  },
  {
   "cell_type": "markdown",
   "id": "e6f05f09-92b7-4bdd-9771-58dbebbc2264",
   "metadata": {},
   "source": [
    "### Set correlation threshold for figure and regression"
   ]
  },
  {
   "cell_type": "code",
   "execution_count": null,
   "id": "26f416d0-b9dd-4152-b467-3d1ca3e07faa",
   "metadata": {},
   "outputs": [],
   "source": [
    "correlation_threshold = 0.7"
   ]
  },
  {
   "cell_type": "code",
   "execution_count": null,
   "id": "9e7ff177-3f9e-4f0b-9a48-e479e93c7b82",
   "metadata": {},
   "outputs": [],
   "source": [
    "def plot_cor(da_list, season_name, names, cor_thresh, save_fig, filename):\n",
    "    \"\"\"\n",
    "    Plot correlation matrix\n",
    "    \"\"\"\n",
    "    \n",
    "    n_modes = len(da_list[0].mode1)\n",
    "    \n",
    "    da_copy = da_list[0].copy(deep=True)\n",
    "    arr = da_copy.values\n",
    "    arr[np.triu_indices(arr.shape[0], 0)] = np.nan\n",
    "    \n",
    "    with plt.rc_context(plt_params):\n",
    "    \n",
    "        fig, ax = plt.subplots(1, 1, figsize=(6.9, 6.9))\n",
    "\n",
    "        p = ax.pcolormesh(arr, cmap='PiYG', vmin=-1, vmax=1)\n",
    "        print(np.nanmin(arr), np.nanmax(arr))\n",
    "        \n",
    "        # For individual countries, we can plot markers where cor is > thresh\n",
    "        if len(da_list) == 1:\n",
    "            below_thresh = np.where(abs(arr) > cor_thresh)\n",
    "            ax.scatter(below_thresh[1]+.5, below_thresh[0]+.5, fc='k', ec='k', s=30)\n",
    "\n",
    "        ax.set_xlim(0, n_modes)\n",
    "        ax.set_xticks(np.arange(n_modes) + 0.5)\n",
    "        ax.set_xticklabels(names, rotation=30)\n",
    "\n",
    "        ax.set_ylim(0, n_modes)\n",
    "        ax.set_yticks(np.arange(n_modes) + 0.5)\n",
    "        ax.set_yticklabels(names)\n",
    "        \n",
    "        ax.set_title(season_name)\n",
    "        \n",
    "        cb_ax1 = fig.add_axes([0.92, 0.126, 0.02, 0.753])\n",
    "        cb1 = fig.colorbar(p, cax=cb_ax1, orientation='vertical', ticks=np.arange(-1, 1.01, 0.2))\n",
    "        cb1.ax.set_ylabel('Correlation [-]', rotation=270, va='bottom')\n",
    "        \n",
    "        if len(da_list) == 2:\n",
    "            da_copy = da_list[1].copy(deep=True)\n",
    "            arr = da_copy.values\n",
    "            arr[np.tril_indices(arr.shape[0], 0)] = np.nan\n",
    "            print(np.nanmin(arr), np.nanmax(arr))\n",
    "            \n",
    "            p2 = ax.pcolormesh(arr, cmap='inferno', vmin=0, vmax=.35)\n",
    "            \n",
    "            ax.plot((0,1), (0,1), c='k', transform=ax.transAxes)\n",
    "            \n",
    "            cb_ax2 = fig.add_axes([1.05, 0.126, 0.02, 0.753])\n",
    "            cb2 = fig.colorbar(p2, cax=cb_ax2, orientation='vertical', ticks=np.arange(0, 1.01, 0.05))\n",
    "            cb2.ax.set_ylabel('Standard deviation of correlation [-]', rotation=270, va='bottom')\n",
    "            cb1.ax.set_ylabel('Mean of correlation [-]', rotation=270, va='bottom')\n",
    "            \n",
    "        if save_fig:\n",
    "            plt.savefig('./figures/'+filename, format='pdf', dpi=400, bbox_inches='tight')"
   ]
  },
  {
   "cell_type": "code",
   "execution_count": null,
   "id": "e265a025-0c41-4351-8bf1-434b7d9b05c4",
   "metadata": {},
   "outputs": [],
   "source": [
    "plot_cor([cor_da.sel(season_id='BRS_0')], 'Brazil S growing season', mode_names,\n",
    "         correlation_threshold, save_fig=False, filename='mode_cor_BRS.pdf')"
   ]
  },
  {
   "cell_type": "code",
   "execution_count": null,
   "id": "c6168e61-f558-45b2-92fa-abe55bb37e59",
   "metadata": {},
   "outputs": [],
   "source": [
    "plot_cor([cor_da.mean('season_id'),\n",
    "          cor_da.std('season_id')],\n",
    "         'Mean and standard deviation over all growing seasons',\n",
    "         mode_names, cor_thresh=np.nan,\n",
    "        save_fig=True, filename='mode_cor_all.pdf')"
   ]
  },
  {
   "cell_type": "code",
   "execution_count": null,
   "id": "9d590d80-5518-48de-939b-d5a4944f4d65",
   "metadata": {},
   "outputs": [],
   "source": [
    "print(cor_da.sel(mode1='nino34', mode2=['mjo_dpm_p1', 'mjo_dpm_p4', 'mjo_dpm_p8']).min().values,\n",
    "      cor_da.sel(mode1='nino34', mode2=['mjo_dpm_p1', 'mjo_dpm_p4', 'mjo_dpm_p8']).max().values)"
   ]
  },
  {
   "cell_type": "code",
   "execution_count": null,
   "id": "916c4c4c-8802-42b2-b9ee-00115b1c8c9e",
   "metadata": {},
   "outputs": [],
   "source": [
    "print(abs(cor_da.sel(mode1='nino34', mode2=['mjo_dpm_p1', 'mjo_dpm_p4', 'mjo_dpm_p8'])).min().values,\n",
    "      cor_da.sel(mode1='nino34', mode2=['mjo_dpm_p1', 'mjo_dpm_p4', 'mjo_dpm_p8']).max().values)"
   ]
  },
  {
   "cell_type": "code",
   "execution_count": null,
   "id": "4903d191-007a-440d-9f8e-98ab06247115",
   "metadata": {},
   "outputs": [],
   "source": [
    "print(cor_da.sel(mode1='nino34', mode2=['mjo_dpm_p3', 'mjo_dpm_p5', 'mjo_dpm_p7']).min().values,\n",
    "      cor_da.sel(mode1='nino34', mode2=['mjo_dpm_p3', 'mjo_dpm_p5', 'mjo_dpm_p7']).max().values)"
   ]
  },
  {
   "cell_type": "code",
   "execution_count": null,
   "id": "cd044a97-4640-4f19-87a6-41952b40a3ab",
   "metadata": {},
   "outputs": [],
   "source": [
    "print(abs(cor_da.sel(mode1='nino34', mode2=['mjo_dpm_p3', 'mjo_dpm_p5', 'mjo_dpm_p7'])).min().values,\n",
    "      cor_da.sel(mode1='nino34', mode2=['mjo_dpm_p3', 'mjo_dpm_p5', 'mjo_dpm_p7']).max().values)"
   ]
  },
  {
   "cell_type": "markdown",
   "id": "d276f5ca-f79f-4890-89de-3c98b1b806c6",
   "metadata": {},
   "source": [
    "# Generalised linear models"
   ]
  },
  {
   "cell_type": "markdown",
   "id": "1916452d-e4d7-4b7f-a10d-00e9fc4e595f",
   "metadata": {},
   "source": [
    "#### Regression to fit to n events"
   ]
  },
  {
   "cell_type": "code",
   "execution_count": null,
   "id": "fe037dab-02ea-4e8f-be86-379db2b5e407",
   "metadata": {},
   "outputs": [],
   "source": [
    "def AIC(k, llh):\n",
    "    \"\"\"\n",
    "    Calculate the Aikake Information Criterion\n",
    "    \"\"\"\n",
    "    return 2*k - 2*(llh)"
   ]
  },
  {
   "cell_type": "code",
   "execution_count": null,
   "id": "61979355-ee6b-4c97-bc54-e5b8aca98c99",
   "metadata": {},
   "outputs": [],
   "source": [
    "def AICc(AIC, n, k):\n",
    "        \"\"\"\n",
    "        Calculates corrected Akaike Information Criterion.\n",
    "        AIC is the AIC score from a fitted model\n",
    "        n is the sample size\n",
    "        k is the number of parameters.\n",
    "            \"\"\"\n",
    "        return AIC + (2*k**2 + 2*k) / (n - k - 1)"
   ]
  },
  {
   "cell_type": "code",
   "execution_count": null,
   "id": "668d4f93-f90b-472a-9148-012b903fbb8c",
   "metadata": {},
   "outputs": [],
   "source": [
    "def plot_ts_hist(da, save_fig=False, filename='events_time_series.pdf'):\n",
    "    \"\"\"\n",
    "    Plot time series and histograms\n",
    "    \"\"\"\n",
    "    with plt.rc_context(plt_params):\n",
    "        fig, ax = plt.subplots(4, 4, figsize=(6.9,8), dpi=100)\n",
    "\n",
    "        for i, s_id in enumerate(da.season_id.values):\n",
    "            da.sel(season_id=s_id).plot(ax=ax.flatten()[i])\n",
    "\n",
    "            ax.flatten()[i].set_ylim(-5.05, 5.05)\n",
    "            ax.flatten()[i].set_yticks(np.arange(-5, 5.01, 1))\n",
    "\n",
    "            ax.flatten()[i].set_title('')\n",
    "            ax.flatten()[i].text(0.05, 0.93, list(country_order.values())[i], transform=ax.flatten()[i].transAxes)\n",
    "\n",
    "            if i < 11:\n",
    "                ax.flatten()[i].set_xlabel('')\n",
    "                ax.flatten()[i].set_xticks(da.time.values[::10])\n",
    "                ax.flatten()[i].set_xticklabels([])\n",
    "            else:\n",
    "                ax.flatten()[i].set_xlabel('Year')\n",
    "                ax.flatten()[i].set_xticks(da.time.values[::10])\n",
    "                ax.flatten()[i].set_xticklabels(da.time.dt.year.values[::10], rotation=30, ha='center')\n",
    "\n",
    "            if i in [0, 4, 8, 12]:\n",
    "                ax.flatten()[i].set_ylabel(r'$n$ signed events')\n",
    "            else:\n",
    "                ax.flatten()[i].set_ylabel('')\n",
    "                ax.flatten()[i].set_yticklabels([])\n",
    "\n",
    "            # Histogram inset\n",
    "            axins = inset_axes(ax.flatten()[i], width=\"50%\", height=\"19%\", bbox_to_anchor=(.0, .08, .8, .9),\n",
    "                               bbox_transform=ax.flatten()[i].transAxes, loc=3, borderpad=1)\n",
    "            axins.hist(da.sel(season_id=s_id).values, color='dimgray', bins=10)\n",
    "\n",
    "            axins.set_xlim(-4, 4)\n",
    "            axins.set_xticks(np.arange(-4, 4.01, 2))\n",
    "            axins.set_xticklabels(range(-4, 5, 2))\n",
    "\n",
    "            axins.set_ylim(0,25)\n",
    "            axins.set_yticks([0,25])\n",
    "            axins.set_yticklabels([0, 25])\n",
    "            axins.yaxis.tick_right()\n",
    "\n",
    "            axins.tick_params(direction='out', length=2)\n",
    "\n",
    "        ax[-1,-1].axis('off')\n",
    "\n",
    "        plt.subplots_adjust(wspace=0.08, hspace=0.08)\n",
    "        \n",
    "        if save_fig:\n",
    "            plt.savefig('./figures/'+filename, format='pdf', dpi=400, bbox_inches='tight')"
   ]
  },
  {
   "cell_type": "code",
   "execution_count": null,
   "id": "2f558d0f-98e4-4c1f-8eab-99dd9c051119",
   "metadata": {},
   "outputs": [],
   "source": [
    "def subset_predictors(predictors, correlation_da, correlation_thresh, mode1_name='mode1', mode2_name='mode2'):\n",
    "    \"\"\"\n",
    "    Obtain a subset of predictors that excludes combinations where any pair of predictors\n",
    "    has a correlation greater than some threshold\n",
    "    \"\"\"\n",
    "    \n",
    "    def powerset(iterable):\n",
    "        \"powerset([1,2,3]) --> () (1,) (2,) (3,) (1,2) (1,3) (2,3) (1,2,3)\"\n",
    "        from itertools import chain, combinations\n",
    "        s = list(iterable)\n",
    "        return list(chain.from_iterable(combinations(s, r) for r in range(len(s)+1)))\n",
    "    \n",
    "    discard = [] # will be a list of lists containing predictor sets to discard for each mode\n",
    "    \n",
    "    full_set = powerset(predictors)\n",
    "    candidates = full_set[len(predictors)+1:] # Only consider sets with at least two predictors\n",
    "    \n",
    "    for mode in correlation_da[mode1_name].values:\n",
    "        mode_discard = [] # list containing predictor sets to discard\n",
    "        \n",
    "        # obtain set of modes correlated with mode\n",
    "        correlated_modes = correlation_da.where(abs(correlation_da) > correlation_thresh).sel({mode1_name: mode})\n",
    "        correlated_modes = correlated_modes[correlated_modes.notnull()]\n",
    "        correlated_modes = correlated_modes[mode2_name].values\n",
    "        mode_i = np.where(correlated_modes == mode)[0][0]\n",
    "        correlated_modes = np.delete(correlated_modes, mode_i) # remove mode (correlation of a mode with itself is 1)\n",
    "        set_cor_modes = set(correlated_modes)\n",
    "        \n",
    "        if len(set_cor_modes) > 0: # Only process modes that are correlated with other modes\n",
    "            subset = [x for x in candidates if mode in x] # all predictor sets including this mode\n",
    "            \n",
    "            for s in subset:\n",
    "                set_s = set(s)\n",
    "                intersection = set_s.intersection(set_cor_modes) # returns predictor sets containing correlated modes\n",
    "                if len(intersection) > 0:\n",
    "                    mode_discard.append(s) # append any correlated predictor sets\n",
    "                    \n",
    "        discard.append(mode_discard)\n",
    "        \n",
    "    # Use these discard lists to choose predictor sets with only uncorrelated predictors\n",
    "    for mode_discard in discard:\n",
    "        candidates = [i for i in candidates if i not in mode_discard]\n",
    "        \n",
    "    return candidates"
   ]
  },
  {
   "cell_type": "code",
   "execution_count": null,
   "id": "69189cd8-b901-4423-b2f6-39bd879d3ce4",
   "metadata": {},
   "outputs": [],
   "source": [
    "def glm_selection_uncorrelated(data, response, family, correlation_da, correlation_thresh, mode1_name='mode1', mode2_name='mode2'):\n",
    "    \"\"\"\n",
    "    Fits a generalised linear model to the data. All possible combinations of predictors are tested,\n",
    "    as long as none of the predictors are correlated with each other.\n",
    "\n",
    "    data : pandas DataFrame containing response and predictors\n",
    "    response : string indicating name of response\n",
    "    family : statsmodels family and links function i.e. statsmodels.families.<family>(link=sm.families.links.<link>)\n",
    "    correlation_da : xarray DataArray of predictors' correlation\n",
    "    correlation_thresh : value of correlation by which to exclude predictors\n",
    "    \"\"\"\n",
    "    \n",
    "    n = data.shape[0]\n",
    "    \n",
    "    predictors = set(data.columns)\n",
    "    predictors.remove(response)\n",
    "    \n",
    "    all_combs = subset_predictors(predictors, correlation_da, correlation_thresh, mode1_name=mode1_name, mode2_name=mode2_name)\n",
    "    n_combs = len(all_combs)\n",
    "    print(n_combs, 'combinations\\n')\n",
    "    \n",
    "    formulas = ['XXX' for i in range(n_combs)]\n",
    "    scores = np.full(n_combs, np.nan)\n",
    "    \n",
    "    for i, com in enumerate(all_combs):\n",
    "        k = len(com)\n",
    "        \n",
    "        formula = \"{} ~ {}\".format(response, ' + '.join(com))\n",
    "        formulas[i] = formula\n",
    "        \n",
    "        aic = smf.glm(formula, data, family=family).fit().aic\n",
    "        aicc = AICc(aic, n, k)\n",
    "        scores[i] = aicc\n",
    "    \n",
    "    all_results = OrderedDict({k: v for k, v in zip(scores, formulas)})\n",
    "    \n",
    "    best_score_ind = np.where(scores == np.nanmin(scores))[0][0]\n",
    "    best_predictors = all_combs[best_score_ind]\n",
    "    \n",
    "    formula = \"{} ~ {} + 1\".format(response, ' + '.join(best_predictors))\n",
    "    model = smf.glm(formula, data, family=family).fit()\n",
    "    \n",
    "    return model, all_results"
   ]
  },
  {
   "cell_type": "code",
   "execution_count": null,
   "id": "b3337e00-e236-47c5-93e4-2617f2f29a05",
   "metadata": {},
   "outputs": [],
   "source": [
    "def fit_models(y_da, X_da, family_dict, correlation_da, correlation_thresh,\n",
    "               standardise=True, mode1_name='mode1', mode2_name='mode2'):\n",
    "    \"\"\"\n",
    "    Wrapper for fitting models\n",
    "    \"\"\"\n",
    "    best_models = {}\n",
    "    all_models = {}\n",
    "    for s_id in y_da.season_id.values:\n",
    "        print(s_id)\n",
    "        \n",
    "        family_name = family_dict[s_id]\n",
    "        if family_name == 'gamma':\n",
    "            shift = 2.001\n",
    "            family = sm.families.Gamma(link=sm.families.links.log())\n",
    "        elif family_name == 'normal':\n",
    "            shift = 0\n",
    "            family = sm.families.Gaussian(link=sm.families.links.identity())\n",
    "        else:\n",
    "            raise ValueError(\"Incorrect family. Should be 'normal' or 'gamma'.\")\n",
    "        \n",
    "        y = y_da.sel(season_id=s_id) + shift\n",
    "        X = X_da.sel(season_id=s_id).transpose('time', 'mode')\n",
    "        \n",
    "        if standardise:\n",
    "            y = y / y.std('time')\n",
    "            X = X / X.std('time')\n",
    "\n",
    "        y_df = pd.DataFrame(y.values, index=y.time.values, columns=['y'])\n",
    "        X_df = pd.DataFrame(X.values, index=y.time.values, columns=X.mode.values)\n",
    "        df = pd.concat([y_df, X_df], axis=1)\n",
    "\n",
    "#         models[s_id] = forward_selected(model, df, 'y', family)\n",
    "        best_models[s_id], all_models[s_id] = glm_selection_uncorrelated(df, 'y', family,\n",
    "                                                                         correlation_da.sel(season_id=s_id),\n",
    "                                                                         correlation_thresh)\n",
    "        \n",
    "    return best_models, all_models"
   ]
  },
  {
   "cell_type": "code",
   "execution_count": null,
   "id": "fafade48-6ad5-4434-83de-5c8731147378",
   "metadata": {},
   "outputs": [],
   "source": [
    "def plot_residuals(model_dict, resid_name='Deviance residuals', save_fig=False, filename='residuals.pdf'):\n",
    "    \"\"\"\n",
    "    Plot model residuals\n",
    "    \"\"\"\n",
    "    with plt.rc_context(plt_params):\n",
    "        fig, ax = plt.subplots(4, 4, figsize=(6.9,8), dpi=100)\n",
    "\n",
    "        for i, (k, model) in enumerate(zip(model_dict.keys(), model_dict.values())):\n",
    "            ax.flatten()[i].axhline(0, color='k', lw=1)\n",
    "            \n",
    "            if resid_name == 'Deviance residuals':\n",
    "                y = model.resid_deviance\n",
    "            elif resid_name == 'Pearson residuals':\n",
    "                y = model.resid_pearson\n",
    "            elif resid_name == 'Response residuals':\n",
    "                y = model.resid_response\n",
    "            else:\n",
    "                raise ValueError('Incorrect residuals type')\n",
    "            \n",
    "            ax.flatten()[i].scatter(model.fittedvalues, y, s=2)\n",
    "            ax.flatten()[i].set_title(k)\n",
    "            \n",
    "            ax.flatten()[i].set_xticks(np.arange(-3, 3.01, 1))\n",
    "\n",
    "            ax.flatten()[i].set_ylim(-2.05, 2.05)\n",
    "            ax.flatten()[i].set_yticks(np.arange(-2, 2.01, 0.5))\n",
    "\n",
    "            ax.flatten()[i].set_title('')\n",
    "            ax.flatten()[i].text(0.05, 0.93, list(country_order.values())[i], transform=ax.flatten()[i].transAxes)\n",
    "\n",
    "            if i < 11:\n",
    "                ax.flatten()[i].set_xlabel('')\n",
    "                ax.flatten()[i].set_xticklabels([])\n",
    "            else:\n",
    "                ax.flatten()[i].set_xlabel('Fitted values')\n",
    "\n",
    "            if i in [0, 4, 8, 12]:\n",
    "                ax.flatten()[i].set_ylabel(resid_name)\n",
    "            else:\n",
    "                ax.flatten()[i].set_ylabel('')\n",
    "                ax.flatten()[i].set_yticklabels([])\n",
    "\n",
    "\n",
    "        ax[-1,-1].axis('off')\n",
    "\n",
    "        plt.subplots_adjust(wspace=0.08, hspace=0.08)\n",
    "        \n",
    "        if save_fig:\n",
    "            plt.savefig('./figures/'+filename, format='pdf', dpi=400, bbox_inches='tight')"
   ]
  },
  {
   "cell_type": "code",
   "execution_count": null,
   "id": "a0ca5b63-3ac9-4d2a-9020-d7f1833df2ed",
   "metadata": {},
   "outputs": [],
   "source": [
    "def plot_residuals_hist(model_dict, resid_name='Deviance residuals', save_fig=False, filename='residuals_hist.pdf'):\n",
    "    \"\"\"\n",
    "    Plot histogram of the residuals\n",
    "    \"\"\"\n",
    "    with plt.rc_context(plt_params):\n",
    "        fig, ax = plt.subplots(4, 4, figsize=(6.9,8), dpi=100)\n",
    "\n",
    "        for i, (k, model) in enumerate(zip(model_dict.keys(), model_dict.values())):\n",
    "            ax.flatten()[i].axhline(0, color='k', lw=1)\n",
    "            \n",
    "            if resid_name == 'Deviance residuals':\n",
    "                y = model.resid_deviance\n",
    "            elif resid_name == 'Pearson residuals':\n",
    "                y = model.resid_pearson\n",
    "            elif resid_name == 'Response residuals':\n",
    "                y = model.resid_response\n",
    "            else:\n",
    "                raise ValueError('Incorrect residuals type')\n",
    "            \n",
    "            ax.flatten()[i].hist(model.fittedvalues, 15)\n",
    "            ax.flatten()[i].axvline(0, c='k')\n",
    "            ax.flatten()[i].set_title(k)\n",
    "            \n",
    "            ax.flatten()[i].set_xticks(np.arange(-3, 3.01, 1))\n",
    "\n",
    "            ax.flatten()[i].set_ylim(0, 15)\n",
    "            ax.flatten()[i].set_yticks(range(0, 16, 5))\n",
    "\n",
    "            ax.flatten()[i].set_title('')\n",
    "            ax.flatten()[i].text(0.05, 0.93, list(country_order.values())[i], transform=ax.flatten()[i].transAxes)\n",
    "\n",
    "            if i < 11:\n",
    "                ax.flatten()[i].set_xlabel('')\n",
    "                ax.flatten()[i].set_xticklabels([])\n",
    "            else:\n",
    "                ax.flatten()[i].set_xlabel(resid_name)\n",
    "\n",
    "            if i in [0, 4, 8, 12]:\n",
    "                ax.flatten()[i].set_ylabel('Counts')\n",
    "            else:\n",
    "                ax.flatten()[i].set_ylabel('')\n",
    "                ax.flatten()[i].set_yticklabels([])\n",
    "\n",
    "\n",
    "        ax[-1,-1].axis('off')\n",
    "\n",
    "        plt.subplots_adjust(wspace=0.08, hspace=0.08)\n",
    "        \n",
    "        if save_fig:\n",
    "            plt.savefig('./figures/'+filename, format='pdf', dpi=400, bbox_inches='tight')"
   ]
  },
  {
   "cell_type": "code",
   "execution_count": null,
   "id": "9f2707e6-a657-4455-b437-f074192fe974",
   "metadata": {},
   "outputs": [],
   "source": [
    "def plot_qq(model_dict, resid_name='Deviance residuals', save_fig=False, filename='qq_plot.pdf'):\n",
    "    \"\"\"\n",
    "    Q-q plot\n",
    "    \"\"\"\n",
    "    with plt.rc_context(plt_params):\n",
    "        fig, ax = plt.subplots(4, 4, figsize=(6.9,8), dpi=100)\n",
    "\n",
    "        for i, (k, model) in enumerate(zip(model_dict.keys(), model_dict.values())):\n",
    "            \n",
    "            if resid_name == 'Deviance residuals':\n",
    "                y = model.resid_deviance\n",
    "            elif resid_name == 'Pearson residuals':\n",
    "                y = model.resid_pearson\n",
    "            elif resid_name == 'Response residuals':\n",
    "                y = model.resid_response\n",
    "            else:\n",
    "                raise ValueError('Incorrect residuals type')\n",
    "                \n",
    "            pp = sm.ProbPlot(y, dist=stats.norm, fit=True)\n",
    "            \n",
    "            ax.flatten()[i].plot((-2, 2), (-2, 2), color='r', zorder=0)\n",
    "            ax.flatten()[i].scatter(pp.theoretical_quantiles, pp.sample_quantiles, s=4, zorder=1)\n",
    "            \n",
    "            ax.flatten()[i].set_title(k)\n",
    "            \n",
    "            ax.flatten()[i].set_xticks(np.arange(-2, 2.01, 1))\n",
    "\n",
    "            ax.flatten()[i].set_ylim(-3, 3)\n",
    "            ax.flatten()[i].set_yticks(np.arange(-3, 3.01, 1))\n",
    "\n",
    "            ax.flatten()[i].set_title('')\n",
    "            ax.flatten()[i].text(0.05, 0.93, list(country_order.values())[i], transform=ax.flatten()[i].transAxes)\n",
    "\n",
    "            if i < 11:\n",
    "                ax.flatten()[i].set_xlabel('')\n",
    "                ax.flatten()[i].set_xticklabels([])\n",
    "            else:\n",
    "                ax.flatten()[i].set_xlabel('Theoretical quantiles')\n",
    "\n",
    "            if i in [0, 4, 8, 12]:\n",
    "                ax.flatten()[i].set_ylabel('Empirical quantiles')\n",
    "            else:\n",
    "                ax.flatten()[i].set_ylabel('')\n",
    "                ax.flatten()[i].set_yticklabels([])\n",
    "\n",
    "\n",
    "        ax[-1,-1].axis('off')\n",
    "\n",
    "        plt.subplots_adjust(wspace=0.08, hspace=0.08)\n",
    "        \n",
    "        if save_fig:\n",
    "            plt.savefig('./figures/'+filename, format='pdf', dpi=400, bbox_inches='tight')"
   ]
  },
  {
   "cell_type": "code",
   "execution_count": null,
   "id": "a601a76b-f093-4a79-836e-731f27ebfdb8",
   "metadata": {},
   "outputs": [],
   "source": [
    "def plot_model_coeffs(model_dict, mode_da, names, save_fig=False, filename='model_coeffs.pdf'):\n",
    "    \"\"\"\n",
    "    Plot model coefficient values\n",
    "    \"\"\"\n",
    "    def get_params(model_dict, mode_da):\n",
    "        arr = np.full((len(mode_da.mode), len(mode_da.season_id)), np.nan) # rows are modes, columns are countries\n",
    "\n",
    "        for j, s_id in enumerate(country_order.keys()):\n",
    "            params = model_dict[s_id].params\n",
    "            for i, m in enumerate(mode_da.mode.values):\n",
    "                try:\n",
    "                    coeff = params[m]\n",
    "                    arr[i,j] = coeff\n",
    "                except:\n",
    "                    pass\n",
    "                \n",
    "        return arr\n",
    "    \n",
    "    def roundup(x, nearest):\n",
    "        import math\n",
    "        return int(math.ceil(x / nearest)) * nearest\n",
    "                \n",
    "    plot_data = get_params(model_dict, mode_da)\n",
    "    p_min = np.nanmin(plot_data)\n",
    "    p_max = np.nanmax(plot_data)\n",
    "    p_absmax = np.nanmax(np.abs([p_min, p_max]))\n",
    "    \n",
    "    if p_absmax > 2.5:\n",
    "        p_lim = roundup(p_absmax, 1)\n",
    "        cbar_space = 1\n",
    "    else:\n",
    "        p_lim = roundup(p_absmax, 0.5)\n",
    "        cbar_space = 0.5\n",
    "    print(p_min, p_max, p_lim)\n",
    "                \n",
    "    with plt.rc_context(plt_params):\n",
    "        fig, ax = plt.subplots(1, 1, figsize=(3, 2), dpi=160)\n",
    "\n",
    "        p = ax.pcolormesh(plot_data.transpose(), cmap='RdBu_r', vmin=-p_lim, vmax=p_lim)\n",
    "\n",
    "        ax.invert_yaxis()\n",
    "        ax.set_yticks(np.arange(0.5, len(modes_concat.season_id)))\n",
    "        ax.set_yticklabels(list(country_order.values()))\n",
    "    #     ax.set_ylabel('Coffee seasons\\n\\n')\n",
    "\n",
    "        ax.set_xticks(np.arange(0.5, len(mode_da.mode)+0.1, 1))\n",
    "        ax.set_xticklabels(names, rotation=90)\n",
    "\n",
    "#         ax.set_title('Coefficients of selected model')\n",
    "        \n",
    "        ax.text(-0.32, 0.7, 'Arabica', transform=ax.transAxes, rotation=90, ha='center', va='center')\n",
    "        ax.text(-0.32, 0.2, 'Robusta', transform=ax.transAxes, rotation=90, ha='center', va='center')\n",
    "\n",
    "        ax.annotate('', xy=(-0.35, 0.4), xycoords='axes fraction', xytext=(1.01, 0.4), \n",
    "            arrowprops=dict(arrowstyle=\"-\", ls=':', lw=plt_params['lines.linewidth']-0.5))\n",
    "        ax.annotate('', xy=(-0.29, 0.), xycoords='axes fraction', xytext=(-0.29, 1), \n",
    "            arrowprops=dict(arrowstyle=\"-\", ls=':', lw=plt_params['lines.linewidth']-0.5))\n",
    "\n",
    "        cb_ax1 = fig.add_axes([0.93, 0.15, 0.02, 0.71])\n",
    "        cb1 = fig.colorbar(p, cax=cb_ax1, orientation='vertical', ticks=np.arange(-p_lim, p_lim+.01, cbar_space))\n",
    "        cb1.ax.set_ylabel('Coefficient [-]', rotation=270, va='bottom')\n",
    "        \n",
    "        if save_fig:\n",
    "            plt.savefig('./figures/'+filename, format='pdf', dpi=400, bbox_inches='tight')"
   ]
  },
  {
   "cell_type": "code",
   "execution_count": null,
   "id": "eb965209-3b96-4a37-b485-c75ddb8e88dc",
   "metadata": {},
   "outputs": [],
   "source": [
    "# Select relevant countries for each species and concat\n",
    "arabica_season_ids = [s for s in mn2t_growing_events.season_id.values if s.split('_')[0] in arabica_abbrevs]\n",
    "robusta_season_ids = [s for s in mn2t_growing_events.season_id.values if s.split('_')[0] in robusta_abbrevs]"
   ]
  },
  {
   "cell_type": "code",
   "execution_count": null,
   "id": "9711c0a8-aaa8-4f6e-b0fd-210d86973c2f",
   "metadata": {},
   "outputs": [],
   "source": [
    "arabica_risks = {\n",
    "                 'VPD > x': vpd_growing_events.sel(time=slice('1980', '2020')).sel(season_id=arabica_season_ids),\n",
    "                 'Tmax > x': mx2t_growing_events.sel(time=slice('1980', '2020')).sel(season_id=arabica_season_ids),\n",
    "                 'T < x': t2m_lt_growing_optimal_events.sel(time=slice('1980', '2020')).sel(season_id=arabica_season_ids),\n",
    "                 'T > x': t2m_ut_growing_optimal_events.sel(time=slice('1980', '2020')).sel(season_id=arabica_season_ids),\n",
    "                 'P < x': tp_lt_growing_optimal_events.sel(time=slice('1980', '2020')).sel(season_id=arabica_season_ids),\n",
    "                 'P > x': tp_ut_growing_optimal_events.sel(time=slice('1980', '2020')).sel(season_id=arabica_season_ids)\n",
    "                }"
   ]
  },
  {
   "cell_type": "code",
   "execution_count": null,
   "id": "341657ee-5cac-44b6-8fb1-ba923ef15638",
   "metadata": {},
   "outputs": [],
   "source": [
    "robusta_risks = {\n",
    "#                  'Tmin fl < x': mn2t_flowering_events.sel(time=slice('1980', '2020')).sel(season_id=robusta_season_ids),\n",
    "                 'Tmin gr > x': mn2t_growing_events.sel(time=slice('1980', '2020')).sel(season_id=robusta_season_ids),\n",
    "                 'T < x': t2m_lt_growing_optimal_events.sel(time=slice('1980', '2020')).sel(season_id=robusta_season_ids),\n",
    "                 'T > x': t2m_ut_growing_optimal_events.sel(time=slice('1980', '2020')).sel(season_id=robusta_season_ids),\n",
    "                 'P < x': tp_lt_growing_optimal_events.sel(time=slice('1980', '2020')).sel(season_id=robusta_season_ids),\n",
    "                 'P > x': tp_ut_growing_optimal_events.sel(time=slice('1980', '2020')).sel(season_id=robusta_season_ids)\n",
    "                }"
   ]
  },
  {
   "cell_type": "code",
   "execution_count": null,
   "id": "9277c37d-25fd-424c-a548-07e497a2a63f",
   "metadata": {},
   "outputs": [],
   "source": [
    "signed_arabica_risks = copy.deepcopy(arabica_risks)\n",
    "signed_arabica_risks['T < x'] *= -1\n",
    "signed_arabica_risks['P > x'] *= -1"
   ]
  },
  {
   "cell_type": "code",
   "execution_count": null,
   "id": "b6eee576-0324-42ec-98d3-19a097125a11",
   "metadata": {},
   "outputs": [],
   "source": [
    "signed_robusta_risks = copy.deepcopy(robusta_risks)\n",
    "# signed_robusta_risks['Tmin fl < x'] *= -1\n",
    "signed_robusta_risks['T < x'] *= -1\n",
    "signed_robusta_risks['P > x'] *= -1"
   ]
  },
  {
   "cell_type": "code",
   "execution_count": null,
   "id": "b084d7ea-7395-46e4-8302-3ca60687fee0",
   "metadata": {},
   "outputs": [],
   "source": [
    "n_events = fn.combine_n_events([arabica_risks, robusta_risks])\n",
    "n_events = n_events.sel(season_id=list(country_order.keys()))"
   ]
  },
  {
   "cell_type": "code",
   "execution_count": null,
   "id": "1e551b0f-a68d-4cf4-90a9-d310e42eae01",
   "metadata": {},
   "outputs": [],
   "source": [
    "signed_n_events = fn.combine_n_events([signed_arabica_risks, signed_robusta_risks]) # can be used to tell whether the majority of events in a year are warm/dry or cold/wet\n",
    "signed_n_events = signed_n_events.sel(season_id=list(country_order.keys()))\n",
    "# signed_n_events = xr.where(signed_n_events < 0, n_events * -1, n_events)"
   ]
  },
  {
   "cell_type": "markdown",
   "id": "ebd943bf-b5a8-4766-b1b5-d4e539b4818d",
   "metadata": {},
   "source": [
    "### Fit to signed number of events"
   ]
  },
  {
   "cell_type": "code",
   "execution_count": null,
   "id": "e79d9efb-b25a-48fc-8cb7-3894711b9619",
   "metadata": {},
   "outputs": [],
   "source": [
    "plot_ts_hist(signed_n_events, save_fig=True, filename='signed_events_time_series.pdf')"
   ]
  },
  {
   "cell_type": "markdown",
   "id": "1b572ea1-4dff-443f-beeb-f794c72ae9b3",
   "metadata": {},
   "source": [
    "### Which family do we choose when fitting our GLM?\n",
    "- Arabica data ranges from -2 to 4\n",
    "- Robusta data ranges from -2 to 3\n",
    "- A Gaussian distribution looks appropriate for some regions\n",
    "- A Gamma could also fit (the data would first be shifted to ensure it is nonnegative)"
   ]
  },
  {
   "cell_type": "code",
   "execution_count": null,
   "id": "62fa0c82-d410-456e-9920-ad0f25fa5e9c",
   "metadata": {},
   "outputs": [],
   "source": [
    "dists = {k: 'normal' for k in modes_concat.season_id.values}\n",
    "dists"
   ]
  },
  {
   "cell_type": "markdown",
   "id": "a7de186e-424d-412f-a2dd-73b703978561",
   "metadata": {},
   "source": [
    "### All possible predictor sets with uncorrelated predictors"
   ]
  },
  {
   "cell_type": "code",
   "execution_count": null,
   "id": "55409e12-e5fa-4258-bb3b-65596b303162",
   "metadata": {},
   "outputs": [],
   "source": [
    "best_models, all_models = fit_models(signed_n_events, modes_concat,\n",
    "                                        dists, cor_da, correlation_threshold)"
   ]
  },
  {
   "cell_type": "code",
   "execution_count": null,
   "id": "ca4813c8-9312-47b9-854b-898fb36569b7",
   "metadata": {},
   "outputs": [],
   "source": [
    "for k, model in zip(best_models.keys(), best_models.values()):\n",
    "    print(k, model.model.formula, '\\nAIC: {0:.2f}\\n'.format(model.aic))"
   ]
  },
  {
   "cell_type": "code",
   "execution_count": null,
   "id": "317d5f44-3118-48cd-b8d2-bfb076fadca2",
   "metadata": {},
   "outputs": [],
   "source": [
    "plot_residuals(best_models, resid_name='Deviance residuals', save_fig=True, filename='gaussian_family_residuals.pdf')"
   ]
  },
  {
   "cell_type": "code",
   "execution_count": null,
   "id": "309c6a28-b456-40dc-90ca-01e0deb7b912",
   "metadata": {},
   "outputs": [],
   "source": [
    "plot_residuals_hist(best_models, save_fig=True, filename='gaussian_family_residuals_hist.pdf')"
   ]
  },
  {
   "cell_type": "code",
   "execution_count": null,
   "id": "cb51fcf9-312d-48b1-8d2c-f824aefdfbde",
   "metadata": {},
   "outputs": [],
   "source": [
    "plot_qq(best_models, save_fig=True, filename='gaussian_family_qq.pdf')"
   ]
  },
  {
   "cell_type": "code",
   "execution_count": null,
   "id": "44db972a-e809-4c69-ac1f-4b8a2de77415",
   "metadata": {},
   "outputs": [],
   "source": [
    "plot_model_coeffs(best_models, modes_concat, mode_names,\n",
    "                  save_fig=True, filename='gaussian_family_coefficients.pdf')"
   ]
  },
  {
   "cell_type": "markdown",
   "id": "13411067-8767-4b8c-8b32-81a9f7016234",
   "metadata": {
    "tags": []
   },
   "source": [
    "# Ordinal regression - gives surprisingly similar results\n",
    "Treat the data as ordered categorical variables i.e. 2 wet events, 1 wet events, no events, 1 dry event, 2 dry events...\n",
    "\n",
    "Note that you need the development version of `statsmodels` (v0.14.0) to run ordered models"
   ]
  },
  {
   "cell_type": "code",
   "execution_count": null,
   "id": "82b1598a-4cad-4071-87d9-29391f38992b",
   "metadata": {},
   "outputs": [],
   "source": [
    "import pickle\n",
    "from statsmodels.miscmodels.ordinal_model import OrderedModel"
   ]
  },
  {
   "cell_type": "code",
   "execution_count": null,
   "id": "8539f539-c2a1-4c77-9624-3af5b5173305",
   "metadata": {},
   "outputs": [],
   "source": [
    "def ordered_model_selection_uncorrelated(data, response, distr, correlation_da, correlation_thresh, mode1_name='mode1', mode2_name='mode2'):\n",
    "    \"\"\"\n",
    "    Fits a generalised linear model to the data. All possible combinations of predictors are tested,\n",
    "    as long as none of the predictors are correlated with each other.\n",
    "\n",
    "    data : pandas DataFrame containing response and predictors\n",
    "    response : string indicating name of response\n",
    "    family : statsmodels family and link function i.e. statsmodels.families.<family>(link=sm.families.links.<link>)\n",
    "    correlation_da : xarray DataArray of predictors' correlation\n",
    "    correlation_thresh : value of correlation by which to exclude predictors\n",
    "    \"\"\"\n",
    "    \n",
    "    n = data.shape[0]\n",
    "    \n",
    "    predictors = set(data.columns)\n",
    "    predictors.remove(response)\n",
    "    \n",
    "    all_combs = subset_predictors(predictors, correlation_da, correlation_thresh, mode1_name=mode1_name, mode2_name=mode2_name)\n",
    "    n_combs = len(all_combs)\n",
    "    print(n_combs, 'combinations\\n')\n",
    "    \n",
    "    formulas = ['XXX' for i in range(n_combs)]\n",
    "    scores = np.full(n_combs, np.nan)\n",
    "    \n",
    "    for i, com in enumerate(all_combs):\n",
    "        k = len(com)\n",
    "        \n",
    "        formula = \"{} ~ {}\".format(response, ' + '.join(com))\n",
    "        formulas[i] = formula\n",
    "        \n",
    "        aic = OrderedModel.from_formula(formula, data, distr=distr).fit(method='lbfgs', disp=False).aic\n",
    "        aicc = AICc(aic, n, k)\n",
    "        scores[i] = aicc\n",
    "    \n",
    "    all_results = OrderedDict({k: v for k, v in zip(scores, formulas)})\n",
    "    \n",
    "    best_score_ind = np.where(scores == np.nanmin(scores))[0][0]\n",
    "    best_predictors = all_combs[best_score_ind]\n",
    "    \n",
    "    formula = \"{} ~ {} \".format(response, ' + '.join(best_predictors))\n",
    "    model = OrderedModel.from_formula(formula, data, distr=distr).fit(method='lbfgs', disp=False)\n",
    "    \n",
    "    return model, all_results"
   ]
  },
  {
   "cell_type": "code",
   "execution_count": null,
   "id": "f1d512c2-4dda-4fa0-b218-3c2fa9d537f6",
   "metadata": {},
   "outputs": [],
   "source": [
    "def fit_ordered_models(y_da, X_da, distr, correlation_da, correlation_thresh,\n",
    "                       standardise=True, mode1_name='mode1', mode2_name='mode2'):\n",
    "    \"\"\"\n",
    "    Wrapper to fit ordered models\n",
    "    \"\"\"\n",
    "    best_models = {}\n",
    "    all_models = {}\n",
    "    for s_id in y_da.season_id.values:\n",
    "        print(s_id)\n",
    "        \n",
    "        y = y_da.sel(season_id=s_id)\n",
    "        X = X_da.sel(season_id=s_id).transpose('time', 'mode')\n",
    "        \n",
    "        if standardise:\n",
    "            y = y / y.std('time')\n",
    "            X = X / X.std('time')\n",
    "\n",
    "        y_df = pd.DataFrame(y.values, index=y.time.values, columns=['y'])\n",
    "        X_df = pd.DataFrame(X.values, index=y.time.values, columns=X.mode.values)\n",
    "        df = pd.concat([y_df, X_df], axis=1)\n",
    "\n",
    "        best_models[s_id], all_models[s_id] = ordered_model_selection_uncorrelated(df, 'y', distr,\n",
    "                                                                         correlation_da.sel(season_id=s_id),\n",
    "                                                                         correlation_thresh)\n",
    "        \n",
    "    return best_models, all_models"
   ]
  },
  {
   "cell_type": "markdown",
   "id": "c3accbaa-5b5f-4f29-b13c-598829f76e86",
   "metadata": {},
   "source": [
    "### Computing this takes a little while to run (~1 hour)"
   ]
  },
  {
   "cell_type": "code",
   "execution_count": null,
   "id": "65ad4cd1-ad04-46cf-b4e2-58c4d55ae7b7",
   "metadata": {},
   "outputs": [],
   "source": [
    "compute = False\n",
    "\n",
    "if compute:\n",
    "    best_ordered_models, all_ordered_models = fit_ordered_models(signed_n_events, modes_concat,\n",
    "                                                                'logit', cor_da, correlation_threshold)\n",
    "    best_model_formulas = {k: [best_ordered_models[k].model.formula,\n",
    "                               best_ordered_models[k].aic]\n",
    "                           for k in list(best_ordered_models.keys())}\n",
    "\n",
    "    with open('/g/data/xv83/dr6273/work/projects/coffee/data/ordered_regression_results_best.pickle', 'wb') as handle:\n",
    "        pickle.dump(best_model_formulas, handle, protocol=pickle.HIGHEST_PROTOCOL)\n",
    "else:\n",
    "    with open('/g/data/xv83/dr6273/work/projects/coffee/data/ordered_regression_results_best.pickle', 'rb') as handle:\n",
    "        best_model_formulas = pickle.load(handle)"
   ]
  },
  {
   "cell_type": "code",
   "execution_count": null,
   "id": "ffc0cde6-6da2-4263-bf56-7755c0153d57",
   "metadata": {},
   "outputs": [],
   "source": [
    "best_model_formulas"
   ]
  },
  {
   "cell_type": "code",
   "execution_count": null,
   "id": "b41731ff-e302-4dcf-bfd6-69725096e94f",
   "metadata": {},
   "outputs": [],
   "source": [
    "standardise = True\n",
    "\n",
    "best_ordered_models = {}\n",
    "for s_id in best_model_formulas.keys():\n",
    "    y = signed_n_events.sel(season_id=s_id)\n",
    "    X = modes_concat.sel(season_id=s_id).transpose('time', 'mode')\n",
    "    \n",
    "    if standardise:\n",
    "        y = y / y.std('time')\n",
    "        X = X / X.std('time')\n",
    "\n",
    "    y_df = pd.DataFrame(y.values, index=y.time.values, columns=['y'])\n",
    "    X_df = pd.DataFrame(X.values, index=y.time.values, columns=X.mode.values)\n",
    "    df = pd.concat([y_df, X_df], axis=1)\n",
    "    \n",
    "    formula = best_model_formulas[s_id][0]\n",
    "    model = OrderedModel.from_formula(formula, df, distr='logit').fit(method='lbfgs', disp=False)\n",
    "    \n",
    "    best_ordered_models[s_id] = model"
   ]
  },
  {
   "cell_type": "markdown",
   "id": "161e7824-b7ed-4c85-a410-c22ed2af23c8",
   "metadata": {},
   "source": [
    "### AIC is lower for ordered regression compared to assuming a normal distribution in only three regions - these correspond to regions with the poorest fit on the q-q plots."
   ]
  },
  {
   "cell_type": "code",
   "execution_count": null,
   "id": "40975531-daac-48c1-a133-d7af550495f8",
   "metadata": {},
   "outputs": [],
   "source": [
    "for k, norm, ordered in zip(best_models.keys(), best_models.values(), best_ordered_models.values()):\n",
    "    norm_aic = norm.aic\n",
    "    ordered_aic = ordered.aic\n",
    "    if ordered_aic < norm_aic:\n",
    "        print(f'{k}: Norm AIC: {norm_aic}; Ordered AIC: {ordered_aic}')"
   ]
  },
  {
   "cell_type": "code",
   "execution_count": null,
   "id": "ac4dd00f-534f-4b9c-9de0-2445eac7e971",
   "metadata": {},
   "outputs": [],
   "source": [
    "plot_model_coeffs(best_ordered_models, modes_concat, mode_names,\n",
    "                  save_fig=True, filename='ordinal_model_coefficients.pdf')"
   ]
  },
  {
   "cell_type": "markdown",
   "id": "db87f4eb-27f4-45c7-b6e8-0dc91de68b72",
   "metadata": {},
   "source": [
    "# Write data to file"
   ]
  },
  {
   "cell_type": "code",
   "execution_count": null,
   "id": "aed93527-9f0d-4258-ac40-478a95acd73e",
   "metadata": {},
   "outputs": [],
   "source": [
    "for s_id in signed_n_events.season_id.values:\n",
    "    y = signed_n_events.sel(season_id=s_id)\n",
    "    X = modes_concat.sel(season_id=s_id).transpose('time', 'mode')\n",
    "\n",
    "    y_df = pd.DataFrame(y.values, index=y.time.values, columns=['y'])\n",
    "    X_df = pd.DataFrame(X.values, index=y.time.values, columns=X.mode.values)\n",
    "    df = pd.concat([y_df, X_df], axis=1)\n",
    "    \n",
    "    df.to_csv(f'/g/data/xv83/dr6273/work/projects/coffee/data/country_climate_mode_data_{s_id}.csv')"
   ]
  },
  {
   "cell_type": "markdown",
   "id": "39264293-d4d7-4170-96f3-7227070c8450",
   "metadata": {},
   "source": [
    "# Close cluster"
   ]
  },
  {
   "cell_type": "code",
   "execution_count": null,
   "id": "d20436fc-96a8-4627-a0c3-953fa254ec16",
   "metadata": {},
   "outputs": [],
   "source": [
    "client.close()\n",
    "cluster.close()"
   ]
  },
  {
   "cell_type": "code",
   "execution_count": null,
   "id": "8592ad1e-048f-4a78-8d49-27e491852df5",
   "metadata": {},
   "outputs": [],
   "source": []
  }
 ],
 "metadata": {
  "kernelspec": {
   "display_name": "Python 3",
   "language": "python",
   "name": "python3"
  },
  "language_info": {
   "codemirror_mode": {
    "name": "ipython",
    "version": 3
   },
   "file_extension": ".py",
   "mimetype": "text/x-python",
   "name": "python",
   "nbconvert_exporter": "python",
   "pygments_lexer": "ipython3",
   "version": "3.9.4"
  }
 },
 "nbformat": 4,
 "nbformat_minor": 5
}
