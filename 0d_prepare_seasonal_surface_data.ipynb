{
 "cells": [
  {
   "cell_type": "markdown",
   "id": "10fc26d9-ae5e-48fa-9ca3-33ae4e10131c",
   "metadata": {},
   "source": [
    "# Prepare climate data for flowering/growing seasons"
   ]
  },
  {
   "cell_type": "code",
   "execution_count": null,
   "id": "e4b45d3e-380d-4b74-a958-c149d7c3865c",
   "metadata": {},
   "outputs": [],
   "source": [
    "from dask_jobqueue import PBSCluster\n",
    "from dask.distributed import Client"
   ]
  },
  {
   "cell_type": "code",
   "execution_count": null,
   "id": "0b887fa8-446f-4a1d-b251-86d499f5790d",
   "metadata": {},
   "outputs": [],
   "source": [
    "# One node on Gadi has 48 cores - try and use up a full core before going to multiple nodes (jobs)\n",
    "\n",
    "walltime = '00:30:00'\n",
    "cores = 10\n",
    "memory = '40GB'\n",
    "\n",
    "cluster = PBSCluster(walltime=str(walltime), cores=cores, memory=str(memory),\n",
    "                     job_extra=['-l ncpus='+str(cores),\n",
    "                                '-l mem='+str(memory),\n",
    "                                '-P xv83',\n",
    "                                '-l storage=gdata/xv83+gdata/rt52+scratch/xv83'],\n",
    "                     header_skip=[\"select\"])"
   ]
  },
  {
   "cell_type": "code",
   "execution_count": null,
   "id": "8230450a-bf23-4e17-a586-6a2871aef313",
   "metadata": {},
   "outputs": [],
   "source": [
    "cluster.scale(jobs=1)\n",
    "client = Client(cluster)"
   ]
  },
  {
   "cell_type": "code",
   "execution_count": null,
   "id": "f3ae04a6-8b42-44ce-baa7-d61daf9b61cc",
   "metadata": {},
   "outputs": [],
   "source": [
    "client"
   ]
  },
  {
   "cell_type": "code",
   "execution_count": null,
   "id": "1630b905-c920-4727-a88d-4d90f7152892",
   "metadata": {},
   "outputs": [],
   "source": [
    "import xarray as xr\n",
    "import numpy as np\n",
    "import pandas as pd"
   ]
  },
  {
   "cell_type": "code",
   "execution_count": null,
   "id": "87906a36-881b-4228-8559-f183403ff6bb",
   "metadata": {},
   "outputs": [],
   "source": [
    "import functions as fn"
   ]
  },
  {
   "cell_type": "code",
   "execution_count": null,
   "id": "15bb5dbe-56eb-4ba6-9023-05f6c93b21be",
   "metadata": {},
   "outputs": [],
   "source": [
    "%load_ext autoreload\n",
    "%autoreload 2"
   ]
  },
  {
   "cell_type": "markdown",
   "id": "d90d4771-ab71-4387-ab72-81cbd9236d07",
   "metadata": {},
   "source": [
    "# Load coffee data"
   ]
  },
  {
   "cell_type": "code",
   "execution_count": null,
   "id": "7af41cdc-7425-4dd4-99e7-8a0bbbbdbe36",
   "metadata": {},
   "outputs": [],
   "source": [
    "growing_calendar = pd.read_csv('/g/data/xv83/dr6273/work/projects/coffee/data/coffee_country_growing_calendar_extended.csv',\n",
    "                               index_col=0)\n",
    "growing_calendar.head()"
   ]
  },
  {
   "cell_type": "markdown",
   "id": "44cd0bc7-0a69-487c-a31a-f867596fdac8",
   "metadata": {
    "tags": []
   },
   "source": [
    "# Gridded climate data relevant for each flowering season"
   ]
  },
  {
   "cell_type": "markdown",
   "id": "ca817f17-bb0f-452c-9125-ec6e71dc09d0",
   "metadata": {},
   "source": [
    "# ERA5"
   ]
  },
  {
   "cell_type": "markdown",
   "id": "25951ac8-e668-4c42-8f44-4e8e57269a92",
   "metadata": {},
   "source": [
    "## VPD\n",
    "\n",
    "- For Arabica, a relative event is when VPD is above a threshold: $\\mathrm{VPD} > \\mu + \\sigma$\n",
    "- Also use absolute threshold of 0.82 kPa"
   ]
  },
  {
   "cell_type": "code",
   "execution_count": null,
   "id": "b661f89e-477c-4fbd-94ad-a4a945f7f9cc",
   "metadata": {},
   "outputs": [],
   "source": [
    "vpd = xr.open_zarr('/g/data/xv83/dr6273/work/data/era5/vpd/vpd_era5_moda_sfc_1979-2020.zarr', consolidated=True)"
   ]
  },
  {
   "cell_type": "code",
   "execution_count": null,
   "id": "f2f91019-2711-494e-bc37-42a3edb7fd90",
   "metadata": {},
   "outputs": [],
   "source": [
    "# VPD for relative and absolute thresholds\n",
    "fn.process_and_write(ds=vpd,\n",
    "                     dataset='era5',\n",
    "                     var='vpd',\n",
    "                     event_list=[['Flowering', 'upper_tail', '1_std'],\n",
    "                                 ['Growing', 'upper_tail', '1_std'],\n",
    "                                 ['Flowering', 'upper_tail', 0.82],\n",
    "                                 ['Growing', 'upper_tail', 0.82]],\n",
    "                     detrend=False,\n",
    "                     coffee_df=growing_calendar)"
   ]
  },
  {
   "cell_type": "code",
   "execution_count": null,
   "id": "b0063a61-adc5-452f-a706-4f87792f88c2",
   "metadata": {},
   "outputs": [],
   "source": [
    "# Detrended VPD for relative thresholds\n",
    "fn.process_and_write(ds=vpd,\n",
    "                     dataset='era5',\n",
    "                     var='vpd',\n",
    "                     event_list=[['Flowering', 'upper_tail', '1_std'],\n",
    "                                 ['Growing', 'upper_tail', '1_std']],\n",
    "                     detrend=True,\n",
    "                     coffee_df=growing_calendar)"
   ]
  },
  {
   "cell_type": "markdown",
   "id": "f6200b48-7013-4339-bfc0-6488f16196a1",
   "metadata": {},
   "source": [
    "# GPCC"
   ]
  },
  {
   "cell_type": "code",
   "execution_count": null,
   "id": "210b7b74-dda1-4aac-a3f9-25ae835fcda8",
   "metadata": {},
   "outputs": [],
   "source": [
    "precip = xr.open_zarr('/g/data/xv83/dr6273/work/data/gpcc/precip_gpcc_sfc_1979-2020.zarr', consolidated=True)"
   ]
  },
  {
   "cell_type": "code",
   "execution_count": null,
   "id": "3944275f-0ef8-4257-af5a-77c8ad137a96",
   "metadata": {},
   "outputs": [],
   "source": [
    "# precip for absolute thresholds\n",
    "fn.process_and_write(ds=precip,\n",
    "                     dataset='gpcc',\n",
    "                     var='precip',\n",
    "                     event_list=[['Annual', 'lower_tail', 1400],\n",
    "                                 ['Annual', 'lower_tail', 2000],\n",
    "                                 ['Annual', 'upper_tail', 2000],\n",
    "                                 ['Annual', 'upper_tail', 2500]],\n",
    "                     detrend=False,\n",
    "                     coffee_df=growing_calendar)"
   ]
  },
  {
   "cell_type": "code",
   "execution_count": null,
   "id": "79c1a084-035c-41d5-9703-bd73f96c2094",
   "metadata": {},
   "outputs": [],
   "source": [
    "# Detrended precip for absolute thresholds\n",
    "fn.process_and_write(ds=precip,\n",
    "                     dataset='gpcc',\n",
    "                     var='precip',\n",
    "                     event_list=[['Annual', 'lower_tail', '1_std'],\n",
    "                                 ['Annual', 'upper_tail', '1_std']],\n",
    "                     detrend=True,\n",
    "                     coffee_df=growing_calendar)"
   ]
  },
  {
   "cell_type": "markdown",
   "id": "69f5bf91-0f73-4bcb-bddf-98236167057c",
   "metadata": {},
   "source": [
    "# Berkeley"
   ]
  },
  {
   "cell_type": "markdown",
   "id": "bfeb4103-63df-45dc-8e3f-16d9d16ceb71",
   "metadata": {},
   "source": [
    "### T avg"
   ]
  },
  {
   "cell_type": "code",
   "execution_count": null,
   "id": "b1244ac7-416c-4822-bb17-df541d556790",
   "metadata": {},
   "outputs": [],
   "source": [
    "tavg =  xr.open_zarr('/g/data/xv83/dr6273/work/data/berkeley/tavg_berkeley_sfc_1979-2020.zarr', consolidated=True)"
   ]
  },
  {
   "cell_type": "code",
   "execution_count": null,
   "id": "2bb12743-e2b0-4e58-a5a5-3ebf369936ec",
   "metadata": {},
   "outputs": [],
   "source": [
    "# Need to write attrs as forgot in previous step (in prepare_base_climate_diagnostics.ipynb)\n",
    "tavg['temperature'] = tavg['temperature'].assign_attrs({'long_name': 'surface air temperature',\n",
    "                                      'short_name': 'T',\n",
    "                                      'units': 'degrees Celsius'})"
   ]
  },
  {
   "cell_type": "code",
   "execution_count": null,
   "id": "7108c792-9b16-4c00-a5ec-9999dd861a80",
   "metadata": {},
   "outputs": [],
   "source": [
    "# T for absolute thresholds\n",
    "fn.process_and_write(ds=tavg,\n",
    "                     dataset='berkeley',\n",
    "                     var='temperature',\n",
    "                     event_list=[['Growing', 'lower_tail', 18],\n",
    "                                 ['Growing', 'lower_tail', 15],\n",
    "                                 ['Growing', 'lower_tail', 22],\n",
    "                                 ['Growing', 'lower_tail', 10],\n",
    "\n",
    "                                 ['Growing', 'upper_tail', 22],\n",
    "                                 ['Growing', 'upper_tail', 28],\n",
    "                                 ['Growing', 'upper_tail', 30]],\n",
    "                     detrend=False,\n",
    "                     coffee_df=growing_calendar)"
   ]
  },
  {
   "cell_type": "code",
   "execution_count": null,
   "id": "af69f222-9249-402b-bd0b-0b24eeda64ac",
   "metadata": {},
   "outputs": [],
   "source": [
    "# Detrended T for relative thresholds\n",
    "fn.process_and_write(ds=tavg,\n",
    "                     dataset='berkeley',\n",
    "                     var='temperature',\n",
    "                     event_list=[['Growing', 'lower_tail', '1_std'],\n",
    "                                 ['Growing', 'upper_tail', '1_std']],\n",
    "                     detrend=True,\n",
    "                     coffee_df=growing_calendar)"
   ]
  },
  {
   "cell_type": "markdown",
   "id": "1006dd5f-15cd-4868-ab45-060d5aa4466e",
   "metadata": {},
   "source": [
    "### Tmax"
   ]
  },
  {
   "cell_type": "code",
   "execution_count": null,
   "id": "fa6a575e-bc07-4e0e-92aa-96e9cb6e6ff5",
   "metadata": {},
   "outputs": [],
   "source": [
    "tmax =  xr.open_zarr('/g/data/xv83/dr6273/work/data/berkeley/tmax_berkeley_sfc_1979-2020.zarr', consolidated=True)"
   ]
  },
  {
   "cell_type": "code",
   "execution_count": null,
   "id": "fb70f079-424d-4046-a60a-187486143e48",
   "metadata": {},
   "outputs": [],
   "source": [
    "# Need to write attrs as forgot in previous step (in prepare_base_climate_diagnostics.ipynb)\n",
    "tmax['tmax'] = tmax['tmax'].assign_attrs({'long_name': 'surface air maximum daily temperature',\n",
    "                                      'short_name': 'Tmax',\n",
    "                                      'units': 'degrees Celsius'})"
   ]
  },
  {
   "cell_type": "code",
   "execution_count": null,
   "id": "7228036d-a092-40b6-9613-d0a8d3291aaf",
   "metadata": {},
   "outputs": [],
   "source": [
    "# T for absolute thresholds\n",
    "fn.process_and_write(ds=tmax,\n",
    "                     dataset='berkeley',\n",
    "                     var='tmax',\n",
    "                     event_list=[['Growing', 'upper_tail', 29.5]],\n",
    "                     detrend=False,\n",
    "                     coffee_df=growing_calendar)"
   ]
  },
  {
   "cell_type": "code",
   "execution_count": null,
   "id": "7885201a-70f3-47f1-9990-2a4fd61d198b",
   "metadata": {},
   "outputs": [],
   "source": [
    "# Detrended T for relative thresholds\n",
    "fn.process_and_write(ds=tmax,\n",
    "                     dataset='berkeley',\n",
    "                     var='tmax',\n",
    "                     event_list=[['Growing', 'upper_tail', '1_std']],\n",
    "                     detrend=True,\n",
    "                     coffee_df=growing_calendar)"
   ]
  },
  {
   "cell_type": "markdown",
   "id": "da1951c4-7480-4e45-a941-120e2f105306",
   "metadata": {},
   "source": [
    "### Tmin"
   ]
  },
  {
   "cell_type": "code",
   "execution_count": null,
   "id": "817be95a-ca61-44a1-91d5-2acf1a738219",
   "metadata": {},
   "outputs": [],
   "source": [
    "tmin =  xr.open_zarr('/g/data/xv83/dr6273/work/data/berkeley/tmin_berkeley_sfc_1979-2020.zarr', consolidated=True)"
   ]
  },
  {
   "cell_type": "code",
   "execution_count": null,
   "id": "a6b3039c-cb81-4ece-997f-3edbadaba3e1",
   "metadata": {},
   "outputs": [],
   "source": [
    "# Need to write attrs as forgot in previous step (in prepare_base_climate_diagnostics.ipynb)\n",
    "tmin['tmin'] = tmin['tmin'].assign_attrs({'long_name': 'surface air minimum daily temperature',\n",
    "                                      'short_name': 'Tmin',\n",
    "                                      'units': 'degrees Celsius'})"
   ]
  },
  {
   "cell_type": "code",
   "execution_count": null,
   "id": "4121bea0-12d0-47a4-b15d-b3793327af0f",
   "metadata": {},
   "outputs": [],
   "source": [
    "# T for absolute thresholds\n",
    "fn.process_and_write(ds=tmin,\n",
    "                     dataset='berkeley',\n",
    "                     var='tmin',\n",
    "                     event_list=[['Flowering', 'lower_tail', 15.8],\n",
    "                                 ['Growing', 'upper_tail', 18.6]],\n",
    "                     detrend=False,\n",
    "                     coffee_df=growing_calendar)"
   ]
  },
  {
   "cell_type": "code",
   "execution_count": null,
   "id": "88d9749c-044c-4292-a4aa-887668119515",
   "metadata": {},
   "outputs": [],
   "source": [
    "# Detrended T for relative thresholds\n",
    "fn.process_and_write(ds=tmin,\n",
    "                     dataset='berkeley',\n",
    "                     var='tmin',\n",
    "                     event_list=[['Flowering', 'lower_tail', '1_std'],\n",
    "                                 ['Growing', 'upper_tail', '1_std']],\n",
    "                     detrend=True,\n",
    "                     coffee_df=growing_calendar)"
   ]
  },
  {
   "cell_type": "markdown",
   "id": "a6806004-326d-4a87-bbc0-c219a9e7e59a",
   "metadata": {},
   "source": [
    "# Close cluster"
   ]
  },
  {
   "cell_type": "code",
   "execution_count": null,
   "id": "161ae8e9-fb10-463f-8818-e7c4d177935c",
   "metadata": {},
   "outputs": [],
   "source": [
    "client.close()\n",
    "cluster.close()"
   ]
  },
  {
   "cell_type": "code",
   "execution_count": null,
   "id": "04298c62-3084-4480-89a1-7e4aa40f9a27",
   "metadata": {},
   "outputs": [],
   "source": []
  }
 ],
 "metadata": {
  "kernelspec": {
   "display_name": "Python 3",
   "language": "python",
   "name": "python3"
  },
  "language_info": {
   "codemirror_mode": {
    "name": "ipython",
    "version": 3
   },
   "file_extension": ".py",
   "mimetype": "text/x-python",
   "name": "python",
   "nbconvert_exporter": "python",
   "pygments_lexer": "ipython3",
   "version": "3.9.4"
  }
 },
 "nbformat": 4,
 "nbformat_minor": 5
}
