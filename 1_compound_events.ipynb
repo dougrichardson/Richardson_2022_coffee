{
 "cells": [
  {
   "cell_type": "code",
   "execution_count": null,
   "id": "e4b45d3e-380d-4b74-a958-c149d7c3865c",
   "metadata": {},
   "outputs": [],
   "source": [
    "from dask_jobqueue import PBSCluster\n",
    "from dask.distributed import Client"
   ]
  },
  {
   "cell_type": "code",
   "execution_count": null,
   "id": "0b887fa8-446f-4a1d-b251-86d499f5790d",
   "metadata": {},
   "outputs": [],
   "source": [
    "# One node on Gadi has 48 cores - try and use up a full core before going to multiple nodes (jobs)\n",
    "\n",
    "walltime = '01:00:00'\n",
    "cores = 2\n",
    "memory = '8GB'\n",
    "\n",
    "cluster = PBSCluster(walltime=str(walltime), cores=cores, memory=str(memory),\n",
    "                     job_extra=['-l ncpus='+str(cores),\n",
    "                                '-l mem='+str(memory),\n",
    "                                '-P xv83',\n",
    "                                '-l storage=gdata/xv83+gdata/rt52+scratch/xv83'],\n",
    "                     header_skip=[\"select\"])"
   ]
  },
  {
   "cell_type": "code",
   "execution_count": null,
   "id": "8230450a-bf23-4e17-a586-6a2871aef313",
   "metadata": {},
   "outputs": [],
   "source": [
    "cluster.scale(jobs=1)\n",
    "client = Client(cluster)"
   ]
  },
  {
   "cell_type": "code",
   "execution_count": null,
   "id": "f3ae04a6-8b42-44ce-baa7-d61daf9b61cc",
   "metadata": {},
   "outputs": [],
   "source": [
    "client"
   ]
  },
  {
   "cell_type": "code",
   "execution_count": null,
   "id": "f88ae61c-6569-46dd-80b5-da526ab31593",
   "metadata": {},
   "outputs": [],
   "source": [
    "%load_ext autoreload\n",
    "%autoreload 2"
   ]
  },
  {
   "cell_type": "code",
   "execution_count": null,
   "id": "1630b905-c920-4727-a88d-4d90f7152892",
   "metadata": {},
   "outputs": [],
   "source": [
    "import xarray as xr\n",
    "import numpy as np\n",
    "import pandas as pd\n",
    "import regionmask\n",
    "import copy\n",
    "import geopandas\n",
    "from xbootstrap import block_bootstrap\n",
    "\n",
    "import matplotlib\n",
    "import matplotlib.pyplot as plt\n",
    "import matplotlib.patches as patches\n",
    "from mpl_toolkits.axes_grid1.inset_locator import inset_axes\n",
    "\n",
    "import cartopy.crs as ccrs\n",
    "import cartopy\n",
    "cartopy.config['pre_existing_data_dir'] = '/g/data/xv83/dr6273/work/data/cartopy-data'\n",
    "cartopy.config['data_dir'] = '/g/data/xv83/dr6273/work/data/cartopy-data'\n",
    "\n",
    "import functions as fn"
   ]
  },
  {
   "cell_type": "code",
   "execution_count": null,
   "id": "ead02a44-8fa5-48db-b6bf-000b86a7e45e",
   "metadata": {},
   "outputs": [],
   "source": [
    "plt_params = fn.get_plot_params()"
   ]
  },
  {
   "cell_type": "code",
   "execution_count": null,
   "id": "ebbe0b42-198a-4766-aa84-b1650883ccc3",
   "metadata": {},
   "outputs": [],
   "source": [
    "# default colours\n",
    "prop_cycle = plt.rcParams['axes.prop_cycle']\n",
    "colors = prop_cycle.by_key()['color']"
   ]
  },
  {
   "cell_type": "markdown",
   "id": "d90d4771-ab71-4387-ab72-81cbd9236d07",
   "metadata": {},
   "source": [
    "# Load coffee data"
   ]
  },
  {
   "cell_type": "code",
   "execution_count": null,
   "id": "28bb4263-0703-4f95-8e78-44c3c3dbe075",
   "metadata": {},
   "outputs": [],
   "source": [
    "# Order abbrevs and names by species and production\n",
    "country_order = fn.get_country_order()"
   ]
  },
  {
   "cell_type": "code",
   "execution_count": null,
   "id": "7af41cdc-7425-4dd4-99e7-8a0bbbbdbe36",
   "metadata": {},
   "outputs": [],
   "source": [
    "growing_calendar = pd.read_csv('/g/data/xv83/dr6273/work/projects/coffee/data/coffee_country_growing_calendar_extended.csv',\n",
    "                               index_col=0)\n",
    "growing_calendar.head()"
   ]
  },
  {
   "cell_type": "code",
   "execution_count": null,
   "id": "28ee0e0e-6c2c-4b9a-9972-aca1c0f5f12e",
   "metadata": {},
   "outputs": [],
   "source": [
    "arabica_abbrevs = np.unique(growing_calendar.loc[(growing_calendar.species == 'Arabica'), 'abbrevs'])\n",
    "robusta_abbrevs = np.unique(growing_calendar.loc[(growing_calendar.species == 'Robusta'), 'abbrevs'])"
   ]
  },
  {
   "cell_type": "markdown",
   "id": "c235f4e8-056d-4aad-971c-a9782215fa13",
   "metadata": {},
   "source": [
    "### Tonnes data for 2019 (USDA)"
   ]
  },
  {
   "cell_type": "code",
   "execution_count": null,
   "id": "2a054454-3f0a-4613-903e-4dbe499faba3",
   "metadata": {},
   "outputs": [],
   "source": [
    "region_names = ['Brazil S',\n",
    "                'Colombia',\n",
    "                'Ethiopia',\n",
    "                'Honduras',\n",
    "                'Peru',\n",
    "                'Guatemala',\n",
    "                'Mexico',\n",
    "                'Nicaragua',\n",
    "                'Vietnam',\n",
    "                'Brazil N',\n",
    "                'Indonesia',\n",
    "                'Uganda',\n",
    "                'India']\n",
    "\n",
    "tonnes = np.array([\n",
    "    2892000,\n",
    "    832200,\n",
    "    435000,\n",
    "    432000,\n",
    "    264000,\n",
    "    222000,\n",
    "    216000,\n",
    "    156000,\n",
    "    1761000,\n",
    "    996000,\n",
    "    564000,\n",
    "    240000,\n",
    "    222000])\n",
    "                \n",
    "tonnes = pd.DataFrame(tonnes, index=region_names, columns=['tonnes'])\n",
    "tonnes['species_percentage'] = np.full(len(tonnes), np.nan)"
   ]
  },
  {
   "cell_type": "code",
   "execution_count": null,
   "id": "33e1dad3-8511-4941-ae5e-a5bc0f153f2b",
   "metadata": {},
   "outputs": [],
   "source": [
    "arabica_sum = tonnes['tonnes'].values[:8].sum()\n",
    "for i, t in enumerate(tonnes['tonnes'].values[:8]):\n",
    "    pc = (t / arabica_sum) * 100\n",
    "    tonnes['species_percentage'].iloc[i] = pc"
   ]
  },
  {
   "cell_type": "code",
   "execution_count": null,
   "id": "e8ac9a12-79c1-4f7d-aa10-2e218cbd78f5",
   "metadata": {},
   "outputs": [],
   "source": [
    "robusta_sum = tonnes['tonnes'].values[8:].sum()\n",
    "for i, t in enumerate(tonnes['tonnes'].values[8:]):\n",
    "    pc = (t / robusta_sum) * 100\n",
    "    tonnes['species_percentage'].iloc[i+8] = pc"
   ]
  },
  {
   "cell_type": "markdown",
   "id": "c4077e13-99e5-4325-bff5-53ab50e74a9f",
   "metadata": {},
   "source": [
    "### Country shapefiles"
   ]
  },
  {
   "cell_type": "code",
   "execution_count": null,
   "id": "142219e3-bf3f-415a-99e5-9a16d667f400",
   "metadata": {},
   "outputs": [],
   "source": [
    "world = geopandas.read_file(geopandas.datasets.get_path('naturalearth_lowres'))\n",
    "world['coffee_percentage'] = np.nan\n",
    "world = world.set_index('name')\n",
    "world = world[['geometry', 'coffee_percentage']]"
   ]
  },
  {
   "cell_type": "code",
   "execution_count": null,
   "id": "07039ddf-40a5-4bf5-84f1-53183fb07d62",
   "metadata": {},
   "outputs": [],
   "source": [
    "n_brazil_shp = fn.get_n_Brazil_boundary()['geometry']\n",
    "s_brazil_shp = fn.get_se_Brazil_boundary()['geometry']"
   ]
  },
  {
   "cell_type": "code",
   "execution_count": null,
   "id": "cc3b50ae-984c-44f7-b55e-0fa7a3dea78e",
   "metadata": {},
   "outputs": [],
   "source": [
    "world.loc['Brazil N'] = [n_brazil_shp.iloc[0], tonnes.loc['Brazil N']['species_percentage']]\n",
    "world.loc['Brazil S'] = [s_brazil_shp.iloc[0], tonnes.loc['Brazil S']['species_percentage']]"
   ]
  },
  {
   "cell_type": "code",
   "execution_count": null,
   "id": "eb6c1985-79b1-4491-bd73-ea4dd3db91c9",
   "metadata": {},
   "outputs": [],
   "source": [
    "world = world.loc[tonnes.index]\n",
    "world['coffee_percentage'] = tonnes.loc[world.index]['species_percentage']"
   ]
  },
  {
   "cell_type": "markdown",
   "id": "5211dcc3-f64a-4169-8036-10cc795908f4",
   "metadata": {},
   "source": [
    "### Climate mode regions"
   ]
  },
  {
   "cell_type": "code",
   "execution_count": null,
   "id": "3f890d27-acc1-411e-b399-0f73ac644e98",
   "metadata": {},
   "outputs": [],
   "source": [
    "mode_vertices = {r'Ni$\\mathrm{\\tilde{n}}$o3.4': [(-170, -5), (-170, 5), (-120, 5), (-120, -5)],\n",
    "                 'IOD W': [(50, -10), (50, 10), (70, 10), (70, -10)],\n",
    "                 'IOD E': [(90, -10), (90, 0), (110, 0), (110, -10)],\n",
    "                 r'Atl Ni$\\mathrm{\\tilde{n}}$o': [(-20, -5), (-20, 5), (0, 5), (0, -5)],\n",
    "                 'TNA': [(-55, 5), (-55, 25), (-15, 25), (-15, 5)],\n",
    "                 'TSA': [(-30, -20), (-30, 0), (-10, 0), (-10, -20)]}"
   ]
  },
  {
   "cell_type": "code",
   "execution_count": null,
   "id": "41c2d7e6-f3c3-4e1b-bd0e-4697da8a1039",
   "metadata": {},
   "outputs": [],
   "source": [
    "text_locs = {}\n",
    "text_locs[r'Ni$\\mathrm{\\tilde{n}}$o3.4'] = [-168, -3]\n",
    "text_locs['IOD W'] = [52, -20]\n",
    "text_locs['IOD E'] = [92, -20]\n",
    "text_locs[r'Atl Ni$\\mathrm{\\tilde{n}}$o'] = [-18, -30]\n",
    "text_locs['TNA'] = [-53, 7]\n",
    "text_locs['TSA'] = [-28, -18]"
   ]
  },
  {
   "cell_type": "code",
   "execution_count": null,
   "id": "12d7eeec-fd20-4035-8d52-b50a9ce72002",
   "metadata": {},
   "outputs": [],
   "source": [
    "with plt.rc_context(plt_params):\n",
    "    figsize=(6.9, 4.5)\n",
    "    fig = plt.figure(figsize=figsize, dpi=150)\n",
    "    gs = fig.add_gridspec(nrows=2, ncols=1, figure=fig,height_ratios=[2,3])\n",
    "    \n",
    "    ### ===================================\n",
    "    ### Coffee regions map\n",
    "    ### ===================================\n",
    "    ax = fig.add_subplot(gs[0], projection=ccrs.PlateCarree())\n",
    "    \n",
    "    ax.coastlines(lw=plt_params['lines.linewidth']/3)\n",
    "    ax.set_extent([-179.99, 180, -40, 40])\n",
    "    ax.add_feature(cartopy.feature.BORDERS, lw=plt_params['lines.linewidth']/1.5, edgecolor='white')\n",
    "    ax.add_feature(cartopy.feature.BORDERS, lw=plt_params['lines.linewidth']/3)\n",
    "    world.plot(ax=ax, column='coffee_percentage', vmin=0, vmax=60, legend=False)\n",
    "        \n",
    "    n_brazil_shp.boundary.plot(ax=ax, color='r', lw=plt_params['lines.linewidth']/4)\n",
    "    ax.plot((26, 26), (8, -90), color='r', ls='-', lw=plt_params['lines.linewidth']/1.2)\n",
    "    ax.plot((48, 48), (90, 0), color='r', ls='-', lw=plt_params['lines.linewidth']/1.2)\n",
    "    ax.plot((26.5, 48), (8, 0), color='r', ls='-', lw=plt_params['lines.linewidth']/1.2)\n",
    "    \n",
    "    ax.text(0.1, 0.05, 'Arabica', transform=ax.transAxes)\n",
    "    ax.text(0.7, 0.05, 'Robusta', transform=ax.transAxes)\n",
    "    \n",
    "    ax.text(0.01, 0.9, 'a', weight='bold', transform=ax.transAxes)\n",
    "        \n",
    "    ### Plot mode boxes and names\n",
    "    for mode, (v1, v2, v3, v4) in zip(mode_vertices.keys(), mode_vertices.values()):\n",
    "        for line in [[v1, v2], [v2, v3], [v3, v4], [v4, v1]]:\n",
    "            ax.plot((line[0][0], line[1][0]),\n",
    "                    (line[0][1], line[1][1]),\n",
    "                    color='k',\n",
    "                    ls='--',\n",
    "                   lw=plt_params['lines.linewidth']/3)\n",
    "        ax.text(text_locs[mode][0], text_locs[mode][1], mode, fontsize=plt_params['font.size'])\n",
    "    # Draw lines from names to boxes\n",
    "    ax.plot((60, 60), (-13, -10), color='k', lw=plt_params['lines.linewidth']/3)\n",
    "    ax.plot((100, 100), (-13, -10), color='k', lw=plt_params['lines.linewidth']/3)\n",
    "    ax.plot((-5, -5), (-22, -5), color='k', lw=plt_params['lines.linewidth']/3)\n",
    "        \n",
    "    # custom legend as legend_kwds in world.plot() is not working as expected\n",
    "    axins = inset_axes(ax, width=\"3%\", height=\"100%\",\n",
    "                       bbox_to_anchor=(-0.03, .01, .5, .99),\n",
    "                       bbox_transform=ax.transAxes, loc='lower left', borderpad=0)\n",
    "    cmap = matplotlib.cm.viridis\n",
    "    norm = matplotlib.colors.Normalize(vmin=0, vmax=60)\n",
    "\n",
    "    cb1 = matplotlib.colorbar.ColorbarBase(ax=axins, cmap=cmap, norm=norm,\n",
    "                                           ticks=range(0, 61, 20),\n",
    "                                           orientation='vertical')\n",
    "    axins.yaxis.set_ticks_position('left')\n",
    "    axins.yaxis.set_label_position('left')\n",
    "    cb1.set_label('2019 yield of primary\\ncoffee species [%]')\n",
    "        \n",
    "    ### ===================================\n",
    "    ### Growing calendar\n",
    "    ### ===================================\n",
    "    ax = fig.add_subplot(gs[1])\n",
    "    \n",
    "    country_order_i = [0, 1, 2, 3, 5, 8, 4, 6, 7, -1, 9, 11, 12, 13, 10]\n",
    "    country_index = np.arange(len(country_order_i))\n",
    "    \n",
    "    flowering_start = growing_calendar.loc[(growing_calendar.Phase == 'Flowering'), 'Start'].iloc[country_order_i]\n",
    "    flowering_finish = growing_calendar.loc[(growing_calendar.Phase == 'Flowering'), 'Finish'].iloc[country_order_i]\n",
    "    \n",
    "    growing_start = growing_calendar.loc[(growing_calendar.Phase == 'Growing'), 'Start'].iloc[country_order_i]\n",
    "    growing_finish = growing_calendar.loc[(growing_calendar.Phase == 'Growing'), 'Finish'].iloc[country_order_i]\n",
    "    \n",
    "    phase_info = np.array([flowering_start,\n",
    "                           flowering_finish,\n",
    "                           growing_start,\n",
    "                           growing_finish]).transpose()\n",
    "    # When phases cross years, ensure the index is for the next year\n",
    "    for i in range(3):\n",
    "        phase_diff = np.diff(phase_info)\n",
    "        phase_info[:,1:][np.where(phase_diff < 0)] = phase_info[:,1:][np.where(phase_diff < 0)] + 12\n",
    "        \n",
    "    # Set Uganda back 12 months\n",
    "    phase_info[-3,:] = phase_info[-3,:] - 12\n",
    "        \n",
    "    # lengths of flowering and growing phases\n",
    "    phase_diff = np.diff(phase_info)\n",
    "    flowering_length = phase_diff[:,0] + 1\n",
    "    growing_length = phase_diff[:,-1] + 1\n",
    "    \n",
    "    month_index_min = np.min(phase_info)\n",
    "    month_index_max = np.max(phase_info) + 1\n",
    "    \n",
    "    # ============== Plot\n",
    "    cmap = plt.cm.viridis\n",
    "    norm = matplotlib.colors.BoundaryNorm(np.arange(5), cmap.N)\n",
    "    c_ = np.array([0.333, 0.666, 0.999])\n",
    "        \n",
    "    ax.barh(country_index,\n",
    "            flowering_length,\n",
    "            left=phase_info[:,0],\n",
    "            color=cmap(c_[0]),\n",
    "            label='Flowering')\n",
    "    \n",
    "    ax.barh(country_index,\n",
    "            growing_length,\n",
    "            left=phase_info[:,2],\n",
    "            color=cmap(c_[1]),\n",
    "            label='Growing')\n",
    "    \n",
    "    for i in [1, 13]:\n",
    "        ax.axvline(np.where(np.arange(month_index_min, month_index_max+1) == i)[0],\n",
    "                   c='k',\n",
    "                   ls='--',\n",
    "                   lw=plt_params['lines.linewidth']/1.5)\n",
    "    \n",
    "    ax.set_xlim(month_index_min-0.1, month_index_max+0.1)\n",
    "    ax.set_xticks(range(month_index_min, month_index_max+1))\n",
    "    months = np.tile(['Dec', 'Jan', 'Feb', 'Mar', 'Apr', 'May', 'Jun', 'Jul', 'Aug', 'Sep', 'Oct', 'Nov'], 3)\n",
    "    ax.set_xticklabels(months[month_index_min : month_index_max+1], rotation=30)\n",
    "    \n",
    "    ax.set_ylim(-0.7, len(country_index)-0.3)\n",
    "    ax.set_yticks(country_index)\n",
    "    ax.set_yticklabels(country_order.values())\n",
    "    ax.invert_yaxis()\n",
    "    \n",
    "    ### Right-hand labels\n",
    "    ax2 = ax.twinx()\n",
    "    ax2.set_ylim(-0.7, len(country_index)-0.3)\n",
    "    ax2.set_yticks([0, 1.5, 3, 4, 5, 6, 7, 8, 9, 10, 11, 12.5, 14])\n",
    "    yticklabels_right = np.flip(np.round(tonnes['species_percentage'], 1))\n",
    "    yticklabels_right = [str(i) + '%' for i in yticklabels_right]\n",
    "#     yticklabels_right = [np.flip(tonnes.index)[i] + ' ' + yticklabels_right[i] for i in range(len(yticklabels_right))]\n",
    "    ax2.set_yticklabels(yticklabels_right)\n",
    "    ax2.tick_params(right=False)\n",
    "    \n",
    "    ax3 = ax.twinx()\n",
    "    ax3.set_ylim(-0.7, len(country_index)-0.3)\n",
    "    ax3.set_yticks(country_index)\n",
    "    ax3.set_yticklabels([])\n",
    "    \n",
    "    ax.grid(axis='y')\n",
    "    ax.set_axisbelow(True)\n",
    "    \n",
    "    ax.text(-0.14, 0.7, 'Arabica', transform=ax.transAxes, rotation=90, ha='center', va='center')\n",
    "    ax.text(-0.14, 0.2, 'Robusta', transform=ax.transAxes, rotation=90, ha='center', va='center')\n",
    "    ax.annotate('', xy=(-0.16, 0.402), xycoords='axes fraction', xytext=(1.08, 0.402), \n",
    "        arrowprops=dict(arrowstyle=\"-\", ls=':', lw=plt_params['lines.linewidth']/2))\n",
    "#     ax.annotate('', xy=(0.997, 0.4), xycoords='axes fraction', xytext=(1.18, 0.4), \n",
    "#         arrowprops=dict(arrowstyle=\"-\", ls=':', lw=plt_params['lines.linewidth']/2))\n",
    "    ax.annotate('', xy=(-0.125, 0.), xycoords='axes fraction', xytext=(-0.125, 1), \n",
    "        arrowprops=dict(arrowstyle=\"-\", ls=':', lw=plt_params['lines.linewidth']/2))\n",
    "    \n",
    "    ax.legend(loc=(0.73, 1), ncol=2, frameon=False, fontsize=plt_params['font.size'])\n",
    "    \n",
    "    ax.text(0.005, 1.03, 'b', weight='bold', transform=ax.transAxes)\n",
    "    \n",
    "    plt.savefig('./figures/coffee_info.pdf', format='pdf', dpi=400, bbox_inches='tight')"
   ]
  },
  {
   "cell_type": "markdown",
   "id": "44cd0bc7-0a69-487c-a31a-f867596fdac8",
   "metadata": {},
   "source": [
    "# Gridded climate data relevant for each phase of coffee (growing and flowering)"
   ]
  },
  {
   "cell_type": "markdown",
   "id": "87fb53be-bd57-4104-83ff-bd7b0e21b7d4",
   "metadata": {},
   "source": [
    "### VPD\n",
    "- Absolute threshold of $\\mathrm{VPD} > 0.82$ kPa. Only on non-detrended data. From Kath (in review)."
   ]
  },
  {
   "cell_type": "code",
   "execution_count": null,
   "id": "4c2b7f97-f30c-416a-8413-c5a074bc7acb",
   "metadata": {},
   "outputs": [],
   "source": [
    "vpd_flowering = xr.open_zarr('/g/data/xv83/dr6273/work/projects/coffee/data/era5_vpd_Flowering_upper_tail_0.82.zarr',\n",
    "                                 consolidated=True)\n",
    "vpd_growing = xr.open_zarr('/g/data/xv83/dr6273/work/projects/coffee/data/era5_vpd_Growing_upper_tail_0.82.zarr',\n",
    "                                  consolidated=True)"
   ]
  },
  {
   "cell_type": "markdown",
   "id": "d8cc6e1d-e40e-474e-a6df-484d832c8f27",
   "metadata": {
    "tags": []
   },
   "source": [
    "### Tmin averages\n",
    "- For Robusta:\n",
    "    - Absolute threshold of $T_\\mathrm{min} > 18.6^{\\circ}$C in the growing season, and  $T_\\mathrm{min} < 15.8^{\\circ}$C in the flowering season. From Kath et al (2020)."
   ]
  },
  {
   "cell_type": "code",
   "execution_count": null,
   "id": "8ad4ee76-6f47-4a2b-888e-df9a8d4a6cf4",
   "metadata": {},
   "outputs": [],
   "source": [
    "mn2t_flowering = xr.open_zarr('/g/data/xv83/dr6273/work/projects/coffee/data/berkeley_tmin_Flowering_lower_tail_15.8.zarr',\n",
    "                                 consolidated=True)\n",
    "mn2t_growing = xr.open_zarr('/g/data/xv83/dr6273/work/projects/coffee/data/berkeley_tmin_Growing_upper_tail_18.6.zarr',\n",
    "                                  consolidated=True)"
   ]
  },
  {
   "cell_type": "markdown",
   "id": "764fbc0a-fdfe-4a95-a7e1-199a4570273e",
   "metadata": {},
   "source": [
    "### Tmax averages\n",
    "- For Arabica:\n",
    "    - Absolute threshold of $T_\\mathrm{max} > 29.5^{\\circ}$C in the growing season From Kath et al (in review)."
   ]
  },
  {
   "cell_type": "code",
   "execution_count": null,
   "id": "bbce0d89-7771-41aa-af6e-f4f92d946149",
   "metadata": {},
   "outputs": [],
   "source": [
    "mx2t_growing = xr.open_zarr('/g/data/xv83/dr6273/work/projects/coffee/data/berkeley_tmax_Growing_upper_tail_29.5.zarr',\n",
    "                                  consolidated=True)"
   ]
  },
  {
   "cell_type": "markdown",
   "id": "05be9a45-f036-44a6-853e-cea1cc4790e8",
   "metadata": {},
   "source": [
    "### Tmin/Tmax averages from Descroix and Snoeck (2004)"
   ]
  },
  {
   "cell_type": "markdown",
   "id": "190300fe-37f0-4dc8-8d79-541db7fab04c",
   "metadata": {},
   "source": [
    "- Arabica 18-22 C\n",
    "- Robusta 22-28 C"
   ]
  },
  {
   "cell_type": "code",
   "execution_count": null,
   "id": "504b2f51-06a7-40f4-8b91-8379dd872c13",
   "metadata": {},
   "outputs": [],
   "source": [
    "t2m_lt_growing_arabica_optimal = xr.open_zarr('/g/data/xv83/dr6273/work/projects/coffee/data/berkeley_temperature_Growing_lower_tail_18.zarr',\n",
    "                                             consolidated=True)\n",
    "t2m_lt_growing_robusta_optimal = xr.open_zarr('/g/data/xv83/dr6273/work/projects/coffee/data/berkeley_temperature_Growing_lower_tail_22.zarr',\n",
    "                                             consolidated=True)"
   ]
  },
  {
   "cell_type": "code",
   "execution_count": null,
   "id": "89da2764-6356-41af-9134-7d33a90eb5f7",
   "metadata": {},
   "outputs": [],
   "source": [
    "t2m_ut_growing_arabica_optimal = xr.open_zarr('/g/data/xv83/dr6273/work/projects/coffee/data/berkeley_temperature_Growing_upper_tail_22.zarr',\n",
    "                                             consolidated=True)\n",
    "t2m_ut_growing_robusta_optimal = xr.open_zarr('/g/data/xv83/dr6273/work/projects/coffee/data/berkeley_temperature_Growing_upper_tail_28.zarr',\n",
    "                                             consolidated=True)"
   ]
  },
  {
   "cell_type": "markdown",
   "id": "ab67d3db-cb23-4f31-b533-0c60d4ddb307",
   "metadata": {
    "tags": []
   },
   "source": [
    "### D&S Precip ranges:\n",
    "\n",
    "- Arabica: 1400 < P < 2000\n",
    "- Robusta: 2000 < P < 2500"
   ]
  },
  {
   "cell_type": "code",
   "execution_count": null,
   "id": "346dbc0d-3213-4058-a782-630500ac5363",
   "metadata": {},
   "outputs": [],
   "source": [
    "tp_lt_growing_arabica_optimal = xr.open_zarr('/g/data/xv83/dr6273/work/projects/coffee/data/gpcc_precip_Annual_lower_tail_1400.zarr',\n",
    "                                             consolidated=True)\n",
    "tp_lt_growing_robusta_optimal = xr.open_zarr('/g/data/xv83/dr6273/work/projects/coffee/data/gpcc_precip_Annual_lower_tail_2000.zarr',\n",
    "                                             consolidated=True)"
   ]
  },
  {
   "cell_type": "code",
   "execution_count": null,
   "id": "df42f6c8-fac7-4d1d-a130-72078510ef4c",
   "metadata": {},
   "outputs": [],
   "source": [
    "tp_ut_growing_arabica_optimal = xr.open_zarr('/g/data/xv83/dr6273/work/projects/coffee/data/gpcc_precip_Annual_upper_tail_2000.zarr',\n",
    "                                             consolidated=True)\n",
    "tp_ut_growing_robusta_optimal = xr.open_zarr('/g/data/xv83/dr6273/work/projects/coffee/data/gpcc_precip_Annual_upper_tail_2500.zarr',\n",
    "                                             consolidated=True)"
   ]
  },
  {
   "cell_type": "markdown",
   "id": "09c14602-2cf0-464f-96a8-5031f441b7fd",
   "metadata": {},
   "source": [
    "### Proportion of each country, and global coffee area, in drought each year"
   ]
  },
  {
   "cell_type": "code",
   "execution_count": null,
   "id": "e0ed3eea-f7fb-4b0a-8ad3-48e2dc3b99f8",
   "metadata": {},
   "outputs": [],
   "source": [
    "vpd_grid_template = 'era5'\n",
    "temperature_grid_template = 'berkeley'\n",
    "precip_grid_template = 'gpcc'"
   ]
  },
  {
   "cell_type": "markdown",
   "id": "4dc91f9f-a081-452b-94e2-ab68b7d5444c",
   "metadata": {},
   "source": [
    "### VPD events"
   ]
  },
  {
   "cell_type": "code",
   "execution_count": null,
   "id": "6ad56d80-0006-4781-9f5c-76534d7080db",
   "metadata": {},
   "outputs": [],
   "source": [
    "vpd_flowering_events = fn.calculate_event_statistics(vpd_flowering, vpd_grid_template).compute()"
   ]
  },
  {
   "cell_type": "code",
   "execution_count": null,
   "id": "828df950-5ce5-4342-aac6-8b01d690c5bf",
   "metadata": {},
   "outputs": [],
   "source": [
    "vpd_growing_events = fn.calculate_event_statistics(vpd_growing, vpd_grid_template).compute()"
   ]
  },
  {
   "cell_type": "markdown",
   "id": "70e8ef2d-796f-4f6d-8952-0ac5c67fe2df",
   "metadata": {},
   "source": [
    "### Tmin averages events"
   ]
  },
  {
   "cell_type": "code",
   "execution_count": null,
   "id": "8e67ce9e-cb12-4410-82fa-d6b16c4648a0",
   "metadata": {},
   "outputs": [],
   "source": [
    "mn2t_flowering_events = fn.calculate_event_statistics(mn2t_flowering, temperature_grid_template).compute()"
   ]
  },
  {
   "cell_type": "code",
   "execution_count": null,
   "id": "0c0330f3-0b14-400b-8840-2b20043743ae",
   "metadata": {},
   "outputs": [],
   "source": [
    "mn2t_growing_events = fn.calculate_event_statistics(mn2t_growing, temperature_grid_template).compute()"
   ]
  },
  {
   "cell_type": "markdown",
   "id": "12c586d2-2560-4dcf-b45b-1be4dba80593",
   "metadata": {},
   "source": [
    "### Tmax averages events"
   ]
  },
  {
   "cell_type": "code",
   "execution_count": null,
   "id": "40e3f67b-ed2d-4d89-9f99-4eae42b29486",
   "metadata": {},
   "outputs": [],
   "source": [
    "mx2t_growing_events = fn.calculate_event_statistics(mx2t_growing, temperature_grid_template).compute()"
   ]
  },
  {
   "cell_type": "markdown",
   "id": "a506ef49-c35f-452f-909f-069baf084aa6",
   "metadata": {
    "tags": []
   },
   "source": [
    "### T ranges events"
   ]
  },
  {
   "cell_type": "code",
   "execution_count": null,
   "id": "f14af4ba-a1f5-45d0-8177-88aef1660ecf",
   "metadata": {},
   "outputs": [],
   "source": [
    "# Select relevant countries for each species and concat\n",
    "arabica_season_ids = [s for s in mn2t_growing_events.season_id.values if s.split('_')[0] in arabica_abbrevs]\n",
    "\n",
    "robusta_season_ids = [s for s in mn2t_growing_events.season_id.values if s.split('_')[0] in robusta_abbrevs]"
   ]
  },
  {
   "cell_type": "code",
   "execution_count": null,
   "id": "550abe90-3237-4551-9bfb-6ca412625e0d",
   "metadata": {},
   "outputs": [],
   "source": [
    "t2m_lt_growing_arabica_optimal_events = fn.calculate_event_statistics(t2m_lt_growing_arabica_optimal, temperature_grid_template)\n",
    "t2m_lt_growing_robusta_optimal_events = fn.calculate_event_statistics(t2m_lt_growing_robusta_optimal, temperature_grid_template)\n",
    "\n",
    "t2m_lt_growing_optimal_events = xr.concat([t2m_lt_growing_arabica_optimal_events.sel(season_id=arabica_season_ids),\n",
    "                                           t2m_lt_growing_robusta_optimal_events.sel(season_id=robusta_season_ids)],\n",
    "                                          dim='season_id').compute()"
   ]
  },
  {
   "cell_type": "code",
   "execution_count": null,
   "id": "16f02252-1d06-479e-9fd0-d14549932951",
   "metadata": {},
   "outputs": [],
   "source": [
    "t2m_ut_growing_arabica_optimal_events = fn.calculate_event_statistics(t2m_ut_growing_arabica_optimal, temperature_grid_template)\n",
    "t2m_ut_growing_robusta_optimal_events = fn.calculate_event_statistics(t2m_ut_growing_robusta_optimal, temperature_grid_template)\n",
    "\n",
    "t2m_ut_growing_optimal_events = xr.concat([t2m_ut_growing_arabica_optimal_events.sel(season_id=arabica_season_ids),\n",
    "                                           t2m_ut_growing_robusta_optimal_events.sel(season_id=robusta_season_ids)],\n",
    "                                          dim='season_id').compute()"
   ]
  },
  {
   "cell_type": "markdown",
   "id": "de99c343-9cc4-45ff-a0c6-b0854cd8dd33",
   "metadata": {
    "tags": []
   },
   "source": [
    "### Precip ranges events"
   ]
  },
  {
   "cell_type": "code",
   "execution_count": null,
   "id": "5d07f4bc-1e0b-405e-9c21-09a33a6ea529",
   "metadata": {},
   "outputs": [],
   "source": [
    "tp_lt_growing_arabica_optimal_events = fn.calculate_event_statistics(tp_lt_growing_arabica_optimal, precip_grid_template)\n",
    "tp_lt_growing_robusta_optimal_events = fn.calculate_event_statistics(tp_lt_growing_robusta_optimal, precip_grid_template)\n",
    "\n",
    "tp_lt_growing_optimal_events = xr.concat([tp_lt_growing_arabica_optimal_events.sel(season_id=arabica_season_ids),\n",
    "                                           tp_lt_growing_robusta_optimal_events.sel(season_id=robusta_season_ids)],\n",
    "                                          dim='season_id').compute()"
   ]
  },
  {
   "cell_type": "code",
   "execution_count": null,
   "id": "a74d51f7-3f50-4e13-ac97-07f95a1ced02",
   "metadata": {},
   "outputs": [],
   "source": [
    "tp_ut_growing_arabica_optimal_events = fn.calculate_event_statistics(tp_ut_growing_arabica_optimal, precip_grid_template)\n",
    "tp_ut_growing_robusta_optimal_events = fn.calculate_event_statistics(tp_ut_growing_robusta_optimal, precip_grid_template)\n",
    "\n",
    "tp_ut_growing_optimal_events = xr.concat([tp_ut_growing_arabica_optimal_events.sel(season_id=arabica_season_ids),\n",
    "                                           tp_ut_growing_robusta_optimal_events.sel(season_id=robusta_season_ids)],\n",
    "                                          dim='season_id').compute()"
   ]
  },
  {
   "cell_type": "markdown",
   "id": "996d7f51-dc09-49cc-945c-75411732d1c5",
   "metadata": {},
   "source": [
    "# How many event years per grid cell?"
   ]
  },
  {
   "cell_type": "code",
   "execution_count": null,
   "id": "c3f4b242-c2f2-486c-a580-6b444539d0c2",
   "metadata": {},
   "outputs": [],
   "source": [
    "gpcc_mask = fn.get_combined_mask('gpcc')"
   ]
  },
  {
   "cell_type": "code",
   "execution_count": null,
   "id": "de5c96b2-6299-48ec-ab40-03229d39dac1",
   "metadata": {},
   "outputs": [],
   "source": [
    "tp_lt_growing_optimal = xr.concat([tp_lt_growing_arabica_optimal.sel(season_id=arabica_season_ids).rename({'event_1400': 'event'}),\n",
    "                                    tp_lt_growing_robusta_optimal.sel(season_id=robusta_season_ids).rename({'event_2000': 'event'})],\n",
    "                                          dim='season_id').compute()"
   ]
  },
  {
   "cell_type": "code",
   "execution_count": null,
   "id": "03be2ecc-c8ce-4cf1-98e9-2df0d1f72ba8",
   "metadata": {},
   "outputs": [],
   "source": [
    "tp_ut_growing_optimal = xr.concat([tp_ut_growing_arabica_optimal.sel(season_id=arabica_season_ids).rename({'event_2000': 'event'}),\n",
    "                                    tp_ut_growing_robusta_optimal.sel(season_id=robusta_season_ids).rename({'event_2500': 'event'})],\n",
    "                                          dim='season_id').compute()"
   ]
  },
  {
   "cell_type": "code",
   "execution_count": null,
   "id": "8144498a-e5df-4a26-bce6-ad6a02cc60bb",
   "metadata": {},
   "outputs": [],
   "source": [
    "t2m_lt_growing_optimal = xr.concat([t2m_lt_growing_arabica_optimal.sel(season_id=arabica_season_ids).rename({'event_18': 'event'}),\n",
    "                                    t2m_lt_growing_robusta_optimal.sel(season_id=robusta_season_ids).rename({'event_22': 'event'})],\n",
    "                                          dim='season_id').compute()"
   ]
  },
  {
   "cell_type": "code",
   "execution_count": null,
   "id": "77aa228b-9379-41f0-8849-847aa5819ff5",
   "metadata": {},
   "outputs": [],
   "source": [
    "t2m_ut_growing_optimal = xr.concat([t2m_ut_growing_arabica_optimal.sel(season_id=arabica_season_ids).rename({'event_22': 'event'}),\n",
    "                                    t2m_ut_growing_robusta_optimal.sel(season_id=robusta_season_ids).rename({'event_28': 'event'})],\n",
    "                                          dim='season_id').compute()"
   ]
  },
  {
   "cell_type": "code",
   "execution_count": null,
   "id": "2f92cf5f-4cfd-4581-88ce-0c6414b4f4d0",
   "metadata": {},
   "outputs": [],
   "source": [
    "# Remove duplicate Colombia and Uganda\n",
    "country_subset = copy.deepcopy(country_order)\n",
    "country_subset.pop('CO_2')\n",
    "country_subset.pop('UG_13')\n",
    "country_subset = list(country_subset.keys())\n",
    "\n",
    "arabica_subset = [i for i in country_subset if i in arabica_season_ids]\n",
    "robusta_subset = [i for i in country_subset if i in robusta_season_ids]"
   ]
  },
  {
   "cell_type": "code",
   "execution_count": null,
   "id": "90061dea-ec69-4bbb-997a-69ade4833849",
   "metadata": {},
   "outputs": [],
   "source": [
    "vpd_tmin_fl = xr.concat([vpd_growing.sel(season_id=arabica_subset).rename({'event_0.82': 'event'}).event,\n",
    "                         mn2t_flowering.sel(season_id=robusta_subset).rename({'event_15.8': 'event'}).event],\n",
    "                        dim='season_id').to_dataset(name='event')\n",
    "\n",
    "tmax_tmin_gr = xr.concat([mx2t_growing.sel(season_id=arabica_subset).rename({'event_29.5': 'event'}).event,\n",
    "                          mn2t_growing.sel(season_id=robusta_subset).rename({'event_18.6': 'event'}).event],\n",
    "                        dim='season_id').to_dataset(name='event')"
   ]
  },
  {
   "cell_type": "code",
   "execution_count": null,
   "id": "99bb455c-f22c-43fc-aa54-bc1d1439a923",
   "metadata": {},
   "outputs": [],
   "source": [
    "pretty_biophysical_thresholds = [r'$\\mathrm{VPD}_{\\mathrm{gr}} > 0.82\\ \\mathrm{kPa}$',\n",
    "                                 r'$T_{\\mathrm{max, gr}} > 29.5\\ ^{\\circ}$C',\n",
    "                                 r'$T_{\\mathrm{min, fl}} < 15.8\\ ^{\\circ}$C',\n",
    "                                 r'$T_{\\mathrm{min, gr}} > 18.6\\ ^{\\circ}$C',\n",
    "                                 r'$T_{\\mathrm{gr}} < 18\\ ^{\\circ}$C',\n",
    "                                 r'$T_{\\mathrm{gr}} > 22\\ ^{\\circ}$C',\n",
    "                                 r'$T_{\\mathrm{gr}} < 22\\ ^{\\circ}$C',\n",
    "                                 r'$T_{\\mathrm{gr}} > 28\\ ^{\\circ}$C',\n",
    "                                 r'$P_{\\mathrm{an}} < 1400\\ \\mathrm{mm}$',\n",
    "                                 r'$P_{\\mathrm{an}} > 2000\\ \\mathrm{mm}$',\n",
    "                                 r'$P_{\\mathrm{an}} < 2000\\ \\mathrm{mm}$',\n",
    "                                 r'$P_{\\mathrm{an}} > 2500\\ \\mathrm{mm}$']"
   ]
  },
  {
   "cell_type": "code",
   "execution_count": null,
   "id": "ad574963-ecd5-4b9c-b9f8-95019029eaca",
   "metadata": {},
   "outputs": [],
   "source": [
    "keys = ['__'.join([pretty_biophysical_thresholds[0], pretty_biophysical_thresholds[2]]),\n",
    "        '__'.join([pretty_biophysical_thresholds[1], pretty_biophysical_thresholds[3]]),\n",
    "        '__'.join([pretty_biophysical_thresholds[4], pretty_biophysical_thresholds[6]]),\n",
    "        '__'.join([pretty_biophysical_thresholds[5], pretty_biophysical_thresholds[7]]),\n",
    "        '__'.join([pretty_biophysical_thresholds[8], pretty_biophysical_thresholds[10]]),\n",
    "        '__'.join([pretty_biophysical_thresholds[9], pretty_biophysical_thresholds[11]])]"
   ]
  },
  {
   "cell_type": "code",
   "execution_count": null,
   "id": "2b50fef4-8b2e-4fef-96ec-606999cea2c5",
   "metadata": {},
   "outputs": [],
   "source": [
    "# Prepare arrays\n",
    "var_dict = {keys[0]: vpd_tmin_fl,\n",
    "            keys[1]: tmax_tmin_gr,\n",
    "            keys[2]: t2m_lt_growing_optimal.sel(season_id=country_subset),\n",
    "            keys[3]: t2m_ut_growing_optimal.sel(season_id=country_subset),\n",
    "            keys[4]: tp_lt_growing_optimal.sel(season_id=country_subset),\n",
    "            keys[5]: tp_ut_growing_optimal.sel(season_id=country_subset)}"
   ]
  },
  {
   "cell_type": "code",
   "execution_count": null,
   "id": "6a0e1e3d-95a6-446b-966f-292751dfee07",
   "metadata": {},
   "outputs": [],
   "source": [
    "fn.risks_map('events', var_dict, 'event', country_subset, dataset='gpcc', save_fig=True,\n",
    "             filename='event_frequency_map.pdf')"
   ]
  },
  {
   "cell_type": "markdown",
   "id": "e26e1879-307e-46dd-8772-43b9b585cca3",
   "metadata": {},
   "source": [
    "# Avg number of climate hazards per year per grid box"
   ]
  },
  {
   "cell_type": "code",
   "execution_count": null,
   "id": "60b7e3bc-5ac2-43dc-baa4-5ca71b1058ff",
   "metadata": {},
   "outputs": [],
   "source": [
    "da_list = []\n",
    "for k, da in zip(var_dict.keys(), var_dict.values()):\n",
    "    da = fn.var_summary(da, 'event', 'sum', country_subset, 'gpcc', slice('1980', '2020'))\n",
    "    da_list.append(da.expand_dims({'var': [k]}))\n",
    "n_events_da = xr.concat(da_list, dim='var')\n",
    "n_events_da = n_events_da.sum('var')\n",
    "n_events_da = n_events_da.compute()"
   ]
  },
  {
   "cell_type": "code",
   "execution_count": null,
   "id": "bf6e4172-05c9-4dbb-a46d-bc79458e584a",
   "metadata": {},
   "outputs": [],
   "source": [
    "with plt.rc_context(plt_params):\n",
    "    fig, ax = plt.subplots(1, 1, figsize=(6.8, 1.5), subplot_kw={'projection': ccrs.PlateCarree()}, dpi=150)\n",
    "    plot_da = (n_events_da / 41).where(gpcc_mask.sum('abbrevs'))\n",
    "    \n",
    "    ax.set_extent((-117, 142, 36, -35), crs=ccrs.PlateCarree())\n",
    "    ax.coastlines(lw=plt_params['lines.linewidth']/3)\n",
    "    n_brazil_shp.boundary.plot(ax=ax, color='r', lw=plt_params['lines.linewidth']/2)\n",
    "    ax.add_feature(cartopy.feature.BORDERS, lw=plt_params['lines.linewidth']/4)\n",
    "\n",
    "    ax.plot((26, 26), (8, -90), color='r', ls='-', lw=plt_params['lines.linewidth']/1.5)\n",
    "    ax.plot((48, 48), (90, 0), color='r', ls='-', lw=plt_params['lines.linewidth']/1.5)\n",
    "    ax.plot((26.5, 48), (8, 0), color='r', ls='-', lw=plt_params['lines.linewidth']/1.5)\n",
    "    \n",
    "    p = plot_da.plot(ax=ax, vmin=0, vmax=4, add_colorbar=False)\n",
    "    \n",
    "    ax.text(0.35, 0.05, 'Arabica', transform=ax.transAxes)\n",
    "    ax.text(0.7, 0.05, 'Robusta', transform=ax.transAxes)\n",
    "    \n",
    "    cb_ax1 = fig.add_axes([0.825, 0.125, 0.01, 0.75])\n",
    "    cb1 = fig.colorbar(p, cax=cb_ax1, orientation='vertical', ticks=np.arange(0, 4.1, 1))\n",
    "    cb1.ax.set_ylabel('Hazards per year', rotation=270, va='bottom')\n",
    "    \n",
    "    plt.savefig('./figures/hazards_per_year.pdf', format='pdf', dpi=400, bbox_inches='tight')"
   ]
  },
  {
   "cell_type": "markdown",
   "id": "d620fef9-c294-4296-9831-cfbcc098f0ae",
   "metadata": {},
   "source": [
    "# Events through time"
   ]
  },
  {
   "cell_type": "code",
   "execution_count": null,
   "id": "c7caa1c4-d892-4c75-919b-1aa877215081",
   "metadata": {},
   "outputs": [],
   "source": [
    "plot_dict_list = [\n",
    "    {\n",
    "             'da1': xr.concat([vpd_growing_events.sel(season_id=arabica_season_ids),\n",
    "                               mn2t_flowering_events.sel(season_id=robusta_season_ids)],\n",
    "                             dim='season_id'),\n",
    "             'da2': xr.concat([mx2t_growing_events.sel(season_id=arabica_season_ids),\n",
    "                               mn2t_growing_events.sel(season_id=robusta_season_ids)],\n",
    "                             dim='season_id'),\n",
    "             'event_categories_1': ['Neither', pretty_biophysical_thresholds[0], pretty_biophysical_thresholds[1], 'Both'],\n",
    "             'event_categories_2': ['Neither', pretty_biophysical_thresholds[2], pretty_biophysical_thresholds[3], 'Both'],\n",
    "             'cmap_max': 512,\n",
    "             'title': r'$\\mathrm{\\bf{a}}$ $\\mathrm{VPD}_{\\mathrm{gr}}$ and $T_{\\mathrm{max, gr}}$ (Arabica); $T_{\\mathrm{min, fl}}$ and $T_{\\mathrm{min, gr}}$ (Robusta)',\n",
    "    },\n",
    "    {\n",
    "             'da1': t2m_lt_growing_optimal_events,\n",
    "             'da2': t2m_ut_growing_optimal_events,\n",
    "             'event_categories_1': ['Neither', pretty_biophysical_thresholds[4], pretty_biophysical_thresholds[5]],\n",
    "             'event_categories_2': ['Neither', pretty_biophysical_thresholds[6], pretty_biophysical_thresholds[7]],\n",
    "             'cmap_max': 341,\n",
    "             'title': r'$\\mathrm{\\bf{b}}$ $T_{\\mathrm{gr}}$',\n",
    "    },\n",
    "    {\n",
    "             'da1': tp_lt_growing_optimal_events,\n",
    "             'da2': tp_ut_growing_optimal_events,\n",
    "             'event_categories_1': ['Neither', pretty_biophysical_thresholds[8], pretty_biophysical_thresholds[9]],\n",
    "             'event_categories_2': ['Neither', pretty_biophysical_thresholds[10], pretty_biophysical_thresholds[11]],\n",
    "             'cmap_max': 341,\n",
    "             'title': r'$\\mathrm{\\bf{c}}$ $P_{\\mathrm{an}}$',\n",
    "    }\n",
    "]"
   ]
  },
  {
   "cell_type": "code",
   "execution_count": null,
   "id": "de32c4ad-e7d8-4272-bac0-be7c2515bcdf",
   "metadata": {},
   "outputs": [],
   "source": [
    "fn.plot_combined_phase_extremes(plot_dict_list, y_order=country_order, save_fig=True,\n",
    "                                filename='country_events.pdf')"
   ]
  },
  {
   "cell_type": "markdown",
   "id": "f0ac1fcd-1da0-47ae-baac-7916e05936f0",
   "metadata": {},
   "source": [
    "### Event proportions"
   ]
  },
  {
   "cell_type": "code",
   "execution_count": null,
   "id": "6dfe1f24-2a37-40f3-a186-ebf2174c3968",
   "metadata": {},
   "outputs": [],
   "source": [
    "var_names = ['VPD/Tmin_fl', 'Tmax/Tmin_gr', 'T_l', 'T_u', 'P_l', 'P_u']"
   ]
  },
  {
   "cell_type": "code",
   "execution_count": null,
   "id": "557ceb37-2dff-4574-9220-b7d2f669bb9f",
   "metadata": {},
   "outputs": [],
   "source": [
    "proportion_means = np.full((len(country_order), 6), np.nan)\n",
    "proportion_stds = np.full((len(country_order), 6), np.nan)\n",
    "\n",
    "for i, element in enumerate(plot_dict_list):\n",
    "    for j, da in enumerate(['da1', 'da2']):\n",
    "        proportions = element[da]['country_proportion_of_event'].sel(season_id=list(country_order.keys()))\n",
    "        proportion_means[:,i*2+j] = proportions.mean('time').values\n",
    "        proportion_stds[:,i*2+j] = proportions.std('time').values"
   ]
  },
  {
   "cell_type": "code",
   "execution_count": null,
   "id": "45027671-9b47-4163-9de8-8ec631eb928c",
   "metadata": {},
   "outputs": [],
   "source": [
    "proportion_means = pd.DataFrame(proportion_means,\n",
    "                                index=country_order.keys(),\n",
    "                                columns=var_names)\n",
    "proportion_stds = pd.DataFrame(proportion_stds,\n",
    "                                index=country_order.keys(),\n",
    "                                columns=var_names)"
   ]
  },
  {
   "cell_type": "code",
   "execution_count": null,
   "id": "40c0f69f-dfed-4a0c-804f-9bebc458f342",
   "metadata": {},
   "outputs": [],
   "source": [
    "str_df = np.round(proportion_means * 100, 1).astype(str) + ' (' + np.round(proportion_stds * 100, 1).astype(str) + ')'\n",
    "str_df.to_csv('./proportion_stats.csv')"
   ]
  },
  {
   "cell_type": "markdown",
   "id": "bffb0fef-43b5-49f0-b735-fa9ed2bb587c",
   "metadata": {},
   "source": [
    "## Sign so that hot and dry events are distinct from wet and cold"
   ]
  },
  {
   "cell_type": "code",
   "execution_count": null,
   "id": "a90f1d8b-6bf4-4124-a78a-534e85d94e48",
   "metadata": {},
   "outputs": [],
   "source": [
    "arabica_risks = {\n",
    "                 'VPD > 0.82': vpd_growing_events.sel(time=slice('1980', '2020')).sel(season_id=arabica_season_ids),\n",
    "                 'Tmax > 29.5': mx2t_growing_events.sel(time=slice('1980', '2020')).sel(season_id=arabica_season_ids),\n",
    "                 'T < 18': t2m_lt_growing_optimal_events.sel(time=slice('1980', '2020')).sel(season_id=arabica_season_ids),\n",
    "                 'T > 22': t2m_ut_growing_optimal_events.sel(time=slice('1980', '2020')).sel(season_id=arabica_season_ids),\n",
    "                 'P < 1400': tp_lt_growing_optimal_events.sel(time=slice('1980', '2020')).sel(season_id=arabica_season_ids),\n",
    "                 'P > 2000': tp_ut_growing_optimal_events.sel(time=slice('1980', '2020')).sel(season_id=arabica_season_ids)\n",
    "                }"
   ]
  },
  {
   "cell_type": "code",
   "execution_count": null,
   "id": "79923f12-0874-40e7-bcaa-330518924bac",
   "metadata": {},
   "outputs": [],
   "source": [
    "robusta_risks = {\n",
    "                 'Tmin fl < 15.8': mn2t_flowering_events.sel(time=slice('1980', '2020')).sel(season_id=robusta_season_ids),\n",
    "                 'Tmin gr > 18.6': mn2t_growing_events.sel(time=slice('1980', '2020')).sel(season_id=robusta_season_ids),\n",
    "                 'T < 22': t2m_lt_growing_optimal_events.sel(time=slice('1980', '2020')).sel(season_id=robusta_season_ids),\n",
    "                 'T > 28': t2m_ut_growing_optimal_events.sel(time=slice('1980', '2020')).sel(season_id=robusta_season_ids),\n",
    "                 'P < 2000': tp_lt_growing_optimal_events.sel(time=slice('1980', '2020')).sel(season_id=robusta_season_ids),\n",
    "                 'P > 2500': tp_ut_growing_optimal_events.sel(time=slice('1980', '2020')).sel(season_id=robusta_season_ids)\n",
    "                }"
   ]
  },
  {
   "cell_type": "code",
   "execution_count": null,
   "id": "011942ff-6253-41de-ba9b-fce8d19cc61b",
   "metadata": {},
   "outputs": [],
   "source": [
    "signed_arabica_risks = copy.deepcopy(arabica_risks)\n",
    "signed_arabica_risks['T < 18'] *= -1\n",
    "signed_arabica_risks['P > 2000'] *= -1"
   ]
  },
  {
   "cell_type": "code",
   "execution_count": null,
   "id": "f37b08b7-b19f-4dd1-9098-1c801b7db13e",
   "metadata": {},
   "outputs": [],
   "source": [
    "signed_robusta_risks = copy.deepcopy(robusta_risks)\n",
    "signed_robusta_risks['Tmin fl < 15.8'] *= -1\n",
    "signed_robusta_risks['T < 22'] *= -1\n",
    "signed_robusta_risks['P > 2500'] *= -1"
   ]
  },
  {
   "cell_type": "code",
   "execution_count": null,
   "id": "b2f8dc7f-0799-4bcc-8dd3-95ce52106503",
   "metadata": {},
   "outputs": [],
   "source": [
    "year_counts = fn.plot_n_signed_events([arabica_risks, robusta_risks],\n",
    "                                        [signed_arabica_risks, signed_robusta_risks],\n",
    "                                        y_order=country_order,\n",
    "                                        save_fig=True, filename='signed_events.pdf')"
   ]
  },
  {
   "cell_type": "markdown",
   "id": "72034d91-0f97-4388-b06b-450a07439028",
   "metadata": {},
   "source": [
    "# Repeat events analysis for a threshold of mean + 5%, 10% and 20%"
   ]
  },
  {
   "cell_type": "code",
   "execution_count": null,
   "id": "bd050ccb-2599-4398-988e-d942b9930f66",
   "metadata": {},
   "outputs": [],
   "source": [
    "proportion_threshold = 0.2"
   ]
  },
  {
   "cell_type": "markdown",
   "id": "ddf3e323-eedc-4507-bf27-3b26e5dff5a7",
   "metadata": {},
   "source": [
    "### VPD events"
   ]
  },
  {
   "cell_type": "code",
   "execution_count": null,
   "id": "a8c60cd3-7ce7-4885-82b0-a5da10ba3b76",
   "metadata": {},
   "outputs": [],
   "source": [
    "vpd_flowering_events = fn.calculate_event_statistics(vpd_flowering, vpd_grid_template,\n",
    "                                                     absolute_threshold=False, \n",
    "                                                     threshold_value=proportion_threshold).compute()"
   ]
  },
  {
   "cell_type": "code",
   "execution_count": null,
   "id": "792b3cb1-9a55-4a9f-8627-5d76d4529c6f",
   "metadata": {},
   "outputs": [],
   "source": [
    "vpd_growing_events = fn.calculate_event_statistics(vpd_growing, vpd_grid_template,\n",
    "                                                   absolute_threshold=False,\n",
    "                                                   threshold_value=proportion_threshold).compute()"
   ]
  },
  {
   "cell_type": "markdown",
   "id": "b5ec8cd5-ab62-4e19-878a-f16905a64e2d",
   "metadata": {},
   "source": [
    "### Tmin averages events"
   ]
  },
  {
   "cell_type": "code",
   "execution_count": null,
   "id": "0589324f-3a05-45d7-ba3a-a18f1822947e",
   "metadata": {},
   "outputs": [],
   "source": [
    "mn2t_flowering_events = fn.calculate_event_statistics(mn2t_flowering, temperature_grid_template,\n",
    "                                                      absolute_threshold=False,\n",
    "                                                      threshold_value=proportion_threshold).compute()"
   ]
  },
  {
   "cell_type": "code",
   "execution_count": null,
   "id": "3fab30c0-91a5-4472-b8d1-f40d8fbd6c52",
   "metadata": {},
   "outputs": [],
   "source": [
    "mn2t_growing_events = fn.calculate_event_statistics(mn2t_growing, temperature_grid_template,\n",
    "                                                    absolute_threshold=False,\n",
    "                                                    threshold_value=proportion_threshold).compute()"
   ]
  },
  {
   "cell_type": "markdown",
   "id": "23ad14b7-191c-41e6-bb1a-0c5f3471a593",
   "metadata": {},
   "source": [
    "### Tmax averages events"
   ]
  },
  {
   "cell_type": "code",
   "execution_count": null,
   "id": "e45af03f-04be-4d5d-898b-7d132a9b62aa",
   "metadata": {},
   "outputs": [],
   "source": [
    "mx2t_growing_events = fn.calculate_event_statistics(mx2t_growing, temperature_grid_template,\n",
    "                                                    absolute_threshold=False,\n",
    "                                                    threshold_value=proportion_threshold).compute()"
   ]
  },
  {
   "cell_type": "markdown",
   "id": "f5340fd0-4214-4839-8e44-9e4b1ee89503",
   "metadata": {
    "tags": []
   },
   "source": [
    "### T ranges events"
   ]
  },
  {
   "cell_type": "code",
   "execution_count": null,
   "id": "23f68742-1a92-46d7-9f2d-68e7e8577289",
   "metadata": {},
   "outputs": [],
   "source": [
    "# Select relevant countries for each species and concat\n",
    "arabica_season_ids = [s for s in mn2t_growing_events.season_id.values if s.split('_')[0] in arabica_abbrevs]\n",
    "\n",
    "robusta_season_ids = [s for s in mn2t_growing_events.season_id.values if s.split('_')[0] in robusta_abbrevs]"
   ]
  },
  {
   "cell_type": "code",
   "execution_count": null,
   "id": "635306c1-da8e-4314-a414-c1f2ee4686c5",
   "metadata": {},
   "outputs": [],
   "source": [
    "t2m_lt_growing_arabica_optimal_events = fn.calculate_event_statistics(t2m_lt_growing_arabica_optimal,\n",
    "                                                                      temperature_grid_template,\n",
    "                                                                      absolute_threshold=False,\n",
    "                                                                      threshold_value=proportion_threshold)\n",
    "t2m_lt_growing_robusta_optimal_events = fn.calculate_event_statistics(t2m_lt_growing_robusta_optimal,\n",
    "                                                                      temperature_grid_template,\n",
    "                                                                      absolute_threshold=False,\n",
    "                                                                      threshold_value=proportion_threshold)\n",
    "\n",
    "t2m_lt_growing_optimal_events = xr.concat([t2m_lt_growing_arabica_optimal_events.sel(season_id=arabica_season_ids),\n",
    "                                           t2m_lt_growing_robusta_optimal_events.sel(season_id=robusta_season_ids)],\n",
    "                                          dim='season_id').compute()"
   ]
  },
  {
   "cell_type": "code",
   "execution_count": null,
   "id": "fd06c671-1586-465e-a1e5-1362756e0a7f",
   "metadata": {},
   "outputs": [],
   "source": [
    "t2m_ut_growing_arabica_optimal_events = fn.calculate_event_statistics(t2m_ut_growing_arabica_optimal,\n",
    "                                                                      temperature_grid_template,\n",
    "                                                                      absolute_threshold=False,\n",
    "                                                                      threshold_value=proportion_threshold)\n",
    "t2m_ut_growing_robusta_optimal_events = fn.calculate_event_statistics(t2m_ut_growing_robusta_optimal,\n",
    "                                                                      temperature_grid_template,\n",
    "                                                                      absolute_threshold=False,\n",
    "                                                                      threshold_value=proportion_threshold)\n",
    "\n",
    "t2m_ut_growing_optimal_events = xr.concat([t2m_ut_growing_arabica_optimal_events.sel(season_id=arabica_season_ids),\n",
    "                                           t2m_ut_growing_robusta_optimal_events.sel(season_id=robusta_season_ids)],\n",
    "                                          dim='season_id').compute()"
   ]
  },
  {
   "cell_type": "markdown",
   "id": "fc70c527-457c-4d7d-818a-3da8f44ad184",
   "metadata": {
    "tags": []
   },
   "source": [
    "### Precip ranges events"
   ]
  },
  {
   "cell_type": "code",
   "execution_count": null,
   "id": "23de5541-5818-4374-9b55-343815a4bba9",
   "metadata": {},
   "outputs": [],
   "source": [
    "tp_lt_growing_arabica_optimal_events = fn.calculate_event_statistics(tp_lt_growing_arabica_optimal,\n",
    "                                                                     precip_grid_template,\n",
    "                                                                     absolute_threshold=False,\n",
    "                                                                     threshold_value=proportion_threshold)\n",
    "tp_lt_growing_robusta_optimal_events = fn.calculate_event_statistics(tp_lt_growing_robusta_optimal,\n",
    "                                                                     precip_grid_template,\n",
    "                                                                     absolute_threshold=False,\n",
    "                                                                     threshold_value=proportion_threshold)\n",
    "\n",
    "tp_lt_growing_optimal_events = xr.concat([tp_lt_growing_arabica_optimal_events.sel(season_id=arabica_season_ids),\n",
    "                                           tp_lt_growing_robusta_optimal_events.sel(season_id=robusta_season_ids)],\n",
    "                                          dim='season_id').compute()"
   ]
  },
  {
   "cell_type": "code",
   "execution_count": null,
   "id": "3f299122-7479-493f-b5df-b07ddf68c1b8",
   "metadata": {},
   "outputs": [],
   "source": [
    "tp_ut_growing_arabica_optimal_events = fn.calculate_event_statistics(tp_ut_growing_arabica_optimal,\n",
    "                                                                     precip_grid_template,\n",
    "                                                                     absolute_threshold=False,\n",
    "                                                                     threshold_value=proportion_threshold)\n",
    "tp_ut_growing_robusta_optimal_events = fn.calculate_event_statistics(tp_ut_growing_robusta_optimal,\n",
    "                                                                     precip_grid_template,\n",
    "                                                                     absolute_threshold=False,\n",
    "                                                                     threshold_value=proportion_threshold)\n",
    "\n",
    "tp_ut_growing_optimal_events = xr.concat([tp_ut_growing_arabica_optimal_events.sel(season_id=arabica_season_ids),\n",
    "                                           tp_ut_growing_robusta_optimal_events.sel(season_id=robusta_season_ids)],\n",
    "                                          dim='season_id').compute()"
   ]
  },
  {
   "cell_type": "code",
   "execution_count": null,
   "id": "8fbd595c-125f-45fe-898d-10d44144560c",
   "metadata": {},
   "outputs": [],
   "source": [
    "plot_dict_list = [\n",
    "    {\n",
    "             'da1': xr.concat([vpd_growing_events.sel(season_id=arabica_season_ids),\n",
    "                               mn2t_flowering_events.sel(season_id=robusta_season_ids)],\n",
    "                             dim='season_id'),\n",
    "             'da2': xr.concat([mx2t_growing_events.sel(season_id=arabica_season_ids),\n",
    "                               mn2t_growing_events.sel(season_id=robusta_season_ids)],\n",
    "                             dim='season_id'),\n",
    "             'event_categories_1': ['Neither', pretty_biophysical_thresholds[0], pretty_biophysical_thresholds[1], 'Both'],\n",
    "             'event_categories_2': ['Neither', pretty_biophysical_thresholds[2], pretty_biophysical_thresholds[3], 'Both'],\n",
    "             'cmap_max': 512,\n",
    "             'title': r'$\\mathrm{\\bf{a}}$ $\\mathrm{VPD}_{\\mathrm{gr}}$ and $T_{\\mathrm{max, gr}}$ (Arabica); $T_{\\mathrm{min, fl}}$ and $T_{\\mathrm{min, gr}}$ (Robusta)',\n",
    "    },\n",
    "    {\n",
    "             'da1': t2m_lt_growing_optimal_events,\n",
    "             'da2': t2m_ut_growing_optimal_events,\n",
    "             'event_categories_1': ['Neither', pretty_biophysical_thresholds[4], pretty_biophysical_thresholds[5]],\n",
    "             'event_categories_2': ['Neither', pretty_biophysical_thresholds[6], pretty_biophysical_thresholds[7]],\n",
    "             'cmap_max': 341,\n",
    "             'title': r'$\\mathrm{\\bf{b}}$ $T_{\\mathrm{gr}}$',\n",
    "    },\n",
    "    {\n",
    "             'da1': tp_lt_growing_optimal_events,\n",
    "             'da2': tp_ut_growing_optimal_events,\n",
    "             'event_categories_1': ['Neither', pretty_biophysical_thresholds[8], pretty_biophysical_thresholds[9]],\n",
    "             'event_categories_2': ['Neither', pretty_biophysical_thresholds[10], pretty_biophysical_thresholds[11]],\n",
    "             'cmap_max': 341,\n",
    "             'title': r'$\\mathrm{\\bf{c}}$ $P_{\\mathrm{an}}$',\n",
    "    }\n",
    "]"
   ]
  },
  {
   "cell_type": "code",
   "execution_count": null,
   "id": "48803d3c-94e8-4692-be98-958e599443ae",
   "metadata": {},
   "outputs": [],
   "source": [
    "arabica_risks = {\n",
    "                 'VPD > 0.82': vpd_growing_events.sel(time=slice('1980', '2020')).sel(season_id=arabica_season_ids),\n",
    "                 'Tmax > 29.5': mx2t_growing_events.sel(time=slice('1980', '2020')).sel(season_id=arabica_season_ids),\n",
    "                 'T < 18': t2m_lt_growing_optimal_events.sel(time=slice('1980', '2020')).sel(season_id=arabica_season_ids),\n",
    "                 'T > 22': t2m_ut_growing_optimal_events.sel(time=slice('1980', '2020')).sel(season_id=arabica_season_ids),\n",
    "                 'P < 1400': tp_lt_growing_optimal_events.sel(time=slice('1980', '2020')).sel(season_id=arabica_season_ids),\n",
    "                 'P > 2000': tp_ut_growing_optimal_events.sel(time=slice('1980', '2020')).sel(season_id=arabica_season_ids)\n",
    "                }"
   ]
  },
  {
   "cell_type": "code",
   "execution_count": null,
   "id": "aad94d4b-5e1f-4c60-b761-94ce60af791e",
   "metadata": {},
   "outputs": [],
   "source": [
    "robusta_risks = {\n",
    "                 'Tmin fl < 15.8': mn2t_flowering_events.sel(time=slice('1980', '2020')).sel(season_id=robusta_season_ids),\n",
    "                 'Tmin gr > 18.6': mn2t_growing_events.sel(time=slice('1980', '2020')).sel(season_id=robusta_season_ids),\n",
    "                 'T < 22': t2m_lt_growing_optimal_events.sel(time=slice('1980', '2020')).sel(season_id=robusta_season_ids),\n",
    "                 'T > 28': t2m_ut_growing_optimal_events.sel(time=slice('1980', '2020')).sel(season_id=robusta_season_ids),\n",
    "                 'P < 2000': tp_lt_growing_optimal_events.sel(time=slice('1980', '2020')).sel(season_id=robusta_season_ids),\n",
    "                 'P > 2500': tp_ut_growing_optimal_events.sel(time=slice('1980', '2020')).sel(season_id=robusta_season_ids)\n",
    "                }"
   ]
  },
  {
   "cell_type": "code",
   "execution_count": null,
   "id": "7352f23d-6fd9-4ea8-9ffc-9c1d0e5e7c46",
   "metadata": {},
   "outputs": [],
   "source": [
    "signed_arabica_risks = copy.deepcopy(arabica_risks)\n",
    "signed_arabica_risks['T < 18'] *= -1\n",
    "signed_arabica_risks['P > 2000'] *= -1"
   ]
  },
  {
   "cell_type": "code",
   "execution_count": null,
   "id": "4ea12acd-0516-42b3-91c9-2e1c5fc2e63a",
   "metadata": {},
   "outputs": [],
   "source": [
    "signed_robusta_risks = copy.deepcopy(robusta_risks)\n",
    "signed_robusta_risks['Tmin fl < 15.8'] *= -1\n",
    "signed_robusta_risks['T < 22'] *= -1\n",
    "signed_robusta_risks['P > 2500'] *= -1"
   ]
  },
  {
   "cell_type": "markdown",
   "id": "f6334df7-fe89-49cd-8493-8ea35dc365d7",
   "metadata": {},
   "source": [
    "### 5%"
   ]
  },
  {
   "cell_type": "code",
   "execution_count": null,
   "id": "739ac4eb-491d-439c-a705-890c9415eb3e",
   "metadata": {},
   "outputs": [],
   "source": [
    "year_counts = fn.plot_n_signed_events([arabica_risks, robusta_risks],\n",
    "                                        [signed_arabica_risks, signed_robusta_risks],\n",
    "                                        y_order=country_order,\n",
    "                                        save_fig=True, filename='signed_events_threshold5.pdf')"
   ]
  },
  {
   "cell_type": "markdown",
   "id": "546903b8-e2b5-470b-b78f-f39746297f55",
   "metadata": {},
   "source": [
    "### 10%"
   ]
  },
  {
   "cell_type": "code",
   "execution_count": null,
   "id": "89478b63-8778-4750-9933-c0ac8b8ae9a1",
   "metadata": {},
   "outputs": [],
   "source": [
    "year_counts = fn.plot_n_signed_events([arabica_risks, robusta_risks],\n",
    "                                        [signed_arabica_risks, signed_robusta_risks],\n",
    "                                        y_order=country_order,\n",
    "                                        save_fig=True, filename='signed_events_threshold10.pdf')"
   ]
  },
  {
   "cell_type": "markdown",
   "id": "0d0321bd-5f5f-43f0-8dc4-b98227249a08",
   "metadata": {},
   "source": [
    "### 20%"
   ]
  },
  {
   "cell_type": "code",
   "execution_count": null,
   "id": "9b7bd80a-ca46-4f13-8cec-4251dff0a7ee",
   "metadata": {},
   "outputs": [],
   "source": [
    "year_counts = fn.plot_n_signed_events([arabica_risks, robusta_risks],\n",
    "                                        [signed_arabica_risks, signed_robusta_risks],\n",
    "                                        y_order=country_order,\n",
    "                                        save_fig=True, filename='signed_events_threshold20.pdf')"
   ]
  },
  {
   "cell_type": "markdown",
   "id": "f38816f3-280d-4f35-876e-4f7ebcbda96c",
   "metadata": {},
   "source": [
    "# Calculate proportion of area that one pixel is for the smallest and largest regions"
   ]
  },
  {
   "cell_type": "code",
   "execution_count": null,
   "id": "962740b8-6a28-4f4b-be18-7f2c9cb6dee4",
   "metadata": {},
   "outputs": [],
   "source": [
    "mask = fn.get_combined_mask('gpcc')\n",
    "grid_area = fn.get_grid_area('gpcc')"
   ]
  },
  {
   "cell_type": "code",
   "execution_count": null,
   "id": "e72641d0-d56b-4f91-8ca3-8b592267e897",
   "metadata": {},
   "outputs": [],
   "source": [
    "abbrev = 'HN'\n",
    "area_of_country = grid_area.where(mask.sel(abbrevs=abbrev) == True).sum()\n",
    "print(area_of_country.values)\n",
    "pixel_prop = grid_area.where(mask.sel(abbrevs=abbrev) == True).max() / area_of_country\n",
    "print(np.round(pixel_prop.values * 100, 2))"
   ]
  },
  {
   "cell_type": "code",
   "execution_count": null,
   "id": "ea0cb91e-0b67-4f80-b509-8a435b2f3358",
   "metadata": {},
   "outputs": [],
   "source": [
    "abbrev = 'MX'\n",
    "area_of_country = grid_area.where(mask.sel(abbrevs=abbrev) == True).sum()\n",
    "print(area_of_country.values)\n",
    "pixel_prop = grid_area.where(mask.sel(abbrevs=abbrev) == True).min() / area_of_country\n",
    "print(np.round(pixel_prop.values * 100, 2))"
   ]
  },
  {
   "cell_type": "code",
   "execution_count": null,
   "id": "5a32c159-6b11-45c9-b20b-77bdfdd2a5e8",
   "metadata": {},
   "outputs": [],
   "source": [
    "abbrev = 'CO'\n",
    "area_of_country = grid_area.where(mask.sel(abbrevs=abbrev) == True).sum()\n",
    "print(area_of_country.values)\n",
    "pixel_prop = grid_area.where(mask.sel(abbrevs=abbrev) == True).max() / area_of_country\n",
    "print(np.round(pixel_prop.values * 100, 2))"
   ]
  },
  {
   "cell_type": "code",
   "execution_count": null,
   "id": "bc78f8a8-86ee-441c-90fc-be16cebbace9",
   "metadata": {},
   "outputs": [],
   "source": [
    "abbrev = 'BRN'\n",
    "area_of_country = grid_area.where(mask.sel(abbrevs=abbrev) == True).sum()\n",
    "print(area_of_country.values)\n",
    "pixel_prop = grid_area.where(mask.sel(abbrevs=abbrev) == True).max() / area_of_country\n",
    "print(np.round(pixel_prop.values * 100, 2))"
   ]
  },
  {
   "cell_type": "markdown",
   "id": "75de0e73-189b-45bc-9236-13da2e150af7",
   "metadata": {},
   "source": [
    "# Trend (Mann-Kendall) test the number of warm/dry and cold/wet hazards per year"
   ]
  },
  {
   "cell_type": "code",
   "execution_count": null,
   "id": "92dfd914-ba72-4d31-97fb-d700c024c5a8",
   "metadata": {},
   "outputs": [],
   "source": [
    "def mk_theil_sen_1d(X):\n",
    "    \"\"\"\n",
    "    Performs the Mann-Kendall trend test and calculates the Theil-Sen slope\n",
    "    \"\"\"\n",
    "    \n",
    "    from scipy.stats import theilslopes\n",
    "    \n",
    "    X = X[~np.isnan(X)]\n",
    "    n = X.shape[-1] # length of X (usually time)\n",
    "    stack = np.full((n - 1, n), np.nan)\n",
    "    \n",
    "    np.fill_diagonal(stack[:,1:], X[0]) # fill the above-diagonal with first element of X\n",
    "    for i in range(n-1): # fill diagonal and below-diagonals with remaining elements\n",
    "        np.fill_diagonal(stack[i:,:], X[i+1])\n",
    "    \n",
    "    diff = np.expand_dims(stack[:,0], -1) - stack[:,1:] # difference between each element and all previous elements of X\n",
    "    sign = np.sign(diff) # sign of these differences\n",
    "    S = sign[~np.isnan(sign)].astype(int).sum() # sum of signed differences\n",
    "    \n",
    "    ts_slope, ts_intercept = theilslopes(X)[:2] # First element is estimate of slope, second is intercept\n",
    "    \n",
    "    return (S, ts_slope, ts_intercept)"
   ]
  },
  {
   "cell_type": "code",
   "execution_count": null,
   "id": "3102ffd5-9801-4c75-8fb8-d905119ad0c4",
   "metadata": {},
   "outputs": [],
   "source": [
    "def apply_mk(X):\n",
    "    \"\"\"\n",
    "    Wrapper for mk_theil_sen_1d to only return test statistic, in a DataArray\n",
    "    \"\"\"\n",
    "    S = mk_theil_sen_1d(X)[0]\n",
    "    return xr.DataArray(S)"
   ]
  },
  {
   "cell_type": "code",
   "execution_count": null,
   "id": "0fc635b4-905b-4f5d-b27e-450b0cb2cbd3",
   "metadata": {},
   "outputs": [],
   "source": [
    "def bootstrap_mk(da, n_repeats):\n",
    "    \"\"\"\n",
    "    Bootstrap da and apply Mann Kendall trend test\n",
    "    \"\"\"\n",
    "    L = fn.estimate_L(da).astype('int').values\n",
    "    print(L)\n",
    "    bootstraps = block_bootstrap(wd_risks, blocks={'time': L}, n_iteration=n_repeats, exclude_dims=None, circular=True)\n",
    "\n",
    "    resamples = xr.apply_ufunc(apply_mk, bootstraps, input_core_dims=[['time']], output_core_dims=[[]],\n",
    "                                dask='forbidden', vectorize=True)\n",
    "    return resamples"
   ]
  },
  {
   "cell_type": "code",
   "execution_count": null,
   "id": "4f6fb024-5047-4402-82d8-b391dfeefde6",
   "metadata": {},
   "outputs": [],
   "source": [
    "def get_pvalue(q):\n",
    "    \"\"\"\n",
    "    Get the p value from the quantile q\n",
    "    \"\"\"\n",
    "    return 1 - q if q > 0.5 else q"
   ]
  },
  {
   "cell_type": "markdown",
   "id": "c2bbc7c4-0bf7-475a-b6d8-a9b47065bd64",
   "metadata": {},
   "source": [
    "### Test on warm and dry events only"
   ]
  },
  {
   "cell_type": "code",
   "execution_count": null,
   "id": "2ccd3ee4-0b05-4e2c-b1be-cc039e452e7c",
   "metadata": {},
   "outputs": [],
   "source": [
    "wd_risks = xr.concat([arabica_risks['VPD > 0.82'],\n",
    "                      arabica_risks['Tmax > 29.5'],\n",
    "                      arabica_risks['T > 22'],\n",
    "                      arabica_risks['P < 1400'],\n",
    "                      robusta_risks['Tmin gr > 18.6'],\n",
    "                      robusta_risks['T > 28'],\n",
    "                      robusta_risks['P < 2000']],\n",
    "                     dim='season_id')\n",
    "wd_risks = wd_risks['event'].sum('season_id')"
   ]
  },
  {
   "cell_type": "code",
   "execution_count": null,
   "id": "468087d0-fe71-4e57-9c66-0cd80938668f",
   "metadata": {},
   "outputs": [],
   "source": [
    "wd_mk = mk_theil_sen_1d(wd_risks)[0]\n",
    "wd_mk"
   ]
  },
  {
   "cell_type": "code",
   "execution_count": null,
   "id": "daded803-8af5-48c3-90c0-07b730c28f57",
   "metadata": {},
   "outputs": [],
   "source": [
    "wd_resamples = bootstrap_mk(wd_risks, n_repeats=10000)"
   ]
  },
  {
   "cell_type": "code",
   "execution_count": null,
   "id": "cf923cb0-7ecc-4593-8f1a-25194a761350",
   "metadata": {},
   "outputs": [],
   "source": [
    "wd_q = fn.get_quantile(wd_mk, wd_resamples)\n",
    "wd_pval = get_pvalue(wd_q)\n",
    "wd_pval"
   ]
  },
  {
   "cell_type": "code",
   "execution_count": null,
   "id": "186e0b47-5771-4628-b8d2-cf2563745f96",
   "metadata": {},
   "outputs": [],
   "source": [
    "cw_risks = xr.concat([arabica_risks['T < 18'],\n",
    "                      arabica_risks['P > 2000'],\n",
    "                      robusta_risks['Tmin fl < 15.8'],\n",
    "                      robusta_risks['T < 22'],\n",
    "                      robusta_risks['P > 2500']],\n",
    "                     dim='season_id')\n",
    "cw_risks = cw_risks['event'].sum('season_id')"
   ]
  },
  {
   "cell_type": "code",
   "execution_count": null,
   "id": "8f0c9be5-eac6-443b-a698-3da56017b984",
   "metadata": {},
   "outputs": [],
   "source": [
    "cw_mk = mk_theil_sen_1d(cw_risks)[0]"
   ]
  },
  {
   "cell_type": "code",
   "execution_count": null,
   "id": "62c94cd9-c7e1-4691-a3f5-11f645965452",
   "metadata": {},
   "outputs": [],
   "source": [
    "cw_resamples = bootstrap_mk(cw_risks, n_repeats=10000)"
   ]
  },
  {
   "cell_type": "code",
   "execution_count": null,
   "id": "661ee145-2160-4edc-ae43-d3e1e2a24a44",
   "metadata": {},
   "outputs": [],
   "source": [
    "cw_q = fn.get_quantile(cw_mk, cw_resamples)\n",
    "cw_pval = get_pvalue(cw_q)\n",
    "cw_pval"
   ]
  },
  {
   "cell_type": "markdown",
   "id": "46c7186a-86f2-4f72-b38b-2032dee32f55",
   "metadata": {},
   "source": [
    "# Close cluster"
   ]
  },
  {
   "cell_type": "code",
   "execution_count": null,
   "id": "504e69d1-9946-4060-af2e-c86dc914d350",
   "metadata": {},
   "outputs": [],
   "source": [
    "client.close()\n",
    "cluster.close()"
   ]
  },
  {
   "cell_type": "code",
   "execution_count": null,
   "id": "349157f1-0da3-4a3a-9ba9-6deae4e7e52c",
   "metadata": {},
   "outputs": [],
   "source": []
  }
 ],
 "metadata": {
  "kernelspec": {
   "display_name": "Python 3",
   "language": "python",
   "name": "python3"
  },
  "language_info": {
   "codemirror_mode": {
    "name": "ipython",
    "version": 3
   },
   "file_extension": ".py",
   "mimetype": "text/x-python",
   "name": "python",
   "nbconvert_exporter": "python",
   "pygments_lexer": "ipython3",
   "version": "3.9.4"
  }
 },
 "nbformat": 4,
 "nbformat_minor": 5
}
